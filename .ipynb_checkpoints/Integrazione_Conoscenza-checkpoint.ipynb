{
 "cells": [
  {
   "cell_type": "markdown",
   "id": "48d2eb66",
   "metadata": {},
   "source": [
    "# Integrazione della conoscenza"
   ]
  },
  {
   "cell_type": "markdown",
   "id": "adaa2291",
   "metadata": {},
   "source": [
    "## In questa sezione vengono aggiunte 4 colonne: <br /> <br /> - numberPositiveReview: indica il numero di parole positive per ogni reviewText <br /> <br /> - numberNegativeReview: indica il numero di parole negative per ogni reviewText <br /> <br /> - numberPositiveSummary: indica il numero di parole positive per ogni summary <br /> <br /> - numberNegativeSummary: indica il numero di parole negative per ogni summary"
   ]
  },
  {
   "cell_type": "markdown",
   "id": "5e4d3065",
   "metadata": {},
   "source": [
    "## Per trovare le parole positive e negative vengono utilizzati due file che contengono, rispettivamente, una lista delle parole considerate positive e una lista delle parole considerate negative"
   ]
  },
  {
   "cell_type": "markdown",
   "id": "6c16f67a",
   "metadata": {},
   "source": [
    "## I due file si possono reperire ai seguenti link:"
   ]
  },
  {
   "cell_type": "markdown",
   "id": "ed307a02",
   "metadata": {},
   "source": [
    "## - https://ptrckprry.com/course/ssd/data/positive-words.txt\n",
    "## - https://ptrckprry.com/course/ssd/data/negative-words.txt"
   ]
  },
  {
   "cell_type": "markdown",
   "id": "0b0735ae",
   "metadata": {},
   "source": [
    "### Import delle librerie e moduli necessari"
   ]
  },
  {
   "cell_type": "code",
   "execution_count": 1,
   "id": "56bf31dd",
   "metadata": {},
   "outputs": [],
   "source": [
    "import pandas as pd\n",
    "\n",
    "from bisect import bisect_left"
   ]
  },
  {
   "cell_type": "code",
   "execution_count": 2,
   "id": "47d12720",
   "metadata": {},
   "outputs": [],
   "source": [
    "# %store -d clean_dataset per cancellare\n",
    "%store -r clean_dataset"
   ]
  },
  {
   "cell_type": "code",
   "execution_count": 3,
   "id": "fcd6facb",
   "metadata": {},
   "outputs": [
    {
     "data": {
      "text/html": [
       "<div>\n",
       "<style scoped>\n",
       "    .dataframe tbody tr th:only-of-type {\n",
       "        vertical-align: middle;\n",
       "    }\n",
       "\n",
       "    .dataframe tbody tr th {\n",
       "        vertical-align: top;\n",
       "    }\n",
       "\n",
       "    .dataframe thead th {\n",
       "        text-align: right;\n",
       "    }\n",
       "</style>\n",
       "<table border=\"1\" class=\"dataframe\">\n",
       "  <thead>\n",
       "    <tr style=\"text-align: right;\">\n",
       "      <th></th>\n",
       "      <th>rating</th>\n",
       "      <th>reviewText</th>\n",
       "      <th>summary</th>\n",
       "      <th>sentiment</th>\n",
       "    </tr>\n",
       "  </thead>\n",
       "  <tbody>\n",
       "    <tr>\n",
       "      <th>0</th>\n",
       "      <td>3</td>\n",
       "      <td>jace rankin may short he nothing mess man haul...</td>\n",
       "      <td>entertain but average</td>\n",
       "      <td>0</td>\n",
       "    </tr>\n",
       "    <tr>\n",
       "      <th>1</th>\n",
       "      <td>5</td>\n",
       "      <td>great short read i didnt want put i read one s...</td>\n",
       "      <td>terrific menage scene</td>\n",
       "      <td>1</td>\n",
       "    </tr>\n",
       "    <tr>\n",
       "      <th>2</th>\n",
       "      <td>3</td>\n",
       "      <td>ill start say first four book i wasnt expect 3...</td>\n",
       "      <td>snapdragon alley</td>\n",
       "      <td>0</td>\n",
       "    </tr>\n",
       "    <tr>\n",
       "      <th>3</th>\n",
       "      <td>3</td>\n",
       "      <td>aggie angela lansbury carry pocketbook instead...</td>\n",
       "      <td>light murder cozy</td>\n",
       "      <td>0</td>\n",
       "    </tr>\n",
       "    <tr>\n",
       "      <th>4</th>\n",
       "      <td>4</td>\n",
       "      <td>i expect type book library please find price r...</td>\n",
       "      <td>book</td>\n",
       "      <td>1</td>\n",
       "    </tr>\n",
       "  </tbody>\n",
       "</table>\n",
       "</div>"
      ],
      "text/plain": [
       "   rating                                         reviewText  \\\n",
       "0       3  jace rankin may short he nothing mess man haul...   \n",
       "1       5  great short read i didnt want put i read one s...   \n",
       "2       3  ill start say first four book i wasnt expect 3...   \n",
       "3       3  aggie angela lansbury carry pocketbook instead...   \n",
       "4       4  i expect type book library please find price r...   \n",
       "\n",
       "                 summary  sentiment  \n",
       "0  entertain but average          0  \n",
       "1  terrific menage scene          1  \n",
       "2       snapdragon alley          0  \n",
       "3      light murder cozy          0  \n",
       "4                   book          1  "
      ]
     },
     "execution_count": 3,
     "metadata": {},
     "output_type": "execute_result"
    }
   ],
   "source": [
    "clean_dataset.head()"
   ]
  },
  {
   "cell_type": "markdown",
   "id": "251d9372",
   "metadata": {},
   "source": [
    "# 1. Creazione delle colonne"
   ]
  },
  {
   "cell_type": "code",
   "execution_count": 4,
   "id": "f1ccb7d2",
   "metadata": {},
   "outputs": [],
   "source": [
    "# creazione della colonna numberPositiveReview\n",
    "if not 'numberPositiveReview' in clean_dataset:\n",
    "    clean_dataset.insert(4, 'numberPositiveReview', 0)\n",
    "\n",
    "# creazione della colonna numberNegativeReview\n",
    "if not 'numberNegativeReview' in clean_dataset:\n",
    "    clean_dataset.insert(5, 'numberNegativeReview', 0)\n",
    "\n",
    "# creazione della colonna numberPositiveSummary\n",
    "if not 'numberPositiveSummary' in clean_dataset:\n",
    "    clean_dataset.insert(6, 'numberPositiveSummary', 0)\n",
    "\n",
    "# creazione della colonna numberNegativeSummary\n",
    "if not 'numberNegativeSummary' in clean_dataset:\n",
    "    clean_dataset.insert(7, 'numberNegativeSummary', 0)"
   ]
  },
  {
   "cell_type": "markdown",
   "id": "96d43aba",
   "metadata": {},
   "source": [
    "# 2. Calcolo numero parole positive/negative"
   ]
  },
  {
   "cell_type": "markdown",
   "id": "afa12b2a",
   "metadata": {},
   "source": [
    "## 2.1 Definizioni funzione per il conteggio"
   ]
  },
  {
   "cell_type": "code",
   "execution_count": 5,
   "id": "51e6f2b3",
   "metadata": {},
   "outputs": [],
   "source": [
    "def countWords(list_word, text):\n",
    "    splitted_text = text.split()\n",
    "    count = 0\n",
    "    \n",
    "    for word in splitted_text:\n",
    "        i = bisect_left(list_word, word)\n",
    "        if i != len(list_word) and list_word[i] == word:\n",
    "            count = count + 1\n",
    "    \n",
    "    if len(splitted_text) == 0:\n",
    "        return 0\n",
    "    \n",
    "    count = count / len(splitted_text)\n",
    "    count = round(count, 2)\n",
    "    return count"
   ]
  },
  {
   "cell_type": "markdown",
   "id": "6d5dac00",
   "metadata": {},
   "source": [
    "## 2.2 Conteggio per la colonna reviewText"
   ]
  },
  {
   "cell_type": "code",
   "execution_count": 6,
   "id": "b4b9df94",
   "metadata": {},
   "outputs": [],
   "source": [
    "# calcolo numero parole positive/negative della colonna reviewText\n",
    "\n",
    "list_word = []\n",
    "with open('words/positive_words.txt') as file:\n",
    "        list_word = file.read().split()\n",
    "clean_dataset[\"numberPositiveReview\"] = clean_dataset[\"reviewText\"].apply(lambda text: countWords(list_word, text))\n",
    "\n",
    "with open('words/negative_words.txt') as file:\n",
    "        list_word = file.read().split()\n",
    "clean_dataset[\"numberNegativeReview\"] = clean_dataset[\"reviewText\"].apply(lambda text: countWords(list_word, text))\n"
   ]
  },
  {
   "cell_type": "markdown",
   "id": "4b925122",
   "metadata": {},
   "source": [
    "## 2.3 Conteggio per la colonna summary"
   ]
  },
  {
   "cell_type": "code",
   "execution_count": 7,
   "id": "9200f6dd",
   "metadata": {
    "scrolled": true
   },
   "outputs": [],
   "source": [
    "# calcolo numero parole positive/negative della colonna summary\n",
    "\n",
    "list_word = []\n",
    "with open('words/positive_words.txt') as file:\n",
    "        list_word = file.read().split()\n",
    "clean_dataset[\"numberPositiveSummary\"] = clean_dataset[\"summary\"].apply(lambda text: countWords(list_word, text))\n",
    "\n",
    "with open('words/negative_words.txt') as file:\n",
    "        list_word = file.read().split()\n",
    "clean_dataset[\"numberNegativeSummary\"] = clean_dataset[\"summary\"].apply(lambda text: countWords(list_word, text))\n",
    "\n"
   ]
  },
  {
   "cell_type": "markdown",
   "id": "c1f7e23c",
   "metadata": {},
   "source": [
    "### Panormaica del dataset con colonne dei conteggi (normalizzate sul numero di parole totali per ogni review/summary)"
   ]
  },
  {
   "cell_type": "code",
   "execution_count": 8,
   "id": "a7bc68d0",
   "metadata": {},
   "outputs": [
    {
     "data": {
      "text/html": [
       "<div>\n",
       "<style scoped>\n",
       "    .dataframe tbody tr th:only-of-type {\n",
       "        vertical-align: middle;\n",
       "    }\n",
       "\n",
       "    .dataframe tbody tr th {\n",
       "        vertical-align: top;\n",
       "    }\n",
       "\n",
       "    .dataframe thead th {\n",
       "        text-align: right;\n",
       "    }\n",
       "</style>\n",
       "<table border=\"1\" class=\"dataframe\">\n",
       "  <thead>\n",
       "    <tr style=\"text-align: right;\">\n",
       "      <th></th>\n",
       "      <th>rating</th>\n",
       "      <th>reviewText</th>\n",
       "      <th>summary</th>\n",
       "      <th>sentiment</th>\n",
       "      <th>numberPositiveReview</th>\n",
       "      <th>numberNegativeReview</th>\n",
       "      <th>numberPositiveSummary</th>\n",
       "      <th>numberNegativeSummary</th>\n",
       "    </tr>\n",
       "  </thead>\n",
       "  <tbody>\n",
       "    <tr>\n",
       "      <th>0</th>\n",
       "      <td>3</td>\n",
       "      <td>jace rankin may short he nothing mess man haul...</td>\n",
       "      <td>entertain but average</td>\n",
       "      <td>0</td>\n",
       "      <td>0.05</td>\n",
       "      <td>0.10</td>\n",
       "      <td>0.33</td>\n",
       "      <td>0.00</td>\n",
       "    </tr>\n",
       "    <tr>\n",
       "      <th>1</th>\n",
       "      <td>5</td>\n",
       "      <td>great short read i didnt want put i read one s...</td>\n",
       "      <td>terrific menage scene</td>\n",
       "      <td>1</td>\n",
       "      <td>0.16</td>\n",
       "      <td>0.02</td>\n",
       "      <td>0.33</td>\n",
       "      <td>0.00</td>\n",
       "    </tr>\n",
       "    <tr>\n",
       "      <th>2</th>\n",
       "      <td>3</td>\n",
       "      <td>ill start say first four book i wasnt expect 3...</td>\n",
       "      <td>snapdragon alley</td>\n",
       "      <td>0</td>\n",
       "      <td>0.04</td>\n",
       "      <td>0.02</td>\n",
       "      <td>0.00</td>\n",
       "      <td>0.00</td>\n",
       "    </tr>\n",
       "    <tr>\n",
       "      <th>3</th>\n",
       "      <td>3</td>\n",
       "      <td>aggie angela lansbury carry pocketbook instead...</td>\n",
       "      <td>light murder cozy</td>\n",
       "      <td>0</td>\n",
       "      <td>0.09</td>\n",
       "      <td>0.12</td>\n",
       "      <td>0.33</td>\n",
       "      <td>0.33</td>\n",
       "    </tr>\n",
       "    <tr>\n",
       "      <th>4</th>\n",
       "      <td>4</td>\n",
       "      <td>i expect type book library please find price r...</td>\n",
       "      <td>book</td>\n",
       "      <td>1</td>\n",
       "      <td>0.11</td>\n",
       "      <td>0.00</td>\n",
       "      <td>0.00</td>\n",
       "      <td>0.00</td>\n",
       "    </tr>\n",
       "  </tbody>\n",
       "</table>\n",
       "</div>"
      ],
      "text/plain": [
       "   rating                                         reviewText  \\\n",
       "0       3  jace rankin may short he nothing mess man haul...   \n",
       "1       5  great short read i didnt want put i read one s...   \n",
       "2       3  ill start say first four book i wasnt expect 3...   \n",
       "3       3  aggie angela lansbury carry pocketbook instead...   \n",
       "4       4  i expect type book library please find price r...   \n",
       "\n",
       "                 summary  sentiment  numberPositiveReview  \\\n",
       "0  entertain but average          0                  0.05   \n",
       "1  terrific menage scene          1                  0.16   \n",
       "2       snapdragon alley          0                  0.04   \n",
       "3      light murder cozy          0                  0.09   \n",
       "4                   book          1                  0.11   \n",
       "\n",
       "   numberNegativeReview  numberPositiveSummary  numberNegativeSummary  \n",
       "0                  0.10                   0.33                   0.00  \n",
       "1                  0.02                   0.33                   0.00  \n",
       "2                  0.02                   0.00                   0.00  \n",
       "3                  0.12                   0.33                   0.33  \n",
       "4                  0.00                   0.00                   0.00  "
      ]
     },
     "execution_count": 8,
     "metadata": {},
     "output_type": "execute_result"
    }
   ],
   "source": [
    "\n",
    "clean_dataset.head()"
   ]
  },
  {
   "cell_type": "code",
   "execution_count": 9,
   "id": "a61a0a68",
   "metadata": {},
   "outputs": [
    {
     "name": "stdout",
     "output_type": "stream",
     "text": [
      "Stored 'clean_dataset' (DataFrame)\n"
     ]
    }
   ],
   "source": [
    "%store clean_dataset\n",
    "\n",
    "# salvataggio del dataset\n",
    "clean_dataset.to_csv('clean_dataset.csv')"
   ]
  },
  {
   "cell_type": "code",
   "execution_count": null,
   "id": "382f64b4",
   "metadata": {},
   "outputs": [],
   "source": []
  }
 ],
 "metadata": {
  "kernelspec": {
   "display_name": "Python 3 (ipykernel)",
   "language": "python",
   "name": "python3"
  },
  "language_info": {
   "codemirror_mode": {
    "name": "ipython",
    "version": 3
   },
   "file_extension": ".py",
   "mimetype": "text/x-python",
   "name": "python",
   "nbconvert_exporter": "python",
   "pygments_lexer": "ipython3",
   "version": "3.9.7"
  }
 },
 "nbformat": 4,
 "nbformat_minor": 5
}
