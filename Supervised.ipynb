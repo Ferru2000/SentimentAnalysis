{
 "cells": [
  {
   "cell_type": "markdown",
   "id": "b1c228a1",
   "metadata": {},
   "source": [
    "# Algoritmi supervisionati"
   ]
  },
  {
   "cell_type": "markdown",
   "id": "2fbe23f5",
   "metadata": {},
   "source": [
    "## In questa sezione vengono applicati gli algoritmi supervisionati"
   ]
  },
  {
   "cell_type": "markdown",
   "id": "9317ed36",
   "metadata": {},
   "source": [
    "### Import delle librerie e moduli necessari"
   ]
  },
  {
   "cell_type": "code",
   "execution_count": 1,
   "id": "18ca3f10",
   "metadata": {},
   "outputs": [],
   "source": [
    "# librerie generali\n",
    "import numpy as np\n",
    "import pandas as pd\n",
    "import matplotlib.pyplot as plt\n",
    "import math\n",
    "\n",
    "# librerie per la rappresentazione del dataset\n",
    "from sklearn.feature_extraction.text import TfidfVectorizer\n",
    "\n",
    "# libreria per suddividere il dataset in train e test set\n",
    "from sklearn.model_selection import train_test_split\n",
    "\n",
    "# libreria utilizzata per l'ottimizzazione dei parametri\n",
    "from sklearn.model_selection import GridSearchCV\n",
    "\n",
    "# librerie utilizzate per le misure\n",
    "from sklearn import metrics\n",
    "from sklearn.metrics import accuracy_score\n",
    "from sklearn.metrics import precision_score\n",
    "from sklearn.metrics import recall_score\n",
    "from sklearn.metrics import classification_report\n",
    "from sklearn.metrics import plot_confusion_matrix\n",
    "\n",
    "# libreria utilizzata per la cross validation\n",
    "from sklearn.model_selection import cross_val_score\n",
    "\n",
    "# libreria per il Random Forest\n",
    "from sklearn.ensemble import RandomForestClassifier\n",
    "from sklearn.feature_selection import SelectFromModel\n",
    "\n",
    "# libreria utilizzata per il Multinomial Naive Bayes\n",
    "from sklearn.naive_bayes import MultinomialNB\n",
    "\n",
    "# libreria utilizzata per il KNN\n",
    "from sklearn.neighbors import KNeighborsClassifier\n",
    "\n",
    "# libreria utilizzata per la rete neurale\n",
    "from sklearn.neural_network import MLPClassifier\n",
    "\n",
    "# libreria utilizzata per il support vector machine\n",
    "from sklearn.svm import SVC\n",
    "\n",
    "# seed utilizzato per la generazione del train e test set\n",
    "random_seed = 3"
   ]
  },
  {
   "cell_type": "markdown",
   "id": "9cd2b7b7",
   "metadata": {},
   "source": [
    "# 1. Creazione dataset con rappresentazione tf-idf"
   ]
  },
  {
   "cell_type": "code",
   "execution_count": 2,
   "id": "e188d69d",
   "metadata": {},
   "outputs": [],
   "source": [
    "%store -r clean_dataset"
   ]
  },
  {
   "cell_type": "code",
   "execution_count": 3,
   "id": "83785a67",
   "metadata": {},
   "outputs": [],
   "source": [
    "def createDataframeWithTfIdf(dataframe):\n",
    "    reviewText = dataframe['reviewText'].to_numpy()\n",
    "    vectorizer = TfidfVectorizer(sublinear_tf=True)\n",
    "    tfidf_vector = vectorizer.fit_transform(reviewText)\n",
    "    tfidf_df = pd.DataFrame(tfidf_vector.toarray(), index=reviewText, columns=vectorizer.get_feature_names())\n",
    "    \n",
    "    tfidf_df['numberPositiveReview'] = dataframe['numberPositiveReview'].to_numpy()\n",
    "    tfidf_df['numberNegativeReview'] = dataframe['numberNegativeReview'].to_numpy()\n",
    "    tfidf_df.reset_index(drop=True, inplace=True)\n",
    "    sentiment = dataframe['sentiment']\n",
    "    return tfidf_df, sentiment"
   ]
  },
  {
   "cell_type": "code",
   "execution_count": 4,
   "id": "8ee4946c",
   "metadata": {},
   "outputs": [],
   "source": [
    "dataset, labels = createDataframeWithTfIdf(clean_dataset)"
   ]
  },
  {
   "cell_type": "markdown",
   "id": "b944203b",
   "metadata": {},
   "source": [
    "# 2. Definizione della funzione K-fold cross validation"
   ]
  },
  {
   "cell_type": "markdown",
   "id": "6254754c",
   "metadata": {},
   "source": [
    "## Questa funzione viene utilizzata per effettuare la K-fold cross validation sui varia classificatori. La cross validation viene effettuata per valori di k in [10, 15]"
   ]
  },
  {
   "cell_type": "code",
   "execution_count": 5,
   "id": "fd0f4943",
   "metadata": {},
   "outputs": [],
   "source": [
    "def kCrossValidation(model, dataset, labels):\n",
    "    k = []\n",
    "    acc = []\n",
    "    dev = []\n",
    "\n",
    "    #nota, non viene effettuato lo shuffle dei fold, quindi sono sempre gli stessi, sono già istanziati\n",
    "    for i in range(10, 16):\n",
    "        scores = cross_val_score(model, dataset, labels, cv=i)\n",
    "        print(\"K cross validation, k= \", i)\n",
    "        k.append(i)\n",
    "        print(\"Average scores: \", scores.mean())\n",
    "        acc.append(scores.mean())\n",
    "        print(\"Standard Deviation of scores: \", scores.std())\n",
    "        dev.append(scores.std())\n",
    "        print(\"\\n\\n\")"
   ]
  },
  {
   "cell_type": "markdown",
   "id": "57945cd8",
   "metadata": {},
   "source": [
    "# 3. Random Forest"
   ]
  },
  {
   "cell_type": "markdown",
   "id": "0be00535",
   "metadata": {},
   "source": [
    "## 3.1 Random Forest: Feature Selection"
   ]
  },
  {
   "cell_type": "markdown",
   "id": "2f720045",
   "metadata": {},
   "source": [
    "### Prima di applicare il random forest per la classificazione, viene effettuata la feature selection per estrarre le feature più importanti, avendo il dataset nella rappresentazione tf-idf"
   ]
  },
  {
   "cell_type": "code",
   "execution_count": 6,
   "id": "00ddeffd",
   "metadata": {},
   "outputs": [
    {
     "name": "stdout",
     "output_type": "stream",
     "text": [
      "Numero feature selezionate: 3312\n"
     ]
    }
   ],
   "source": [
    "X_train, X_test, Y_train, Y_test = train_test_split(dataset, labels, test_size=0.2, random_state=random_seed)\n",
    "    \n",
    "rf = RandomForestClassifier(criterion = 'entropy', random_state=random_seed)\n",
    "rf.fit(X_train, Y_train)\n",
    "y_pred=rf.predict(X_test)\n",
    "\n",
    "# feature selection\n",
    "sel = SelectFromModel(rf, prefit=True)\n",
    "selected_feat = dataset.columns[(sel.get_support())]\n",
    "print(\"Numero feature selezionate: \" + str(len(selected_feat)))\n",
    "\n",
    "featureSelection_df = dataset.loc[:, sel.get_support()]"
   ]
  },
  {
   "cell_type": "code",
   "execution_count": 21,
   "id": "1274ac51",
   "metadata": {},
   "outputs": [],
   "source": [
    "featureSelection_df.to_csv('featureSelection_df.csv')"
   ]
  },
  {
   "cell_type": "markdown",
   "id": "0b3791a1",
   "metadata": {},
   "source": [
    "## 3.2 Random Forest: Parameter Tuning"
   ]
  },
  {
   "cell_type": "markdown",
   "id": "88fccb39",
   "metadata": {},
   "source": [
    "### Dopo aver effettuato la feature selection, viene attuato il paramater tuning sulle feature più importanti tramite una ricerca esaustiva dello spazio di ricerca"
   ]
  },
  {
   "cell_type": "markdown",
   "id": "df5629cd",
   "metadata": {},
   "source": [
    "### Parametri su cui viene effettuata la ricerca"
   ]
  },
  {
   "cell_type": "code",
   "execution_count": 7,
   "id": "d125c37a",
   "metadata": {},
   "outputs": [],
   "source": [
    "n_estimators_list = [40,60,80,100]\n",
    "criterion_list = ['entropy']\n",
    "max_depth_list = [35,55]\n",
    "max_depth_list.append(None)\n",
    "min_samples_split_list = [15, 30]\n",
    "min_samples_leaf_list = [5, 15, 30]\n",
    "max_features_list = ['log2']"
   ]
  },
  {
   "cell_type": "code",
   "execution_count": 8,
   "id": "b49b9886",
   "metadata": {},
   "outputs": [],
   "source": [
    "params_grid = {\n",
    "    'n_estimators': n_estimators_list,\n",
    "    'criterion': criterion_list,\n",
    "    'max_depth': max_depth_list,\n",
    "    'min_samples_split': min_samples_split_list,\n",
    "    'min_samples_leaf': min_samples_leaf_list,\n",
    "    'max_features': max_features_list\n",
    "}"
   ]
  },
  {
   "cell_type": "code",
   "execution_count": 9,
   "id": "d824c46b",
   "metadata": {},
   "outputs": [],
   "source": [
    "X_train, X_test, Y_train, Y_test = train_test_split(featureSelection_df, labels, test_size=0.2, random_state=random_seed)\n",
    "\n",
    "\n",
    "def my_acc_score(model, truncated_df, labels):\n",
    "    return metrics.accuracy_score(labels, model.predict(truncated_df))"
   ]
  },
  {
   "cell_type": "markdown",
   "id": "91b17dcc",
   "metadata": {},
   "source": [
    "### Ricerca dei parametri migliori"
   ]
  },
  {
   "cell_type": "code",
   "execution_count": 10,
   "id": "bedfd971",
   "metadata": {
    "scrolled": true
   },
   "outputs": [
    {
     "name": "stdout",
     "output_type": "stream",
     "text": [
      "Fitting 3 folds for each of 72 candidates, totalling 216 fits\n",
      "[CV] END criterion=entropy, max_depth=35, max_features=log2, min_samples_leaf=5, min_samples_split=15, n_estimators=40; total time=   0.5s\n",
      "[CV] END criterion=entropy, max_depth=35, max_features=log2, min_samples_leaf=5, min_samples_split=15, n_estimators=40; total time=   0.5s\n",
      "[CV] END criterion=entropy, max_depth=35, max_features=log2, min_samples_leaf=5, min_samples_split=15, n_estimators=40; total time=   0.5s\n",
      "[CV] END criterion=entropy, max_depth=35, max_features=log2, min_samples_leaf=5, min_samples_split=15, n_estimators=60; total time=   0.7s\n",
      "[CV] END criterion=entropy, max_depth=35, max_features=log2, min_samples_leaf=5, min_samples_split=15, n_estimators=60; total time=   0.7s\n",
      "[CV] END criterion=entropy, max_depth=35, max_features=log2, min_samples_leaf=5, min_samples_split=15, n_estimators=60; total time=   0.7s\n",
      "[CV] END criterion=entropy, max_depth=35, max_features=log2, min_samples_leaf=5, min_samples_split=15, n_estimators=80; total time=   0.8s\n",
      "[CV] END criterion=entropy, max_depth=35, max_features=log2, min_samples_leaf=5, min_samples_split=15, n_estimators=80; total time=   0.9s\n",
      "[CV] END criterion=entropy, max_depth=35, max_features=log2, min_samples_leaf=5, min_samples_split=15, n_estimators=80; total time=   0.9s\n",
      "[CV] END criterion=entropy, max_depth=35, max_features=log2, min_samples_leaf=5, min_samples_split=15, n_estimators=100; total time=   1.1s\n",
      "[CV] END criterion=entropy, max_depth=35, max_features=log2, min_samples_leaf=5, min_samples_split=15, n_estimators=100; total time=   1.1s\n",
      "[CV] END criterion=entropy, max_depth=35, max_features=log2, min_samples_leaf=5, min_samples_split=15, n_estimators=100; total time=   1.1s\n",
      "[CV] END criterion=entropy, max_depth=35, max_features=log2, min_samples_leaf=5, min_samples_split=30, n_estimators=40; total time=   0.5s\n",
      "[CV] END criterion=entropy, max_depth=35, max_features=log2, min_samples_leaf=5, min_samples_split=30, n_estimators=40; total time=   0.5s\n",
      "[CV] END criterion=entropy, max_depth=35, max_features=log2, min_samples_leaf=5, min_samples_split=30, n_estimators=40; total time=   0.5s\n",
      "[CV] END criterion=entropy, max_depth=35, max_features=log2, min_samples_leaf=5, min_samples_split=30, n_estimators=60; total time=   0.7s\n",
      "[CV] END criterion=entropy, max_depth=35, max_features=log2, min_samples_leaf=5, min_samples_split=30, n_estimators=60; total time=   0.7s\n",
      "[CV] END criterion=entropy, max_depth=35, max_features=log2, min_samples_leaf=5, min_samples_split=30, n_estimators=60; total time=   0.7s\n",
      "[CV] END criterion=entropy, max_depth=35, max_features=log2, min_samples_leaf=5, min_samples_split=30, n_estimators=80; total time=   0.9s\n",
      "[CV] END criterion=entropy, max_depth=35, max_features=log2, min_samples_leaf=5, min_samples_split=30, n_estimators=80; total time=   1.0s\n",
      "[CV] END criterion=entropy, max_depth=35, max_features=log2, min_samples_leaf=5, min_samples_split=30, n_estimators=80; total time=   0.9s\n",
      "[CV] END criterion=entropy, max_depth=35, max_features=log2, min_samples_leaf=5, min_samples_split=30, n_estimators=100; total time=   1.0s\n",
      "[CV] END criterion=entropy, max_depth=35, max_features=log2, min_samples_leaf=5, min_samples_split=30, n_estimators=100; total time=   1.1s\n",
      "[CV] END criterion=entropy, max_depth=35, max_features=log2, min_samples_leaf=5, min_samples_split=30, n_estimators=100; total time=   1.1s\n",
      "[CV] END criterion=entropy, max_depth=35, max_features=log2, min_samples_leaf=15, min_samples_split=15, n_estimators=40; total time=   0.4s\n",
      "[CV] END criterion=entropy, max_depth=35, max_features=log2, min_samples_leaf=15, min_samples_split=15, n_estimators=40; total time=   0.4s\n",
      "[CV] END criterion=entropy, max_depth=35, max_features=log2, min_samples_leaf=15, min_samples_split=15, n_estimators=40; total time=   0.4s\n",
      "[CV] END criterion=entropy, max_depth=35, max_features=log2, min_samples_leaf=15, min_samples_split=15, n_estimators=60; total time=   0.5s\n",
      "[CV] END criterion=entropy, max_depth=35, max_features=log2, min_samples_leaf=15, min_samples_split=15, n_estimators=60; total time=   0.5s\n",
      "[CV] END criterion=entropy, max_depth=35, max_features=log2, min_samples_leaf=15, min_samples_split=15, n_estimators=60; total time=   0.5s\n",
      "[CV] END criterion=entropy, max_depth=35, max_features=log2, min_samples_leaf=15, min_samples_split=15, n_estimators=80; total time=   0.7s\n",
      "[CV] END criterion=entropy, max_depth=35, max_features=log2, min_samples_leaf=15, min_samples_split=15, n_estimators=80; total time=   0.7s\n",
      "[CV] END criterion=entropy, max_depth=35, max_features=log2, min_samples_leaf=15, min_samples_split=15, n_estimators=80; total time=   0.7s\n",
      "[CV] END criterion=entropy, max_depth=35, max_features=log2, min_samples_leaf=15, min_samples_split=15, n_estimators=100; total time=   0.8s\n",
      "[CV] END criterion=entropy, max_depth=35, max_features=log2, min_samples_leaf=15, min_samples_split=15, n_estimators=100; total time=   0.9s\n",
      "[CV] END criterion=entropy, max_depth=35, max_features=log2, min_samples_leaf=15, min_samples_split=15, n_estimators=100; total time=   0.9s\n",
      "[CV] END criterion=entropy, max_depth=35, max_features=log2, min_samples_leaf=15, min_samples_split=30, n_estimators=40; total time=   0.4s\n",
      "[CV] END criterion=entropy, max_depth=35, max_features=log2, min_samples_leaf=15, min_samples_split=30, n_estimators=40; total time=   0.4s\n",
      "[CV] END criterion=entropy, max_depth=35, max_features=log2, min_samples_leaf=15, min_samples_split=30, n_estimators=40; total time=   0.4s\n",
      "[CV] END criterion=entropy, max_depth=35, max_features=log2, min_samples_leaf=15, min_samples_split=30, n_estimators=60; total time=   0.5s\n",
      "[CV] END criterion=entropy, max_depth=35, max_features=log2, min_samples_leaf=15, min_samples_split=30, n_estimators=60; total time=   0.6s\n",
      "[CV] END criterion=entropy, max_depth=35, max_features=log2, min_samples_leaf=15, min_samples_split=30, n_estimators=60; total time=   0.6s\n",
      "[CV] END criterion=entropy, max_depth=35, max_features=log2, min_samples_leaf=15, min_samples_split=30, n_estimators=80; total time=   0.7s\n",
      "[CV] END criterion=entropy, max_depth=35, max_features=log2, min_samples_leaf=15, min_samples_split=30, n_estimators=80; total time=   0.7s\n",
      "[CV] END criterion=entropy, max_depth=35, max_features=log2, min_samples_leaf=15, min_samples_split=30, n_estimators=80; total time=   0.7s\n",
      "[CV] END criterion=entropy, max_depth=35, max_features=log2, min_samples_leaf=15, min_samples_split=30, n_estimators=100; total time=   0.8s\n",
      "[CV] END criterion=entropy, max_depth=35, max_features=log2, min_samples_leaf=15, min_samples_split=30, n_estimators=100; total time=   0.9s\n",
      "[CV] END criterion=entropy, max_depth=35, max_features=log2, min_samples_leaf=15, min_samples_split=30, n_estimators=100; total time=   0.9s\n",
      "[CV] END criterion=entropy, max_depth=35, max_features=log2, min_samples_leaf=30, min_samples_split=15, n_estimators=40; total time=   0.3s\n",
      "[CV] END criterion=entropy, max_depth=35, max_features=log2, min_samples_leaf=30, min_samples_split=15, n_estimators=40; total time=   0.3s\n",
      "[CV] END criterion=entropy, max_depth=35, max_features=log2, min_samples_leaf=30, min_samples_split=15, n_estimators=40; total time=   0.3s\n",
      "[CV] END criterion=entropy, max_depth=35, max_features=log2, min_samples_leaf=30, min_samples_split=15, n_estimators=60; total time=   0.4s\n",
      "[CV] END criterion=entropy, max_depth=35, max_features=log2, min_samples_leaf=30, min_samples_split=15, n_estimators=60; total time=   0.4s\n",
      "[CV] END criterion=entropy, max_depth=35, max_features=log2, min_samples_leaf=30, min_samples_split=15, n_estimators=60; total time=   0.3s\n",
      "[CV] END criterion=entropy, max_depth=35, max_features=log2, min_samples_leaf=30, min_samples_split=15, n_estimators=80; total time=   0.5s\n",
      "[CV] END criterion=entropy, max_depth=35, max_features=log2, min_samples_leaf=30, min_samples_split=15, n_estimators=80; total time=   0.5s\n",
      "[CV] END criterion=entropy, max_depth=35, max_features=log2, min_samples_leaf=30, min_samples_split=15, n_estimators=80; total time=   0.5s\n",
      "[CV] END criterion=entropy, max_depth=35, max_features=log2, min_samples_leaf=30, min_samples_split=15, n_estimators=100; total time=   0.6s\n",
      "[CV] END criterion=entropy, max_depth=35, max_features=log2, min_samples_leaf=30, min_samples_split=15, n_estimators=100; total time=   0.6s\n"
     ]
    },
    {
     "name": "stdout",
     "output_type": "stream",
     "text": [
      "[CV] END criterion=entropy, max_depth=35, max_features=log2, min_samples_leaf=30, min_samples_split=15, n_estimators=100; total time=   0.6s\n",
      "[CV] END criterion=entropy, max_depth=35, max_features=log2, min_samples_leaf=30, min_samples_split=30, n_estimators=40; total time=   0.3s\n",
      "[CV] END criterion=entropy, max_depth=35, max_features=log2, min_samples_leaf=30, min_samples_split=30, n_estimators=40; total time=   0.3s\n",
      "[CV] END criterion=entropy, max_depth=35, max_features=log2, min_samples_leaf=30, min_samples_split=30, n_estimators=40; total time=   0.3s\n",
      "[CV] END criterion=entropy, max_depth=35, max_features=log2, min_samples_leaf=30, min_samples_split=30, n_estimators=60; total time=   0.4s\n",
      "[CV] END criterion=entropy, max_depth=35, max_features=log2, min_samples_leaf=30, min_samples_split=30, n_estimators=60; total time=   0.4s\n",
      "[CV] END criterion=entropy, max_depth=35, max_features=log2, min_samples_leaf=30, min_samples_split=30, n_estimators=60; total time=   0.4s\n",
      "[CV] END criterion=entropy, max_depth=35, max_features=log2, min_samples_leaf=30, min_samples_split=30, n_estimators=80; total time=   0.4s\n",
      "[CV] END criterion=entropy, max_depth=35, max_features=log2, min_samples_leaf=30, min_samples_split=30, n_estimators=80; total time=   0.4s\n",
      "[CV] END criterion=entropy, max_depth=35, max_features=log2, min_samples_leaf=30, min_samples_split=30, n_estimators=80; total time=   0.4s\n",
      "[CV] END criterion=entropy, max_depth=35, max_features=log2, min_samples_leaf=30, min_samples_split=30, n_estimators=100; total time=   0.5s\n",
      "[CV] END criterion=entropy, max_depth=35, max_features=log2, min_samples_leaf=30, min_samples_split=30, n_estimators=100; total time=   0.6s\n",
      "[CV] END criterion=entropy, max_depth=35, max_features=log2, min_samples_leaf=30, min_samples_split=30, n_estimators=100; total time=   0.6s\n",
      "[CV] END criterion=entropy, max_depth=55, max_features=log2, min_samples_leaf=5, min_samples_split=15, n_estimators=40; total time=   0.6s\n",
      "[CV] END criterion=entropy, max_depth=55, max_features=log2, min_samples_leaf=5, min_samples_split=15, n_estimators=40; total time=   0.6s\n",
      "[CV] END criterion=entropy, max_depth=55, max_features=log2, min_samples_leaf=5, min_samples_split=15, n_estimators=40; total time=   0.6s\n",
      "[CV] END criterion=entropy, max_depth=55, max_features=log2, min_samples_leaf=5, min_samples_split=15, n_estimators=60; total time=   0.8s\n",
      "[CV] END criterion=entropy, max_depth=55, max_features=log2, min_samples_leaf=5, min_samples_split=15, n_estimators=60; total time=   0.8s\n",
      "[CV] END criterion=entropy, max_depth=55, max_features=log2, min_samples_leaf=5, min_samples_split=15, n_estimators=60; total time=   0.8s\n",
      "[CV] END criterion=entropy, max_depth=55, max_features=log2, min_samples_leaf=5, min_samples_split=15, n_estimators=80; total time=   1.1s\n",
      "[CV] END criterion=entropy, max_depth=55, max_features=log2, min_samples_leaf=5, min_samples_split=15, n_estimators=80; total time=   1.0s\n",
      "[CV] END criterion=entropy, max_depth=55, max_features=log2, min_samples_leaf=5, min_samples_split=15, n_estimators=80; total time=   1.1s\n",
      "[CV] END criterion=entropy, max_depth=55, max_features=log2, min_samples_leaf=5, min_samples_split=15, n_estimators=100; total time=   1.3s\n",
      "[CV] END criterion=entropy, max_depth=55, max_features=log2, min_samples_leaf=5, min_samples_split=15, n_estimators=100; total time=   1.3s\n",
      "[CV] END criterion=entropy, max_depth=55, max_features=log2, min_samples_leaf=5, min_samples_split=15, n_estimators=100; total time=   1.3s\n",
      "[CV] END criterion=entropy, max_depth=55, max_features=log2, min_samples_leaf=5, min_samples_split=30, n_estimators=40; total time=   0.5s\n",
      "[CV] END criterion=entropy, max_depth=55, max_features=log2, min_samples_leaf=5, min_samples_split=30, n_estimators=40; total time=   0.6s\n",
      "[CV] END criterion=entropy, max_depth=55, max_features=log2, min_samples_leaf=5, min_samples_split=30, n_estimators=40; total time=   0.6s\n",
      "[CV] END criterion=entropy, max_depth=55, max_features=log2, min_samples_leaf=5, min_samples_split=30, n_estimators=60; total time=   0.8s\n",
      "[CV] END criterion=entropy, max_depth=55, max_features=log2, min_samples_leaf=5, min_samples_split=30, n_estimators=60; total time=   0.8s\n",
      "[CV] END criterion=entropy, max_depth=55, max_features=log2, min_samples_leaf=5, min_samples_split=30, n_estimators=60; total time=   0.8s\n",
      "[CV] END criterion=entropy, max_depth=55, max_features=log2, min_samples_leaf=5, min_samples_split=30, n_estimators=80; total time=   1.0s\n",
      "[CV] END criterion=entropy, max_depth=55, max_features=log2, min_samples_leaf=5, min_samples_split=30, n_estimators=80; total time=   1.1s\n",
      "[CV] END criterion=entropy, max_depth=55, max_features=log2, min_samples_leaf=5, min_samples_split=30, n_estimators=80; total time=   1.1s\n",
      "[CV] END criterion=entropy, max_depth=55, max_features=log2, min_samples_leaf=5, min_samples_split=30, n_estimators=100; total time=   1.3s\n",
      "[CV] END criterion=entropy, max_depth=55, max_features=log2, min_samples_leaf=5, min_samples_split=30, n_estimators=100; total time=   1.3s\n",
      "[CV] END criterion=entropy, max_depth=55, max_features=log2, min_samples_leaf=5, min_samples_split=30, n_estimators=100; total time=   1.3s\n",
      "[CV] END criterion=entropy, max_depth=55, max_features=log2, min_samples_leaf=15, min_samples_split=15, n_estimators=40; total time=   0.4s\n",
      "[CV] END criterion=entropy, max_depth=55, max_features=log2, min_samples_leaf=15, min_samples_split=15, n_estimators=40; total time=   0.4s\n",
      "[CV] END criterion=entropy, max_depth=55, max_features=log2, min_samples_leaf=15, min_samples_split=15, n_estimators=40; total time=   0.4s\n",
      "[CV] END criterion=entropy, max_depth=55, max_features=log2, min_samples_leaf=15, min_samples_split=15, n_estimators=60; total time=   0.5s\n",
      "[CV] END criterion=entropy, max_depth=55, max_features=log2, min_samples_leaf=15, min_samples_split=15, n_estimators=60; total time=   0.6s\n",
      "[CV] END criterion=entropy, max_depth=55, max_features=log2, min_samples_leaf=15, min_samples_split=15, n_estimators=60; total time=   0.5s\n",
      "[CV] END criterion=entropy, max_depth=55, max_features=log2, min_samples_leaf=15, min_samples_split=15, n_estimators=80; total time=   0.7s\n",
      "[CV] END criterion=entropy, max_depth=55, max_features=log2, min_samples_leaf=15, min_samples_split=15, n_estimators=80; total time=   0.7s\n",
      "[CV] END criterion=entropy, max_depth=55, max_features=log2, min_samples_leaf=15, min_samples_split=15, n_estimators=80; total time=   0.7s\n",
      "[CV] END criterion=entropy, max_depth=55, max_features=log2, min_samples_leaf=15, min_samples_split=15, n_estimators=100; total time=   0.8s\n",
      "[CV] END criterion=entropy, max_depth=55, max_features=log2, min_samples_leaf=15, min_samples_split=15, n_estimators=100; total time=   0.9s\n",
      "[CV] END criterion=entropy, max_depth=55, max_features=log2, min_samples_leaf=15, min_samples_split=15, n_estimators=100; total time=   0.9s\n",
      "[CV] END criterion=entropy, max_depth=55, max_features=log2, min_samples_leaf=15, min_samples_split=30, n_estimators=40; total time=   0.4s\n",
      "[CV] END criterion=entropy, max_depth=55, max_features=log2, min_samples_leaf=15, min_samples_split=30, n_estimators=40; total time=   0.4s\n",
      "[CV] END criterion=entropy, max_depth=55, max_features=log2, min_samples_leaf=15, min_samples_split=30, n_estimators=40; total time=   0.4s\n",
      "[CV] END criterion=entropy, max_depth=55, max_features=log2, min_samples_leaf=15, min_samples_split=30, n_estimators=60; total time=   0.6s\n",
      "[CV] END criterion=entropy, max_depth=55, max_features=log2, min_samples_leaf=15, min_samples_split=30, n_estimators=60; total time=   0.6s\n",
      "[CV] END criterion=entropy, max_depth=55, max_features=log2, min_samples_leaf=15, min_samples_split=30, n_estimators=60; total time=   0.5s\n",
      "[CV] END criterion=entropy, max_depth=55, max_features=log2, min_samples_leaf=15, min_samples_split=30, n_estimators=80; total time=   0.7s\n",
      "[CV] END criterion=entropy, max_depth=55, max_features=log2, min_samples_leaf=15, min_samples_split=30, n_estimators=80; total time=   0.7s\n",
      "[CV] END criterion=entropy, max_depth=55, max_features=log2, min_samples_leaf=15, min_samples_split=30, n_estimators=80; total time=   0.7s\n",
      "[CV] END criterion=entropy, max_depth=55, max_features=log2, min_samples_leaf=15, min_samples_split=30, n_estimators=100; total time=   0.9s\n"
     ]
    },
    {
     "name": "stdout",
     "output_type": "stream",
     "text": [
      "[CV] END criterion=entropy, max_depth=55, max_features=log2, min_samples_leaf=15, min_samples_split=30, n_estimators=100; total time=   0.9s\n",
      "[CV] END criterion=entropy, max_depth=55, max_features=log2, min_samples_leaf=15, min_samples_split=30, n_estimators=100; total time=   0.9s\n",
      "[CV] END criterion=entropy, max_depth=55, max_features=log2, min_samples_leaf=30, min_samples_split=15, n_estimators=40; total time=   0.3s\n",
      "[CV] END criterion=entropy, max_depth=55, max_features=log2, min_samples_leaf=30, min_samples_split=15, n_estimators=40; total time=   0.3s\n",
      "[CV] END criterion=entropy, max_depth=55, max_features=log2, min_samples_leaf=30, min_samples_split=15, n_estimators=40; total time=   0.3s\n",
      "[CV] END criterion=entropy, max_depth=55, max_features=log2, min_samples_leaf=30, min_samples_split=15, n_estimators=60; total time=   0.4s\n",
      "[CV] END criterion=entropy, max_depth=55, max_features=log2, min_samples_leaf=30, min_samples_split=15, n_estimators=60; total time=   0.4s\n",
      "[CV] END criterion=entropy, max_depth=55, max_features=log2, min_samples_leaf=30, min_samples_split=15, n_estimators=60; total time=   0.3s\n",
      "[CV] END criterion=entropy, max_depth=55, max_features=log2, min_samples_leaf=30, min_samples_split=15, n_estimators=80; total time=   0.5s\n",
      "[CV] END criterion=entropy, max_depth=55, max_features=log2, min_samples_leaf=30, min_samples_split=15, n_estimators=80; total time=   0.5s\n",
      "[CV] END criterion=entropy, max_depth=55, max_features=log2, min_samples_leaf=30, min_samples_split=15, n_estimators=80; total time=   0.4s\n",
      "[CV] END criterion=entropy, max_depth=55, max_features=log2, min_samples_leaf=30, min_samples_split=15, n_estimators=100; total time=   0.5s\n",
      "[CV] END criterion=entropy, max_depth=55, max_features=log2, min_samples_leaf=30, min_samples_split=15, n_estimators=100; total time=   0.6s\n",
      "[CV] END criterion=entropy, max_depth=55, max_features=log2, min_samples_leaf=30, min_samples_split=15, n_estimators=100; total time=   0.6s\n",
      "[CV] END criterion=entropy, max_depth=55, max_features=log2, min_samples_leaf=30, min_samples_split=30, n_estimators=40; total time=   0.3s\n",
      "[CV] END criterion=entropy, max_depth=55, max_features=log2, min_samples_leaf=30, min_samples_split=30, n_estimators=40; total time=   0.3s\n",
      "[CV] END criterion=entropy, max_depth=55, max_features=log2, min_samples_leaf=30, min_samples_split=30, n_estimators=40; total time=   0.3s\n",
      "[CV] END criterion=entropy, max_depth=55, max_features=log2, min_samples_leaf=30, min_samples_split=30, n_estimators=60; total time=   0.4s\n",
      "[CV] END criterion=entropy, max_depth=55, max_features=log2, min_samples_leaf=30, min_samples_split=30, n_estimators=60; total time=   0.4s\n",
      "[CV] END criterion=entropy, max_depth=55, max_features=log2, min_samples_leaf=30, min_samples_split=30, n_estimators=60; total time=   0.5s\n",
      "[CV] END criterion=entropy, max_depth=55, max_features=log2, min_samples_leaf=30, min_samples_split=30, n_estimators=80; total time=   0.5s\n",
      "[CV] END criterion=entropy, max_depth=55, max_features=log2, min_samples_leaf=30, min_samples_split=30, n_estimators=80; total time=   0.5s\n",
      "[CV] END criterion=entropy, max_depth=55, max_features=log2, min_samples_leaf=30, min_samples_split=30, n_estimators=80; total time=   0.5s\n",
      "[CV] END criterion=entropy, max_depth=55, max_features=log2, min_samples_leaf=30, min_samples_split=30, n_estimators=100; total time=   0.6s\n",
      "[CV] END criterion=entropy, max_depth=55, max_features=log2, min_samples_leaf=30, min_samples_split=30, n_estimators=100; total time=   0.6s\n",
      "[CV] END criterion=entropy, max_depth=55, max_features=log2, min_samples_leaf=30, min_samples_split=30, n_estimators=100; total time=   0.5s\n",
      "[CV] END criterion=entropy, max_depth=None, max_features=log2, min_samples_leaf=5, min_samples_split=15, n_estimators=40; total time=   0.6s\n",
      "[CV] END criterion=entropy, max_depth=None, max_features=log2, min_samples_leaf=5, min_samples_split=15, n_estimators=40; total time=   0.7s\n",
      "[CV] END criterion=entropy, max_depth=None, max_features=log2, min_samples_leaf=5, min_samples_split=15, n_estimators=40; total time=   0.6s\n",
      "[CV] END criterion=entropy, max_depth=None, max_features=log2, min_samples_leaf=5, min_samples_split=15, n_estimators=60; total time=   0.9s\n",
      "[CV] END criterion=entropy, max_depth=None, max_features=log2, min_samples_leaf=5, min_samples_split=15, n_estimators=60; total time=   1.0s\n",
      "[CV] END criterion=entropy, max_depth=None, max_features=log2, min_samples_leaf=5, min_samples_split=15, n_estimators=60; total time=   0.9s\n",
      "[CV] END criterion=entropy, max_depth=None, max_features=log2, min_samples_leaf=5, min_samples_split=15, n_estimators=80; total time=   1.2s\n",
      "[CV] END criterion=entropy, max_depth=None, max_features=log2, min_samples_leaf=5, min_samples_split=15, n_estimators=80; total time=   1.2s\n",
      "[CV] END criterion=entropy, max_depth=None, max_features=log2, min_samples_leaf=5, min_samples_split=15, n_estimators=80; total time=   1.2s\n",
      "[CV] END criterion=entropy, max_depth=None, max_features=log2, min_samples_leaf=5, min_samples_split=15, n_estimators=100; total time=   1.4s\n",
      "[CV] END criterion=entropy, max_depth=None, max_features=log2, min_samples_leaf=5, min_samples_split=15, n_estimators=100; total time=   1.4s\n",
      "[CV] END criterion=entropy, max_depth=None, max_features=log2, min_samples_leaf=5, min_samples_split=15, n_estimators=100; total time=   1.4s\n",
      "[CV] END criterion=entropy, max_depth=None, max_features=log2, min_samples_leaf=5, min_samples_split=30, n_estimators=40; total time=   0.6s\n",
      "[CV] END criterion=entropy, max_depth=None, max_features=log2, min_samples_leaf=5, min_samples_split=30, n_estimators=40; total time=   0.6s\n",
      "[CV] END criterion=entropy, max_depth=None, max_features=log2, min_samples_leaf=5, min_samples_split=30, n_estimators=40; total time=   0.6s\n",
      "[CV] END criterion=entropy, max_depth=None, max_features=log2, min_samples_leaf=5, min_samples_split=30, n_estimators=60; total time=   0.9s\n",
      "[CV] END criterion=entropy, max_depth=None, max_features=log2, min_samples_leaf=5, min_samples_split=30, n_estimators=60; total time=   0.9s\n",
      "[CV] END criterion=entropy, max_depth=None, max_features=log2, min_samples_leaf=5, min_samples_split=30, n_estimators=60; total time=   0.9s\n",
      "[CV] END criterion=entropy, max_depth=None, max_features=log2, min_samples_leaf=5, min_samples_split=30, n_estimators=80; total time=   1.2s\n",
      "[CV] END criterion=entropy, max_depth=None, max_features=log2, min_samples_leaf=5, min_samples_split=30, n_estimators=80; total time=   1.2s\n",
      "[CV] END criterion=entropy, max_depth=None, max_features=log2, min_samples_leaf=5, min_samples_split=30, n_estimators=80; total time=   1.3s\n",
      "[CV] END criterion=entropy, max_depth=None, max_features=log2, min_samples_leaf=5, min_samples_split=30, n_estimators=100; total time=   1.7s\n",
      "[CV] END criterion=entropy, max_depth=None, max_features=log2, min_samples_leaf=5, min_samples_split=30, n_estimators=100; total time=   1.5s\n",
      "[CV] END criterion=entropy, max_depth=None, max_features=log2, min_samples_leaf=5, min_samples_split=30, n_estimators=100; total time=   1.6s\n",
      "[CV] END criterion=entropy, max_depth=None, max_features=log2, min_samples_leaf=15, min_samples_split=15, n_estimators=40; total time=   0.4s\n",
      "[CV] END criterion=entropy, max_depth=None, max_features=log2, min_samples_leaf=15, min_samples_split=15, n_estimators=40; total time=   0.4s\n",
      "[CV] END criterion=entropy, max_depth=None, max_features=log2, min_samples_leaf=15, min_samples_split=15, n_estimators=40; total time=   0.5s\n",
      "[CV] END criterion=entropy, max_depth=None, max_features=log2, min_samples_leaf=15, min_samples_split=15, n_estimators=60; total time=   0.5s\n",
      "[CV] END criterion=entropy, max_depth=None, max_features=log2, min_samples_leaf=15, min_samples_split=15, n_estimators=60; total time=   0.5s\n",
      "[CV] END criterion=entropy, max_depth=None, max_features=log2, min_samples_leaf=15, min_samples_split=15, n_estimators=60; total time=   0.5s\n",
      "[CV] END criterion=entropy, max_depth=None, max_features=log2, min_samples_leaf=15, min_samples_split=15, n_estimators=80; total time=   0.7s\n",
      "[CV] END criterion=entropy, max_depth=None, max_features=log2, min_samples_leaf=15, min_samples_split=15, n_estimators=80; total time=   0.7s\n",
      "[CV] END criterion=entropy, max_depth=None, max_features=log2, min_samples_leaf=15, min_samples_split=15, n_estimators=80; total time=   0.7s\n"
     ]
    },
    {
     "name": "stdout",
     "output_type": "stream",
     "text": [
      "[CV] END criterion=entropy, max_depth=None, max_features=log2, min_samples_leaf=15, min_samples_split=15, n_estimators=100; total time=   0.8s\n",
      "[CV] END criterion=entropy, max_depth=None, max_features=log2, min_samples_leaf=15, min_samples_split=15, n_estimators=100; total time=   0.9s\n",
      "[CV] END criterion=entropy, max_depth=None, max_features=log2, min_samples_leaf=15, min_samples_split=15, n_estimators=100; total time=   0.9s\n",
      "[CV] END criterion=entropy, max_depth=None, max_features=log2, min_samples_leaf=15, min_samples_split=30, n_estimators=40; total time=   0.4s\n",
      "[CV] END criterion=entropy, max_depth=None, max_features=log2, min_samples_leaf=15, min_samples_split=30, n_estimators=40; total time=   0.4s\n",
      "[CV] END criterion=entropy, max_depth=None, max_features=log2, min_samples_leaf=15, min_samples_split=30, n_estimators=40; total time=   0.4s\n",
      "[CV] END criterion=entropy, max_depth=None, max_features=log2, min_samples_leaf=15, min_samples_split=30, n_estimators=60; total time=   0.5s\n",
      "[CV] END criterion=entropy, max_depth=None, max_features=log2, min_samples_leaf=15, min_samples_split=30, n_estimators=60; total time=   0.5s\n",
      "[CV] END criterion=entropy, max_depth=None, max_features=log2, min_samples_leaf=15, min_samples_split=30, n_estimators=60; total time=   0.6s\n",
      "[CV] END criterion=entropy, max_depth=None, max_features=log2, min_samples_leaf=15, min_samples_split=30, n_estimators=80; total time=   0.7s\n",
      "[CV] END criterion=entropy, max_depth=None, max_features=log2, min_samples_leaf=15, min_samples_split=30, n_estimators=80; total time=   0.7s\n",
      "[CV] END criterion=entropy, max_depth=None, max_features=log2, min_samples_leaf=15, min_samples_split=30, n_estimators=80; total time=   0.7s\n",
      "[CV] END criterion=entropy, max_depth=None, max_features=log2, min_samples_leaf=15, min_samples_split=30, n_estimators=100; total time=   0.8s\n",
      "[CV] END criterion=entropy, max_depth=None, max_features=log2, min_samples_leaf=15, min_samples_split=30, n_estimators=100; total time=   0.8s\n",
      "[CV] END criterion=entropy, max_depth=None, max_features=log2, min_samples_leaf=15, min_samples_split=30, n_estimators=100; total time=   0.8s\n",
      "[CV] END criterion=entropy, max_depth=None, max_features=log2, min_samples_leaf=30, min_samples_split=15, n_estimators=40; total time=   0.2s\n",
      "[CV] END criterion=entropy, max_depth=None, max_features=log2, min_samples_leaf=30, min_samples_split=15, n_estimators=40; total time=   0.3s\n",
      "[CV] END criterion=entropy, max_depth=None, max_features=log2, min_samples_leaf=30, min_samples_split=15, n_estimators=40; total time=   0.3s\n",
      "[CV] END criterion=entropy, max_depth=None, max_features=log2, min_samples_leaf=30, min_samples_split=15, n_estimators=60; total time=   0.4s\n",
      "[CV] END criterion=entropy, max_depth=None, max_features=log2, min_samples_leaf=30, min_samples_split=15, n_estimators=60; total time=   0.4s\n",
      "[CV] END criterion=entropy, max_depth=None, max_features=log2, min_samples_leaf=30, min_samples_split=15, n_estimators=60; total time=   0.3s\n",
      "[CV] END criterion=entropy, max_depth=None, max_features=log2, min_samples_leaf=30, min_samples_split=15, n_estimators=80; total time=   0.5s\n",
      "[CV] END criterion=entropy, max_depth=None, max_features=log2, min_samples_leaf=30, min_samples_split=15, n_estimators=80; total time=   0.5s\n",
      "[CV] END criterion=entropy, max_depth=None, max_features=log2, min_samples_leaf=30, min_samples_split=15, n_estimators=80; total time=   0.4s\n",
      "[CV] END criterion=entropy, max_depth=None, max_features=log2, min_samples_leaf=30, min_samples_split=15, n_estimators=100; total time=   0.6s\n",
      "[CV] END criterion=entropy, max_depth=None, max_features=log2, min_samples_leaf=30, min_samples_split=15, n_estimators=100; total time=   0.5s\n",
      "[CV] END criterion=entropy, max_depth=None, max_features=log2, min_samples_leaf=30, min_samples_split=15, n_estimators=100; total time=   0.5s\n",
      "[CV] END criterion=entropy, max_depth=None, max_features=log2, min_samples_leaf=30, min_samples_split=30, n_estimators=40; total time=   0.3s\n",
      "[CV] END criterion=entropy, max_depth=None, max_features=log2, min_samples_leaf=30, min_samples_split=30, n_estimators=40; total time=   0.3s\n",
      "[CV] END criterion=entropy, max_depth=None, max_features=log2, min_samples_leaf=30, min_samples_split=30, n_estimators=40; total time=   0.3s\n",
      "[CV] END criterion=entropy, max_depth=None, max_features=log2, min_samples_leaf=30, min_samples_split=30, n_estimators=60; total time=   0.4s\n",
      "[CV] END criterion=entropy, max_depth=None, max_features=log2, min_samples_leaf=30, min_samples_split=30, n_estimators=60; total time=   0.3s\n",
      "[CV] END criterion=entropy, max_depth=None, max_features=log2, min_samples_leaf=30, min_samples_split=30, n_estimators=60; total time=   0.4s\n",
      "[CV] END criterion=entropy, max_depth=None, max_features=log2, min_samples_leaf=30, min_samples_split=30, n_estimators=80; total time=   0.5s\n",
      "[CV] END criterion=entropy, max_depth=None, max_features=log2, min_samples_leaf=30, min_samples_split=30, n_estimators=80; total time=   0.4s\n",
      "[CV] END criterion=entropy, max_depth=None, max_features=log2, min_samples_leaf=30, min_samples_split=30, n_estimators=80; total time=   0.4s\n",
      "[CV] END criterion=entropy, max_depth=None, max_features=log2, min_samples_leaf=30, min_samples_split=30, n_estimators=100; total time=   0.6s\n",
      "[CV] END criterion=entropy, max_depth=None, max_features=log2, min_samples_leaf=30, min_samples_split=30, n_estimators=100; total time=   0.5s\n",
      "[CV] END criterion=entropy, max_depth=None, max_features=log2, min_samples_leaf=30, min_samples_split=30, n_estimators=100; total time=   0.5s\n"
     ]
    },
    {
     "data": {
      "text/plain": [
       "GridSearchCV(cv=3, estimator=RandomForestClassifier(class_weight='balanced'),\n",
       "             param_grid={'criterion': ['entropy'], 'max_depth': [35, 55, None],\n",
       "                         'max_features': ['log2'],\n",
       "                         'min_samples_leaf': [5, 15, 30],\n",
       "                         'min_samples_split': [15, 30],\n",
       "                         'n_estimators': [40, 60, 80, 100]},\n",
       "             return_train_score=True,\n",
       "             scoring=<function my_acc_score at 0x0000020F5C2A1A60>, verbose=2)"
      ]
     },
     "execution_count": 10,
     "metadata": {},
     "output_type": "execute_result"
    }
   ],
   "source": [
    "rf_searchParameter = GridSearchCV(estimator=RandomForestClassifier(class_weight='balanced'),\n",
    "                            param_grid=params_grid,\n",
    "                            cv=3,\n",
    "                            return_train_score=True,\n",
    "                            verbose=2,\n",
    "                            scoring = my_acc_score\n",
    "                            )\n",
    "\n",
    "rf_searchParameter.fit(X_train, Y_train)"
   ]
  },
  {
   "cell_type": "markdown",
   "id": "c50ccb14",
   "metadata": {},
   "source": [
    "### Parametri migliori trovati"
   ]
  },
  {
   "cell_type": "code",
   "execution_count": 11,
   "id": "719b1575",
   "metadata": {
    "scrolled": true
   },
   "outputs": [
    {
     "name": "stdout",
     "output_type": "stream",
     "text": [
      "Parametri migliori trovati:\n",
      "\n",
      "('criterion', 'entropy')\n",
      "('max_depth', None)\n",
      "('max_features', 'log2')\n",
      "('min_samples_leaf', 5)\n",
      "('min_samples_split', 30)\n",
      "('n_estimators', 100)\n"
     ]
    }
   ],
   "source": [
    "best_param = rf_searchParameter.best_params_\n",
    "print(\"Parametri migliori trovati:\\n\")\n",
    "for pair in best_param.items():\n",
    "    print(pair)"
   ]
  },
  {
   "cell_type": "code",
   "execution_count": 12,
   "id": "d24cbbe1",
   "metadata": {},
   "outputs": [
    {
     "data": {
      "text/html": [
       "<div>\n",
       "<style scoped>\n",
       "    .dataframe tbody tr th:only-of-type {\n",
       "        vertical-align: middle;\n",
       "    }\n",
       "\n",
       "    .dataframe tbody tr th {\n",
       "        vertical-align: top;\n",
       "    }\n",
       "\n",
       "    .dataframe thead th {\n",
       "        text-align: right;\n",
       "    }\n",
       "</style>\n",
       "<table border=\"1\" class=\"dataframe\">\n",
       "  <thead>\n",
       "    <tr style=\"text-align: right;\">\n",
       "      <th></th>\n",
       "      <th>rank_test_score</th>\n",
       "      <th>mean_test_score</th>\n",
       "      <th>mean_train_score</th>\n",
       "      <th>param_n_estimators</th>\n",
       "      <th>param_min_samples_split</th>\n",
       "      <th>param_min_samples_leaf</th>\n",
       "      <th>param_max_features</th>\n",
       "      <th>param_max_depth</th>\n",
       "      <th>param_criterion</th>\n",
       "    </tr>\n",
       "  </thead>\n",
       "  <tbody>\n",
       "    <tr>\n",
       "      <th>55</th>\n",
       "      <td>1</td>\n",
       "      <td>0.803229</td>\n",
       "      <td>0.893542</td>\n",
       "      <td>100</td>\n",
       "      <td>30</td>\n",
       "      <td>5</td>\n",
       "      <td>log2</td>\n",
       "      <td>None</td>\n",
       "      <td>entropy</td>\n",
       "    </tr>\n",
       "    <tr>\n",
       "      <th>31</th>\n",
       "      <td>2</td>\n",
       "      <td>0.802188</td>\n",
       "      <td>0.884583</td>\n",
       "      <td>100</td>\n",
       "      <td>30</td>\n",
       "      <td>5</td>\n",
       "      <td>log2</td>\n",
       "      <td>55</td>\n",
       "      <td>entropy</td>\n",
       "    </tr>\n",
       "    <tr>\n",
       "      <th>51</th>\n",
       "      <td>3</td>\n",
       "      <td>0.801771</td>\n",
       "      <td>0.894167</td>\n",
       "      <td>100</td>\n",
       "      <td>15</td>\n",
       "      <td>5</td>\n",
       "      <td>log2</td>\n",
       "      <td>None</td>\n",
       "      <td>entropy</td>\n",
       "    </tr>\n",
       "    <tr>\n",
       "      <th>50</th>\n",
       "      <td>4</td>\n",
       "      <td>0.801458</td>\n",
       "      <td>0.890729</td>\n",
       "      <td>80</td>\n",
       "      <td>15</td>\n",
       "      <td>5</td>\n",
       "      <td>log2</td>\n",
       "      <td>None</td>\n",
       "      <td>entropy</td>\n",
       "    </tr>\n",
       "    <tr>\n",
       "      <th>26</th>\n",
       "      <td>5</td>\n",
       "      <td>0.801146</td>\n",
       "      <td>0.881563</td>\n",
       "      <td>80</td>\n",
       "      <td>15</td>\n",
       "      <td>5</td>\n",
       "      <td>log2</td>\n",
       "      <td>55</td>\n",
       "      <td>entropy</td>\n",
       "    </tr>\n",
       "    <tr>\n",
       "      <th>30</th>\n",
       "      <td>6</td>\n",
       "      <td>0.800208</td>\n",
       "      <td>0.882448</td>\n",
       "      <td>80</td>\n",
       "      <td>30</td>\n",
       "      <td>5</td>\n",
       "      <td>log2</td>\n",
       "      <td>55</td>\n",
       "      <td>entropy</td>\n",
       "    </tr>\n",
       "    <tr>\n",
       "      <th>54</th>\n",
       "      <td>7</td>\n",
       "      <td>0.799583</td>\n",
       "      <td>0.892344</td>\n",
       "      <td>80</td>\n",
       "      <td>30</td>\n",
       "      <td>5</td>\n",
       "      <td>log2</td>\n",
       "      <td>None</td>\n",
       "      <td>entropy</td>\n",
       "    </tr>\n",
       "    <tr>\n",
       "      <th>3</th>\n",
       "      <td>8</td>\n",
       "      <td>0.798125</td>\n",
       "      <td>0.874948</td>\n",
       "      <td>100</td>\n",
       "      <td>15</td>\n",
       "      <td>5</td>\n",
       "      <td>log2</td>\n",
       "      <td>35</td>\n",
       "      <td>entropy</td>\n",
       "    </tr>\n",
       "    <tr>\n",
       "      <th>53</th>\n",
       "      <td>9</td>\n",
       "      <td>0.798021</td>\n",
       "      <td>0.886927</td>\n",
       "      <td>60</td>\n",
       "      <td>30</td>\n",
       "      <td>5</td>\n",
       "      <td>log2</td>\n",
       "      <td>None</td>\n",
       "      <td>entropy</td>\n",
       "    </tr>\n",
       "    <tr>\n",
       "      <th>49</th>\n",
       "      <td>10</td>\n",
       "      <td>0.797083</td>\n",
       "      <td>0.891719</td>\n",
       "      <td>60</td>\n",
       "      <td>15</td>\n",
       "      <td>5</td>\n",
       "      <td>log2</td>\n",
       "      <td>None</td>\n",
       "      <td>entropy</td>\n",
       "    </tr>\n",
       "  </tbody>\n",
       "</table>\n",
       "</div>"
      ],
      "text/plain": [
       "    rank_test_score  mean_test_score  mean_train_score param_n_estimators  \\\n",
       "55                1         0.803229          0.893542                100   \n",
       "31                2         0.802188          0.884583                100   \n",
       "51                3         0.801771          0.894167                100   \n",
       "50                4         0.801458          0.890729                 80   \n",
       "26                5         0.801146          0.881563                 80   \n",
       "30                6         0.800208          0.882448                 80   \n",
       "54                7         0.799583          0.892344                 80   \n",
       "3                 8         0.798125          0.874948                100   \n",
       "53                9         0.798021          0.886927                 60   \n",
       "49               10         0.797083          0.891719                 60   \n",
       "\n",
       "   param_min_samples_split param_min_samples_leaf param_max_features  \\\n",
       "55                      30                      5               log2   \n",
       "31                      30                      5               log2   \n",
       "51                      15                      5               log2   \n",
       "50                      15                      5               log2   \n",
       "26                      15                      5               log2   \n",
       "30                      30                      5               log2   \n",
       "54                      30                      5               log2   \n",
       "3                       15                      5               log2   \n",
       "53                      30                      5               log2   \n",
       "49                      15                      5               log2   \n",
       "\n",
       "   param_max_depth param_criterion  \n",
       "55            None         entropy  \n",
       "31              55         entropy  \n",
       "51            None         entropy  \n",
       "50            None         entropy  \n",
       "26              55         entropy  \n",
       "30              55         entropy  \n",
       "54            None         entropy  \n",
       "3               35         entropy  \n",
       "53            None         entropy  \n",
       "49            None         entropy  "
      ]
     },
     "execution_count": 12,
     "metadata": {},
     "output_type": "execute_result"
    }
   ],
   "source": [
    "df_cv_results = pd.DataFrame(rf_searchParameter.cv_results_)\n",
    "df_cv_results = df_cv_results[['rank_test_score','mean_test_score','mean_train_score',\n",
    "                           'param_n_estimators', 'param_min_samples_split','param_min_samples_leaf',\n",
    "                           'param_max_features', 'param_max_depth','param_criterion']]\n",
    "df_cv_results.sort_values('rank_test_score', inplace=True)\n",
    "df_cv_results[:10]"
   ]
  },
  {
   "cell_type": "markdown",
   "id": "01e25829",
   "metadata": {},
   "source": [
    "## 3.3 Random Forest: Classificazione"
   ]
  },
  {
   "cell_type": "markdown",
   "id": "90f097af",
   "metadata": {},
   "source": [
    "### Prendo i parametri migliori trovati per effettuare la classificazione"
   ]
  },
  {
   "cell_type": "code",
   "execution_count": 13,
   "id": "67229a5b",
   "metadata": {},
   "outputs": [],
   "source": [
    "n_estimators_found = best_param.get('n_estimators')\n",
    "max_depth_found = best_param.get('max_depth')\n",
    "max_features_found = best_param.get('max_features')\n",
    "min_samples_leaf_found = best_param.get('min_samples_leaf')\n",
    "min_samples_split_found = best_param.get('min_samples_split')\n",
    "criterion_found = best_param.get('criterion')"
   ]
  },
  {
   "cell_type": "markdown",
   "id": "56fe9575",
   "metadata": {},
   "source": [
    "### Task di classificazione"
   ]
  },
  {
   "cell_type": "code",
   "execution_count": 14,
   "id": "c22b7d4c",
   "metadata": {},
   "outputs": [],
   "source": [
    "rf = RandomForestClassifier(n_estimators = n_estimators_found, \n",
    "                            criterion = criterion_found,\n",
    "                            class_weight= 'balanced',\n",
    "                            max_depth= max_depth_found,\n",
    "                            max_features= max_features_found,\n",
    "                            min_samples_leaf= min_samples_leaf_found,\n",
    "                            min_samples_split= min_samples_split_found)\n",
    "rf.fit(X_train, Y_train)\n",
    "y_predicted = rf.predict(X_test)"
   ]
  },
  {
   "cell_type": "code",
   "execution_count": 15,
   "id": "23734ca8",
   "metadata": {
    "scrolled": true
   },
   "outputs": [
    {
     "name": "stdout",
     "output_type": "stream",
     "text": [
      "Accuracy score: 0.8091666666666667\n",
      "              precision    recall  f1-score   support\n",
      "\n",
      "    Negativo       0.81      0.81      0.81      1213\n",
      "    Positivo       0.81      0.81      0.81      1187\n",
      "\n",
      "    accuracy                           0.81      2400\n",
      "   macro avg       0.81      0.81      0.81      2400\n",
      "weighted avg       0.81      0.81      0.81      2400\n",
      "\n"
     ]
    }
   ],
   "source": [
    "print(\"Accuracy score:\",accuracy_score(Y_test, y_predicted))\n",
    "print(classification_report(Y_test, y_predicted, target_names=[\"Negativo\", \"Positivo\"]))"
   ]
  },
  {
   "cell_type": "markdown",
   "id": "4957ea73",
   "metadata": {},
   "source": [
    "## K-fold Cross Validation"
   ]
  },
  {
   "cell_type": "code",
   "execution_count": 16,
   "id": "3d127f93",
   "metadata": {},
   "outputs": [
    {
     "name": "stdout",
     "output_type": "stream",
     "text": [
      "K cross validation, k=  10\n",
      "Average scores:  0.8038333333333334\n",
      "Standard Deviation of scores:  0.008166666666666687\n",
      "\n",
      "\n",
      "\n",
      "K cross validation, k=  11\n",
      "Average scores:  0.8052494860902264\n",
      "Standard Deviation of scores:  0.008978137466449022\n",
      "\n",
      "\n",
      "\n",
      "K cross validation, k=  12\n",
      "Average scores:  0.8035833333333334\n",
      "Standard Deviation of scores:  0.00698162270217717\n",
      "\n",
      "\n",
      "\n",
      "K cross validation, k=  13\n",
      "Average scores:  0.8053336154636261\n",
      "Standard Deviation of scores:  0.011225115125116007\n",
      "\n",
      "\n",
      "\n",
      "K cross validation, k=  14\n",
      "Average scores:  0.8065004812379375\n",
      "Standard Deviation of scores:  0.013621049094152416\n",
      "\n",
      "\n",
      "\n",
      "K cross validation, k=  15\n",
      "Average scores:  0.8063333333333332\n",
      "Standard Deviation of scores:  0.009889669132764522\n",
      "\n",
      "\n",
      "\n"
     ]
    }
   ],
   "source": [
    "kCrossValidation(rf, featureSelection_df, labels)"
   ]
  },
  {
   "cell_type": "markdown",
   "id": "a7dfbb8e",
   "metadata": {},
   "source": [
    "# 4. Multinomial Naive Bayes"
   ]
  },
  {
   "cell_type": "markdown",
   "id": "6c9e48f6",
   "metadata": {},
   "source": [
    "## Task di classificazione"
   ]
  },
  {
   "cell_type": "code",
   "execution_count": 17,
   "id": "22ec37a8",
   "metadata": {},
   "outputs": [],
   "source": [
    "X_train, X_test, Y_train, Y_test = train_test_split(featureSelection_df, labels, test_size=0.2, random_state=random_seed)\n",
    "nb = MultinomialNB()\n",
    "nb.fit(X_train, Y_train)\n",
    "y_predicted = nb.predict(X_test)"
   ]
  },
  {
   "cell_type": "code",
   "execution_count": 18,
   "id": "f1401ea9",
   "metadata": {
    "scrolled": true
   },
   "outputs": [
    {
     "name": "stdout",
     "output_type": "stream",
     "text": [
      "Accuracy score:  0.82\n",
      "              precision    recall  f1-score   support\n",
      "\n",
      "    Negativo       0.82      0.82      0.82      1213\n",
      "    Positivo       0.82      0.82      0.82      1187\n",
      "\n",
      "    accuracy                           0.82      2400\n",
      "   macro avg       0.82      0.82      0.82      2400\n",
      "weighted avg       0.82      0.82      0.82      2400\n",
      "\n"
     ]
    }
   ],
   "source": [
    "print(\"Accuracy score: \", accuracy_score(Y_test, y_predicted))\n",
    "print(classification_report(Y_test, y_predicted, target_names=[\"Negativo\", \"Positivo\"]))\n",
    "    "
   ]
  },
  {
   "cell_type": "markdown",
   "id": "272fe7f2",
   "metadata": {},
   "source": [
    "## K-fold Cross Validation"
   ]
  },
  {
   "cell_type": "code",
   "execution_count": 19,
   "id": "0f21df87",
   "metadata": {},
   "outputs": [
    {
     "name": "stdout",
     "output_type": "stream",
     "text": [
      "K cross validation, k=  10\n",
      "Average scores:  0.8231666666666667\n",
      "Standard Deviation of scores:  0.00856186635936087\n",
      "\n",
      "\n",
      "\n",
      "K cross validation, k=  11\n",
      "Average scores:  0.8231677941211321\n",
      "Standard Deviation of scores:  0.008382776987033819\n",
      "\n",
      "\n",
      "\n",
      "K cross validation, k=  12\n",
      "Average scores:  0.8236666666666665\n",
      "Standard Deviation of scores:  0.007453559924999268\n",
      "\n",
      "\n",
      "\n",
      "K cross validation, k=  13\n",
      "Average scores:  0.8230005819388269\n",
      "Standard Deviation of scores:  0.010592664511966129\n",
      "\n",
      "\n",
      "\n",
      "K cross validation, k=  14\n",
      "Average scores:  0.8225840670414766\n",
      "Standard Deviation of scores:  0.0123571097447494\n",
      "\n",
      "\n",
      "\n",
      "K cross validation, k=  15\n",
      "Average scores:  0.8241666666666666\n",
      "Standard Deviation of scores:  0.00976459022295469\n",
      "\n",
      "\n",
      "\n"
     ]
    }
   ],
   "source": [
    "kCrossValidation(nb, featureSelection_df, labels)"
   ]
  },
  {
   "cell_type": "markdown",
   "id": "5e1ea89d",
   "metadata": {},
   "source": [
    "# 5. KNN"
   ]
  },
  {
   "cell_type": "markdown",
   "id": "fe133a3f",
   "metadata": {},
   "source": [
    "## 5.1 Trovare il k migliore"
   ]
  },
  {
   "cell_type": "markdown",
   "id": "3e68a7c5",
   "metadata": {},
   "source": [
    "### Prima di effettuare la classifcazione con il KNN, si cerca il valore k migliore che identifica il numero di neighbors su cui basarsi per la classficazione"
   ]
  },
  {
   "cell_type": "markdown",
   "id": "3b8435ef",
   "metadata": {},
   "source": [
    "### La ricerca di k viene effettuata per i seguenti valori: [9,11,13,15,17,19,97]"
   ]
  },
  {
   "cell_type": "markdown",
   "id": "ba80e356",
   "metadata": {},
   "source": [
    "### Funzione che ricerca il k migliore"
   ]
  },
  {
   "cell_type": "code",
   "execution_count": 20,
   "id": "6680168b",
   "metadata": {},
   "outputs": [],
   "source": [
    "def findBestK(dataset, labels):\n",
    "    X_train, X_test, Y_train, Y_test = train_test_split(dataset, labels, test_size=0.2, random_state=random_seed)\n",
    "    error = []\n",
    "    \n",
    "    acc_train = []\n",
    "    acc_test = []\n",
    "    max_acc_test = 0\n",
    "    max_acc_train = 0\n",
    "    best_k = 0\n",
    "    \n",
    "    root = int(math.sqrt(X_train.shape[0]))\n",
    "    k = [9,11,13,15,17,19]\n",
    "    k.append(root)\n",
    "    \n",
    "    for i in k:\n",
    "        print(str(i) + \" Neighbors\")\n",
    "        knn = KNeighborsClassifier(n_neighbors=i)\n",
    "        knn.fit(X_train, Y_train)\n",
    "        pred_i = knn.predict(X_test)\n",
    "        \n",
    "        error.append(np.mean(pred_i != Y_test))\n",
    "        \n",
    "        print(\"train: \", knn.score(X_train, Y_train))\n",
    "        print(\"test: \", knn.score(X_test, Y_test))\n",
    "        acc_train.append(knn.score(X_train, Y_train))\n",
    "        acc_test.append(knn.score(X_test, Y_test))\n",
    "        print()\n",
    "        if knn.score(X_train, Y_train) >= max_acc_train and knn.score(X_test, Y_test) >= max_acc_test:\n",
    "            best_k = i\n",
    "            max_acc_test = knn.score(X_test, Y_test)\n",
    "            max_acc_train = knn.score(X_train, Y_train)\n",
    "        \n",
    "    print(\"\\nErrori per i vari k:\\n\")\n",
    "    print(error)\n",
    "    \n",
    "    x=[9,11,13,15,17,19,97]\n",
    "    values = range(len(x))\n",
    "\n",
    "    plt.figure(figsize=(12, 6))\n",
    "    plt.xticks(values,x)\n",
    "    plt.plot(values, error, color='red', linestyle='dashed', marker='o',\n",
    "             markerfacecolor='blue', markersize=10)\n",
    "    plt.title('Error Rate K Value')\n",
    "    plt.xlabel('K Value')\n",
    "    plt.ylabel('Mean Error')\n",
    "\n",
    "    return best_k"
   ]
  },
  {
   "cell_type": "markdown",
   "id": "c3abc54f",
   "metadata": {},
   "source": [
    "## 5.2 KNN: Classificazione"
   ]
  },
  {
   "cell_type": "markdown",
   "id": "a67af493",
   "metadata": {},
   "source": [
    "### Task di classificazione"
   ]
  },
  {
   "cell_type": "code",
   "execution_count": 21,
   "id": "9b79f10c",
   "metadata": {},
   "outputs": [],
   "source": [
    "X_train, X_test, Y_train, Y_test = train_test_split(featureSelection_df, labels, test_size=0.2, random_state=random_seed)\n"
   ]
  },
  {
   "cell_type": "code",
   "execution_count": 22,
   "id": "7d4c5ca1",
   "metadata": {
    "scrolled": true
   },
   "outputs": [
    {
     "name": "stdout",
     "output_type": "stream",
     "text": [
      "9 Neighbors\n",
      "train:  0.6104166666666667\n",
      "test:  0.54\n",
      "\n",
      "11 Neighbors\n",
      "train:  0.5790625\n",
      "test:  0.5320833333333334\n",
      "\n",
      "13 Neighbors\n",
      "train:  0.5598958333333334\n",
      "test:  0.5258333333333334\n",
      "\n",
      "15 Neighbors\n",
      "train:  0.5489583333333333\n",
      "test:  0.5241666666666667\n",
      "\n",
      "17 Neighbors\n",
      "train:  0.5434375\n",
      "test:  0.5229166666666667\n",
      "\n",
      "19 Neighbors\n",
      "train:  0.5421875\n",
      "test:  0.5258333333333334\n",
      "\n",
      "97 Neighbors\n",
      "train:  0.5359375\n",
      "test:  0.5245833333333333\n",
      "\n",
      "\n",
      "Errori per i vari k:\n",
      "\n",
      "[0.46, 0.46791666666666665, 0.4741666666666667, 0.47583333333333333, 0.47708333333333336, 0.4741666666666667, 0.47541666666666665]\n"
     ]
    },
    {
     "data": {
      "image/png": "[encoded data removed]",
      "text/plain": [
       "<Figure size 864x432 with 1 Axes>"
      ]
     },
     "metadata": {
      "needs_background": "light"
     },
     "output_type": "display_data"
    }
   ],
   "source": [
    "k = findBestK(featureSelection_df, labels)\n",
    "knc = KNeighborsClassifier(n_neighbors=k, weights=\"distance\")\n",
    "knc.fit(X_train, Y_train)\n",
    "y_predicted = knc.predict(X_test)"
   ]
  },
  {
   "cell_type": "code",
   "execution_count": 23,
   "id": "3a0d82b0",
   "metadata": {},
   "outputs": [
    {
     "name": "stdout",
     "output_type": "stream",
     "text": [
      "Accuracy score:  0.5404166666666667\n",
      "              precision    recall  f1-score   support\n",
      "\n",
      "    Negativo       0.88      0.10      0.19      1213\n",
      "    Positivo       0.52      0.99      0.68      1187\n",
      "\n",
      "    accuracy                           0.54      2400\n",
      "   macro avg       0.70      0.55      0.43      2400\n",
      "weighted avg       0.70      0.54      0.43      2400\n",
      "\n"
     ]
    }
   ],
   "source": [
    "print(\"Accuracy score: \", accuracy_score(Y_test, y_predicted))\n",
    "print(classification_report(Y_test, y_predicted, target_names=[\"Negativo\", \"Positivo\"]))"
   ]
  },
  {
   "cell_type": "markdown",
   "id": "c27dcded",
   "metadata": {},
   "source": [
    "## K-fold Cross Validation"
   ]
  },
  {
   "cell_type": "code",
   "execution_count": 24,
   "id": "f1acfc4c",
   "metadata": {},
   "outputs": [
    {
     "name": "stdout",
     "output_type": "stream",
     "text": [
      "K cross validation, k=  10\n",
      "Average scores:  0.5578333333333333\n",
      "Standard Deviation of scores:  0.006626965117357015\n",
      "\n",
      "\n",
      "\n",
      "K cross validation, k=  11\n",
      "Average scores:  0.5579165038999044\n",
      "Standard Deviation of scores:  0.008445549926805445\n",
      "\n",
      "\n",
      "\n",
      "K cross validation, k=  12\n",
      "Average scores:  0.5598333333333333\n",
      "Standard Deviation of scores:  0.018774243585887057\n",
      "\n",
      "\n",
      "\n",
      "K cross validation, k=  13\n",
      "Average scores:  0.5579165327269335\n",
      "Standard Deviation of scores:  0.013404749852763968\n",
      "\n",
      "\n",
      "\n",
      "K cross validation, k=  14\n",
      "Average scores:  0.5570016331393228\n",
      "Standard Deviation of scores:  0.01016748399428705\n",
      "\n",
      "\n",
      "\n",
      "K cross validation, k=  15\n",
      "Average scores:  0.5575\n",
      "Standard Deviation of scores:  0.009800085033644693\n",
      "\n",
      "\n",
      "\n"
     ]
    }
   ],
   "source": [
    "kCrossValidation(knc, featureSelection_df, labels)"
   ]
  },
  {
   "cell_type": "markdown",
   "id": "dc3bc10f",
   "metadata": {},
   "source": [
    "# 6. Artificial Neural Network"
   ]
  },
  {
   "cell_type": "markdown",
   "id": "14c85fe0",
   "metadata": {},
   "source": [
    "## 6.1 Ottimizzazione dei parametri della rete neurale"
   ]
  },
  {
   "cell_type": "code",
   "execution_count": 25,
   "id": "7ccf7b4a",
   "metadata": {},
   "outputs": [],
   "source": [
    "X_train, X_test, Y_train, Y_test = train_test_split(featureSelection_df, labels, test_size=0.2, random_state=random_seed)"
   ]
  },
  {
   "cell_type": "code",
   "execution_count": 13,
   "id": "8d79505b",
   "metadata": {},
   "outputs": [],
   "source": [
    "mlp = MLPClassifier(max_iter=200, random_state = random_seed)"
   ]
  },
  {
   "cell_type": "markdown",
   "id": "2fd18149",
   "metadata": {},
   "source": [
    "### Paramatri su cui viene effettuata la ricerca"
   ]
  },
  {
   "cell_type": "code",
   "execution_count": 14,
   "id": "ca95b2d9",
   "metadata": {},
   "outputs": [],
   "source": [
    "parameter_space = {\n",
    "    'hidden_layer_sizes': [(200,150,100)],\n",
    "    'activation': ['relu', 'logistic'],\n",
    "    'solver': ['adam', 'sgd'],\n",
    "    'alpha': [0.005, 0.0001],\n",
    "    'learning_rate': ['constant'],\n",
    "    }"
   ]
  },
  {
   "cell_type": "markdown",
   "id": "acb29416",
   "metadata": {},
   "source": [
    "### Ricerca dei parametri"
   ]
  },
  {
   "cell_type": "code",
   "execution_count": 15,
   "id": "ef892998",
   "metadata": {},
   "outputs": [
    {
     "data": {
      "text/plain": [
       "GridSearchCV(cv=3, estimator=MLPClassifier(random_state=3), n_jobs=-1,\n",
       "             param_grid={'activation': ['relu', 'logistic'],\n",
       "                         'alpha': [0.005, 0.0001],\n",
       "                         'hidden_layer_sizes': [(200, 150, 100)],\n",
       "                         'learning_rate': ['constant'],\n",
       "                         'solver': ['adam', 'sgd']})"
      ]
     },
     "execution_count": 15,
     "metadata": {},
     "output_type": "execute_result"
    }
   ],
   "source": [
    "clf = GridSearchCV(mlp, parameter_space, n_jobs=-1, cv=3)\n",
    "clf.fit(X_train, Y_train)\n"
   ]
  },
  {
   "cell_type": "markdown",
   "id": "facd01c6",
   "metadata": {},
   "source": [
    "### Parametri migliori trovati"
   ]
  },
  {
   "cell_type": "code",
   "execution_count": 16,
   "id": "2cd0a347",
   "metadata": {},
   "outputs": [
    {
     "name": "stdout",
     "output_type": "stream",
     "text": [
      "Parametri migliori:\n",
      " {'activation': 'relu', 'alpha': 0.0001, 'hidden_layer_sizes': (200, 150, 100), 'learning_rate': 'constant', 'solver': 'adam'}\n"
     ]
    }
   ],
   "source": [
    "print('Parametri migliori:\\n', clf.best_params_)"
   ]
  },
  {
   "cell_type": "code",
   "execution_count": 17,
   "id": "e11a0f71",
   "metadata": {},
   "outputs": [
    {
     "name": "stdout",
     "output_type": "stream",
     "text": [
      "0.788 (+/-0.023) for {'activation': 'relu', 'alpha': 0.005, 'hidden_layer_sizes': (200, 150, 100), 'learning_rate': 'constant', 'solver': 'adam'}\n",
      "0.734 (+/-0.238) for {'activation': 'relu', 'alpha': 0.005, 'hidden_layer_sizes': (200, 150, 100), 'learning_rate': 'constant', 'solver': 'sgd'}\n",
      "0.792 (+/-0.021) for {'activation': 'relu', 'alpha': 0.0001, 'hidden_layer_sizes': (200, 150, 100), 'learning_rate': 'constant', 'solver': 'adam'}\n",
      "0.734 (+/-0.238) for {'activation': 'relu', 'alpha': 0.0001, 'hidden_layer_sizes': (200, 150, 100), 'learning_rate': 'constant', 'solver': 'sgd'}\n",
      "0.761 (+/-0.011) for {'activation': 'logistic', 'alpha': 0.005, 'hidden_layer_sizes': (200, 150, 100), 'learning_rate': 'constant', 'solver': 'adam'}\n",
      "0.501 (+/-0.003) for {'activation': 'logistic', 'alpha': 0.005, 'hidden_layer_sizes': (200, 150, 100), 'learning_rate': 'constant', 'solver': 'sgd'}\n",
      "0.763 (+/-0.023) for {'activation': 'logistic', 'alpha': 0.0001, 'hidden_layer_sizes': (200, 150, 100), 'learning_rate': 'constant', 'solver': 'adam'}\n",
      "0.501 (+/-0.003) for {'activation': 'logistic', 'alpha': 0.0001, 'hidden_layer_sizes': (200, 150, 100), 'learning_rate': 'constant', 'solver': 'sgd'}\n"
     ]
    }
   ],
   "source": [
    "means = clf.cv_results_['mean_test_score']\n",
    "stds = clf.cv_results_['std_test_score']\n",
    "for mean, std, params in zip(means, stds, clf.cv_results_['params']):\n",
    "    print(\"%0.3f (+/-%0.03f) for %r\" % (mean, std * 2, params))"
   ]
  },
  {
   "cell_type": "markdown",
   "id": "392eab2b",
   "metadata": {},
   "source": [
    "## 6.2 Artificial Neural Network: Classificazione"
   ]
  },
  {
   "cell_type": "markdown",
   "id": "88240425",
   "metadata": {},
   "source": [
    "### Prendo i parametri migliori trovati"
   ]
  },
  {
   "cell_type": "code",
   "execution_count": 18,
   "id": "6671ff7d",
   "metadata": {},
   "outputs": [],
   "source": [
    "best_params = clf.best_params_ \n",
    "\n",
    "hidden_layer_sizes_found = best_params.get('hidden_layer_sizes')\n",
    "activation_found = best_params.get('activation')\n",
    "solver_found = best_params.get('solver')\n",
    "alpha_found = best_params.get('alpha')\n",
    "learning_rate_found = best_params.get('learning_rate')"
   ]
  },
  {
   "cell_type": "markdown",
   "id": "867429c5",
   "metadata": {},
   "source": [
    "### Task di classificazione"
   ]
  },
  {
   "cell_type": "code",
   "execution_count": 19,
   "id": "18e2045a",
   "metadata": {},
   "outputs": [],
   "source": [
    "mlp = MLPClassifier(max_iter=200, \n",
    "                    random_state = random_seed,\n",
    "                    hidden_layer_sizes = hidden_layer_sizes_found,\n",
    "                    activation = activation_found,\n",
    "                    solver = solver_found,\n",
    "                    alpha = alpha_found,\n",
    "                    learning_rate = learning_rate_found\n",
    "                   )\n",
    "\n",
    "mlp.fit(X_train, Y_train)\n",
    "y_predicted = mlp.predict(X_test)"
   ]
  },
  {
   "cell_type": "code",
   "execution_count": 20,
   "id": "1c149674",
   "metadata": {},
   "outputs": [
    {
     "name": "stdout",
     "output_type": "stream",
     "text": [
      "Accuracy score:  0.79625\n",
      "              precision    recall  f1-score   support\n",
      "\n",
      "    Negativo       0.80      0.79      0.80      1213\n",
      "    Positivo       0.79      0.80      0.80      1187\n",
      "\n",
      "    accuracy                           0.80      2400\n",
      "   macro avg       0.80      0.80      0.80      2400\n",
      "weighted avg       0.80      0.80      0.80      2400\n",
      "\n"
     ]
    }
   ],
   "source": [
    "print(\"Accuracy score: \", accuracy_score(Y_test, y_predicted))\n",
    "print(classification_report(Y_test, y_predicted, target_names=[\"Negativo\", \"Positivo\"]))"
   ]
  },
  {
   "cell_type": "markdown",
   "id": "eee25ff5",
   "metadata": {},
   "source": [
    "# 7. Support Vector Machine"
   ]
  },
  {
   "cell_type": "code",
   "execution_count": 36,
   "id": "608c1cf4",
   "metadata": {},
   "outputs": [],
   "source": [
    "X_train, X_test, Y_train, Y_test = train_test_split(featureSelection_df, labels, test_size=0.2, random_state=random_seed)"
   ]
  },
  {
   "cell_type": "markdown",
   "id": "651f273f",
   "metadata": {},
   "source": [
    "## Valori su cui ho ottimizzato il classificatore SVC"
   ]
  },
  {
   "cell_type": "code",
   "execution_count": 37,
   "id": "c7611fc3",
   "metadata": {},
   "outputs": [],
   "source": [
    "# valori su cui ho ottimizzato il classificatore SVC\n",
    "\n",
    "# kernel_values = ['linear', 'poly', 'rbf', 'sigmoid']\n",
    "# C_values = [0.5,1,10,100]\n",
    "# gamma_values = ['scale', 1, 0.1, 0.01, 0.001, 0.0001]\n",
    "\n",
    "# parametri migliori\n",
    "kernel_found = 'linear'\n",
    "C_found = 0.5\n",
    "gamma_found = 0.0001"
   ]
  },
  {
   "cell_type": "markdown",
   "id": "68e908a1",
   "metadata": {},
   "source": [
    "### Task di classificazione"
   ]
  },
  {
   "cell_type": "code",
   "execution_count": 40,
   "id": "e4f934c3",
   "metadata": {},
   "outputs": [],
   "source": [
    "svm = SVC(random_state=random_seed, kernel = kernel_found, C = C_found, gamma = gamma_found)\n",
    "svm.fit(X_train, Y_train)\n",
    "y_predicted = svm.predict(X_test)"
   ]
  },
  {
   "cell_type": "code",
   "execution_count": 41,
   "id": "36b3495a",
   "metadata": {},
   "outputs": [
    {
     "name": "stdout",
     "output_type": "stream",
     "text": [
      "Accuracy score:  0.8308333333333333\n",
      "              precision    recall  f1-score   support\n",
      "\n",
      "    Negativo       0.85      0.81      0.83      1213\n",
      "    Positivo       0.82      0.85      0.83      1187\n",
      "\n",
      "    accuracy                           0.83      2400\n",
      "   macro avg       0.83      0.83      0.83      2400\n",
      "weighted avg       0.83      0.83      0.83      2400\n",
      "\n"
     ]
    }
   ],
   "source": [
    "print(\"Accuracy score: \", accuracy_score(Y_test, y_predicted))\n",
    "print(classification_report(Y_test, y_predicted, target_names=[\"Negativo\", \"Positivo\"]))"
   ]
  },
  {
   "cell_type": "code",
   "execution_count": 42,
   "id": "4a829cb8",
   "metadata": {},
   "outputs": [
    {
     "data": {
      "text/plain": [
       "<sklearn.metrics._plot.confusion_matrix.ConfusionMatrixDisplay at 0x19b0e83fd30>"
      ]
     },
     "execution_count": 42,
     "metadata": {},
     "output_type": "execute_result"
    },
    {
     "data": {
      "image/png": "[encoded data removed]",
      "text/plain": [
       "<Figure size 432x288 with 2 Axes>"
      ]
     },
     "metadata": {
      "needs_background": "light"
     },
     "output_type": "display_data"
    }
   ],
   "source": [
    "plot_confusion_matrix(svm,\n",
    "                     X_test,\n",
    "                     Y_test,\n",
    "                     values_format='d',\n",
    "                     display_labels=[\"Negativo\", \"Positivo\"])"
   ]
  },
  {
   "cell_type": "code",
   "execution_count": null,
   "id": "8d56a9ec",
   "metadata": {},
   "outputs": [],
   "source": []
  }
 ],
 "metadata": {
  "kernelspec": {
   "display_name": "Python 3 (ipykernel)",
   "language": "python",
   "name": "python3"
  },
  "language_info": {
   "codemirror_mode": {
    "name": "ipython",
    "version": 3
   },
   "file_extension": ".py",
   "mimetype": "text/x-python",
   "name": "python",
   "nbconvert_exporter": "python",
   "pygments_lexer": "ipython3",
   "version": "3.9.7"
  }
 },
 "nbformat": 4,
 "nbformat_minor": 5
}
