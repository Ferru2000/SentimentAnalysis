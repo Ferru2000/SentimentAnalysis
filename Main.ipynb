{
 "cells": [
  {
   "cell_type": "markdown",
   "id": "638f0e80",
   "metadata": {},
   "source": [
    "# 1.Panoramica del dataset"
   ]
  },
  {
   "cell_type": "code",
   "execution_count": 1,
   "id": "14df0091",
   "metadata": {},
   "outputs": [
    {
     "data": {
      "text/html": [
       "<div>\n",
       "<style scoped>\n",
       "    .dataframe tbody tr th:only-of-type {\n",
       "        vertical-align: middle;\n",
       "    }\n",
       "\n",
       "    .dataframe tbody tr th {\n",
       "        vertical-align: top;\n",
       "    }\n",
       "\n",
       "    .dataframe thead th {\n",
       "        text-align: right;\n",
       "    }\n",
       "</style>\n",
       "<table border=\"1\" class=\"dataframe\">\n",
       "  <thead>\n",
       "    <tr style=\"text-align: right;\">\n",
       "      <th></th>\n",
       "      <th>Unnamed: 0</th>\n",
       "      <th>Unnamed: 0.1</th>\n",
       "      <th>asin</th>\n",
       "      <th>helpful</th>\n",
       "      <th>rating</th>\n",
       "      <th>reviewText</th>\n",
       "      <th>reviewTime</th>\n",
       "      <th>reviewerID</th>\n",
       "      <th>reviewerName</th>\n",
       "      <th>summary</th>\n",
       "      <th>unixReviewTime</th>\n",
       "    </tr>\n",
       "  </thead>\n",
       "  <tbody>\n",
       "    <tr>\n",
       "      <th>0</th>\n",
       "      <td>0</td>\n",
       "      <td>11539</td>\n",
       "      <td>B0033UV8HI</td>\n",
       "      <td>[8, 10]</td>\n",
       "      <td>3</td>\n",
       "      <td>Jace Rankin may be short, but he's nothing to ...</td>\n",
       "      <td>09 2, 2010</td>\n",
       "      <td>A3HHXRELK8BHQG</td>\n",
       "      <td>Ridley</td>\n",
       "      <td>Entertaining But Average</td>\n",
       "      <td>1283385600</td>\n",
       "    </tr>\n",
       "    <tr>\n",
       "      <th>1</th>\n",
       "      <td>1</td>\n",
       "      <td>5957</td>\n",
       "      <td>B002HJV4DE</td>\n",
       "      <td>[1, 1]</td>\n",
       "      <td>5</td>\n",
       "      <td>Great short read.  I didn't want to put it dow...</td>\n",
       "      <td>10 8, 2013</td>\n",
       "      <td>A2RGNZ0TRF578I</td>\n",
       "      <td>Holly Butler</td>\n",
       "      <td>Terrific menage scenes!</td>\n",
       "      <td>1381190400</td>\n",
       "    </tr>\n",
       "    <tr>\n",
       "      <th>2</th>\n",
       "      <td>2</td>\n",
       "      <td>9146</td>\n",
       "      <td>B002ZG96I4</td>\n",
       "      <td>[0, 0]</td>\n",
       "      <td>3</td>\n",
       "      <td>I'll start by saying this is the first of four...</td>\n",
       "      <td>04 11, 2014</td>\n",
       "      <td>A3S0H2HV6U1I7F</td>\n",
       "      <td>Merissa</td>\n",
       "      <td>Snapdragon Alley</td>\n",
       "      <td>1397174400</td>\n",
       "    </tr>\n",
       "    <tr>\n",
       "      <th>3</th>\n",
       "      <td>3</td>\n",
       "      <td>7038</td>\n",
       "      <td>B002QHWOEU</td>\n",
       "      <td>[1, 3]</td>\n",
       "      <td>3</td>\n",
       "      <td>Aggie is Angela Lansbury who carries pocketboo...</td>\n",
       "      <td>07 5, 2014</td>\n",
       "      <td>AC4OQW3GZ919J</td>\n",
       "      <td>Cleargrace</td>\n",
       "      <td>very light murder cozy</td>\n",
       "      <td>1404518400</td>\n",
       "    </tr>\n",
       "    <tr>\n",
       "      <th>4</th>\n",
       "      <td>4</td>\n",
       "      <td>1776</td>\n",
       "      <td>B001A06VJ8</td>\n",
       "      <td>[0, 1]</td>\n",
       "      <td>4</td>\n",
       "      <td>I did not expect this type of book to be in li...</td>\n",
       "      <td>12 31, 2012</td>\n",
       "      <td>A3C9V987IQHOQD</td>\n",
       "      <td>Rjostler</td>\n",
       "      <td>Book</td>\n",
       "      <td>1356912000</td>\n",
       "    </tr>\n",
       "  </tbody>\n",
       "</table>\n",
       "</div>"
      ],
      "text/plain": [
       "   Unnamed: 0  Unnamed: 0.1        asin  helpful  rating  \\\n",
       "0           0         11539  B0033UV8HI  [8, 10]       3   \n",
       "1           1          5957  B002HJV4DE   [1, 1]       5   \n",
       "2           2          9146  B002ZG96I4   [0, 0]       3   \n",
       "3           3          7038  B002QHWOEU   [1, 3]       3   \n",
       "4           4          1776  B001A06VJ8   [0, 1]       4   \n",
       "\n",
       "                                          reviewText   reviewTime  \\\n",
       "0  Jace Rankin may be short, but he's nothing to ...   09 2, 2010   \n",
       "1  Great short read.  I didn't want to put it dow...   10 8, 2013   \n",
       "2  I'll start by saying this is the first of four...  04 11, 2014   \n",
       "3  Aggie is Angela Lansbury who carries pocketboo...   07 5, 2014   \n",
       "4  I did not expect this type of book to be in li...  12 31, 2012   \n",
       "\n",
       "       reviewerID  reviewerName                   summary  unixReviewTime  \n",
       "0  A3HHXRELK8BHQG        Ridley  Entertaining But Average      1283385600  \n",
       "1  A2RGNZ0TRF578I  Holly Butler   Terrific menage scenes!      1381190400  \n",
       "2  A3S0H2HV6U1I7F       Merissa          Snapdragon Alley      1397174400  \n",
       "3   AC4OQW3GZ919J    Cleargrace    very light murder cozy      1404518400  \n",
       "4  A3C9V987IQHOQD      Rjostler                      Book      1356912000  "
      ]
     },
     "execution_count": 1,
     "metadata": {},
     "output_type": "execute_result"
    }
   ],
   "source": [
    "import pandas as pd\n",
    "import numpy as np\n",
    "\n",
    "import Preprocessing\n",
    "import Graph\n",
    "\n",
    "import NaturalLanguageProcessing\n",
    "import Supervised\n",
    "\n",
    "random_seed = 3\n",
    "\n",
    "dataset = pd.read_csv(\"kindle_review.csv\")\n",
    "dataset.head()\n"
   ]
  },
  {
   "cell_type": "code",
   "execution_count": 2,
   "id": "82119bcb",
   "metadata": {},
   "outputs": [
    {
     "name": "stdout",
     "output_type": "stream",
     "text": [
      "Dimensione del dataset:  (12000, 11)\n"
     ]
    }
   ],
   "source": [
    "print('Dimensione del dataset: ', dataset.shape)"
   ]
  },
  {
   "cell_type": "markdown",
   "id": "2effdd2e",
   "metadata": {},
   "source": [
    "# 2.Preprocessing del dataset"
   ]
  },
  {
   "cell_type": "markdown",
   "id": "7a5c6ff8",
   "metadata": {},
   "source": [
    "## Dataset cleaning"
   ]
  },
  {
   "cell_type": "code",
   "execution_count": 3,
   "id": "d8f0b362",
   "metadata": {
    "scrolled": false
   },
   "outputs": [
    {
     "data": {
      "text/html": [
       "<div>\n",
       "<style scoped>\n",
       "    .dataframe tbody tr th:only-of-type {\n",
       "        vertical-align: middle;\n",
       "    }\n",
       "\n",
       "    .dataframe tbody tr th {\n",
       "        vertical-align: top;\n",
       "    }\n",
       "\n",
       "    .dataframe thead th {\n",
       "        text-align: right;\n",
       "    }\n",
       "</style>\n",
       "<table border=\"1\" class=\"dataframe\">\n",
       "  <thead>\n",
       "    <tr style=\"text-align: right;\">\n",
       "      <th></th>\n",
       "      <th>rating</th>\n",
       "      <th>reviewText</th>\n",
       "      <th>summary</th>\n",
       "    </tr>\n",
       "  </thead>\n",
       "  <tbody>\n",
       "    <tr>\n",
       "      <th>0</th>\n",
       "      <td>3</td>\n",
       "      <td>Jace Rankin may be short, but he's nothing to ...</td>\n",
       "      <td>Entertaining But Average</td>\n",
       "    </tr>\n",
       "    <tr>\n",
       "      <th>1</th>\n",
       "      <td>5</td>\n",
       "      <td>Great short read.  I didn't want to put it dow...</td>\n",
       "      <td>Terrific menage scenes!</td>\n",
       "    </tr>\n",
       "    <tr>\n",
       "      <th>2</th>\n",
       "      <td>3</td>\n",
       "      <td>I'll start by saying this is the first of four...</td>\n",
       "      <td>Snapdragon Alley</td>\n",
       "    </tr>\n",
       "    <tr>\n",
       "      <th>3</th>\n",
       "      <td>3</td>\n",
       "      <td>Aggie is Angela Lansbury who carries pocketboo...</td>\n",
       "      <td>very light murder cozy</td>\n",
       "    </tr>\n",
       "    <tr>\n",
       "      <th>4</th>\n",
       "      <td>4</td>\n",
       "      <td>I did not expect this type of book to be in li...</td>\n",
       "      <td>Book</td>\n",
       "    </tr>\n",
       "  </tbody>\n",
       "</table>\n",
       "</div>"
      ],
      "text/plain": [
       "   rating                                         reviewText  \\\n",
       "0       3  Jace Rankin may be short, but he's nothing to ...   \n",
       "1       5  Great short read.  I didn't want to put it dow...   \n",
       "2       3  I'll start by saying this is the first of four...   \n",
       "3       3  Aggie is Angela Lansbury who carries pocketboo...   \n",
       "4       4  I did not expect this type of book to be in li...   \n",
       "\n",
       "                    summary  \n",
       "0  Entertaining But Average  \n",
       "1   Terrific menage scenes!  \n",
       "2          Snapdragon Alley  \n",
       "3    very light murder cozy  \n",
       "4                      Book  "
      ]
     },
     "execution_count": 3,
     "metadata": {},
     "output_type": "execute_result"
    }
   ],
   "source": [
    "\n",
    "\n",
    "clean_dataset = Preprocessing.dataset_cleaning(dataset)\n",
    "\n",
    "clean_dataset.head()"
   ]
  },
  {
   "cell_type": "code",
   "execution_count": 4,
   "id": "811d3e91",
   "metadata": {},
   "outputs": [
    {
     "name": "stdout",
     "output_type": "stream",
     "text": [
      "Dimensione del dataset processato:  (12000, 3)\n"
     ]
    }
   ],
   "source": [
    "print('Dimensione del dataset processato: ', clean_dataset.shape)"
   ]
  },
  {
   "cell_type": "markdown",
   "id": "778bf040",
   "metadata": {},
   "source": [
    "## Aggiunta della colonna sentiment"
   ]
  },
  {
   "cell_type": "code",
   "execution_count": 5,
   "id": "8e2832b8",
   "metadata": {},
   "outputs": [
    {
     "data": {
      "text/html": [
       "<div>\n",
       "<style scoped>\n",
       "    .dataframe tbody tr th:only-of-type {\n",
       "        vertical-align: middle;\n",
       "    }\n",
       "\n",
       "    .dataframe tbody tr th {\n",
       "        vertical-align: top;\n",
       "    }\n",
       "\n",
       "    .dataframe thead th {\n",
       "        text-align: right;\n",
       "    }\n",
       "</style>\n",
       "<table border=\"1\" class=\"dataframe\">\n",
       "  <thead>\n",
       "    <tr style=\"text-align: right;\">\n",
       "      <th></th>\n",
       "      <th>rating</th>\n",
       "      <th>reviewText</th>\n",
       "      <th>summary</th>\n",
       "      <th>sentiment</th>\n",
       "    </tr>\n",
       "  </thead>\n",
       "  <tbody>\n",
       "    <tr>\n",
       "      <th>0</th>\n",
       "      <td>3</td>\n",
       "      <td>Jace Rankin may be short, but he's nothing to ...</td>\n",
       "      <td>Entertaining But Average</td>\n",
       "      <td>0</td>\n",
       "    </tr>\n",
       "    <tr>\n",
       "      <th>1</th>\n",
       "      <td>5</td>\n",
       "      <td>Great short read.  I didn't want to put it dow...</td>\n",
       "      <td>Terrific menage scenes!</td>\n",
       "      <td>1</td>\n",
       "    </tr>\n",
       "    <tr>\n",
       "      <th>2</th>\n",
       "      <td>3</td>\n",
       "      <td>I'll start by saying this is the first of four...</td>\n",
       "      <td>Snapdragon Alley</td>\n",
       "      <td>0</td>\n",
       "    </tr>\n",
       "    <tr>\n",
       "      <th>3</th>\n",
       "      <td>3</td>\n",
       "      <td>Aggie is Angela Lansbury who carries pocketboo...</td>\n",
       "      <td>very light murder cozy</td>\n",
       "      <td>0</td>\n",
       "    </tr>\n",
       "    <tr>\n",
       "      <th>4</th>\n",
       "      <td>4</td>\n",
       "      <td>I did not expect this type of book to be in li...</td>\n",
       "      <td>Book</td>\n",
       "      <td>1</td>\n",
       "    </tr>\n",
       "  </tbody>\n",
       "</table>\n",
       "</div>"
      ],
      "text/plain": [
       "   rating                                         reviewText  \\\n",
       "0       3  Jace Rankin may be short, but he's nothing to ...   \n",
       "1       5  Great short read.  I didn't want to put it dow...   \n",
       "2       3  I'll start by saying this is the first of four...   \n",
       "3       3  Aggie is Angela Lansbury who carries pocketboo...   \n",
       "4       4  I did not expect this type of book to be in li...   \n",
       "\n",
       "                    summary  sentiment  \n",
       "0  Entertaining But Average          0  \n",
       "1   Terrific menage scenes!          1  \n",
       "2          Snapdragon Alley          0  \n",
       "3    very light murder cozy          0  \n",
       "4                      Book          1  "
      ]
     },
     "execution_count": 5,
     "metadata": {},
     "output_type": "execute_result"
    }
   ],
   "source": [
    "clean_dataset = Preprocessing.addSentimentColumn(clean_dataset)\n",
    "clean_dataset.head()"
   ]
  },
  {
   "cell_type": "code",
   "execution_count": 6,
   "id": "4b83f7c2",
   "metadata": {},
   "outputs": [
    {
     "name": "stdout",
     "output_type": "stream",
     "text": [
      "Numero occorrenze dei valori del sentimento:\n"
     ]
    },
    {
     "data": {
      "text/plain": [
       "0    6000\n",
       "1    6000\n",
       "Name: sentiment, dtype: int64"
      ]
     },
     "execution_count": 6,
     "metadata": {},
     "output_type": "execute_result"
    }
   ],
   "source": [
    "print('Numero occorrenze dei valori del sentimento:')\n",
    "clean_dataset['sentiment'].value_counts()"
   ]
  },
  {
   "cell_type": "markdown",
   "id": "86de3e72",
   "metadata": {},
   "source": [
    "## Grafico della distribuzione della colonna rating"
   ]
  },
  {
   "cell_type": "code",
   "execution_count": 7,
   "id": "46eb5ef1",
   "metadata": {},
   "outputs": [
    {
     "data": {
      "image/png": "[encoded data removed]",
      "text/plain": [
       "<Figure size 864x360 with 1 Axes>"
      ]
     },
     "metadata": {
      "needs_background": "light"
     },
     "output_type": "display_data"
    }
   ],
   "source": [
    "\n",
    "\n",
    "Graph.rating_distribution(clean_dataset)"
   ]
  },
  {
   "cell_type": "markdown",
   "id": "1715e735",
   "metadata": {},
   "source": [
    "## Grafico della distribuzione della colonna sentiment"
   ]
  },
  {
   "cell_type": "code",
   "execution_count": 8,
   "id": "e70d4eaf",
   "metadata": {
    "scrolled": true
   },
   "outputs": [
    {
     "data": {
      "image/png": "[encoded data removed]",
      "text/plain": [
       "<Figure size 864x360 with 1 Axes>"
      ]
     },
     "metadata": {
      "needs_background": "light"
     },
     "output_type": "display_data"
    }
   ],
   "source": [
    "Graph.sentiment_distribution(clean_dataset)"
   ]
  },
  {
   "cell_type": "markdown",
   "id": "f5641bed",
   "metadata": {},
   "source": [
    "# 3.Natural Language Processing"
   ]
  },
  {
   "cell_type": "markdown",
   "id": "1b6251c5",
   "metadata": {},
   "source": [
    "## Text Cleaning"
   ]
  },
  {
   "cell_type": "markdown",
   "id": "a13e11ed",
   "metadata": {},
   "source": [
    "### In questa sezione viene applicato il text cleaning della colonna reviewText, in cui vengono rimosse le stopword, i segni di punteggiatura e viene tokenizzato il testo"
   ]
  },
  {
   "cell_type": "code",
   "execution_count": 9,
   "id": "b03d3e65",
   "metadata": {
    "scrolled": false
   },
   "outputs": [
    {
     "data": {
      "text/html": [
       "<div>\n",
       "<style scoped>\n",
       "    .dataframe tbody tr th:only-of-type {\n",
       "        vertical-align: middle;\n",
       "    }\n",
       "\n",
       "    .dataframe tbody tr th {\n",
       "        vertical-align: top;\n",
       "    }\n",
       "\n",
       "    .dataframe thead th {\n",
       "        text-align: right;\n",
       "    }\n",
       "</style>\n",
       "<table border=\"1\" class=\"dataframe\">\n",
       "  <thead>\n",
       "    <tr style=\"text-align: right;\">\n",
       "      <th></th>\n",
       "      <th>rating</th>\n",
       "      <th>reviewText</th>\n",
       "      <th>summary</th>\n",
       "      <th>sentiment</th>\n",
       "    </tr>\n",
       "  </thead>\n",
       "  <tbody>\n",
       "    <tr>\n",
       "      <th>0</th>\n",
       "      <td>3</td>\n",
       "      <td>jace rankin may short he nothing mess man haul...</td>\n",
       "      <td>Entertaining But Average</td>\n",
       "      <td>0</td>\n",
       "    </tr>\n",
       "    <tr>\n",
       "      <th>1</th>\n",
       "      <td>5</td>\n",
       "      <td>great short read i didnt want put i read one s...</td>\n",
       "      <td>Terrific menage scenes!</td>\n",
       "      <td>1</td>\n",
       "    </tr>\n",
       "    <tr>\n",
       "      <th>2</th>\n",
       "      <td>3</td>\n",
       "      <td>ill start say first four book i wasnt expect 3...</td>\n",
       "      <td>Snapdragon Alley</td>\n",
       "      <td>0</td>\n",
       "    </tr>\n",
       "    <tr>\n",
       "      <th>3</th>\n",
       "      <td>3</td>\n",
       "      <td>aggie angela lansbury carry pocketbook instead...</td>\n",
       "      <td>very light murder cozy</td>\n",
       "      <td>0</td>\n",
       "    </tr>\n",
       "    <tr>\n",
       "      <th>4</th>\n",
       "      <td>4</td>\n",
       "      <td>i expect type book library please find price r...</td>\n",
       "      <td>Book</td>\n",
       "      <td>1</td>\n",
       "    </tr>\n",
       "  </tbody>\n",
       "</table>\n",
       "</div>"
      ],
      "text/plain": [
       "   rating                                         reviewText  \\\n",
       "0       3  jace rankin may short he nothing mess man haul...   \n",
       "1       5  great short read i didnt want put i read one s...   \n",
       "2       3  ill start say first four book i wasnt expect 3...   \n",
       "3       3  aggie angela lansbury carry pocketbook instead...   \n",
       "4       4  i expect type book library please find price r...   \n",
       "\n",
       "                    summary  sentiment  \n",
       "0  Entertaining But Average          0  \n",
       "1   Terrific menage scenes!          1  \n",
       "2          Snapdragon Alley          0  \n",
       "3    very light murder cozy          0  \n",
       "4                      Book          1  "
      ]
     },
     "execution_count": 9,
     "metadata": {},
     "output_type": "execute_result"
    }
   ],
   "source": [
    "\n",
    "\n",
    "# rimozione dei segni di punteggiatura\n",
    "clean_dataset[\"reviewText\"] = clean_dataset[\"reviewText\"].apply(lambda text: NaturalLanguageProcessing.remove_punctuation(text))\n",
    "\n",
    "# rimozione delle stopword\n",
    "clean_dataset[\"reviewText\"] = clean_dataset[\"reviewText\"].apply(lambda text: NaturalLanguageProcessing.remove_stopwords(text))\n",
    "\n",
    "# lowering di ogni lettera\n",
    "clean_dataset = NaturalLanguageProcessing.text_lowerer(clean_dataset, \"reviewText\")\n",
    "\n",
    "# lemmatizzazione delle parole\n",
    "clean_dataset[\"reviewText\"] = clean_dataset[\"reviewText\"].apply(lambda text: NaturalLanguageProcessing.lemmatize_words(text))\n",
    "\n",
    "clean_dataset.head()"
   ]
  },
  {
   "cell_type": "markdown",
   "id": "10aea70a",
   "metadata": {},
   "source": [
    "### In questa sezione viene applicato il text cleaning della colonna summary, in cui vengono rimosse le stopword, i segni di punteggiatura e viene tokenizzato il testo"
   ]
  },
  {
   "cell_type": "code",
   "execution_count": 10,
   "id": "9faa2d9d",
   "metadata": {},
   "outputs": [
    {
     "data": {
      "text/html": [
       "<div>\n",
       "<style scoped>\n",
       "    .dataframe tbody tr th:only-of-type {\n",
       "        vertical-align: middle;\n",
       "    }\n",
       "\n",
       "    .dataframe tbody tr th {\n",
       "        vertical-align: top;\n",
       "    }\n",
       "\n",
       "    .dataframe thead th {\n",
       "        text-align: right;\n",
       "    }\n",
       "</style>\n",
       "<table border=\"1\" class=\"dataframe\">\n",
       "  <thead>\n",
       "    <tr style=\"text-align: right;\">\n",
       "      <th></th>\n",
       "      <th>rating</th>\n",
       "      <th>reviewText</th>\n",
       "      <th>summary</th>\n",
       "      <th>sentiment</th>\n",
       "    </tr>\n",
       "  </thead>\n",
       "  <tbody>\n",
       "    <tr>\n",
       "      <th>0</th>\n",
       "      <td>3</td>\n",
       "      <td>jace rankin may short he nothing mess man haul...</td>\n",
       "      <td>entertain but average</td>\n",
       "      <td>0</td>\n",
       "    </tr>\n",
       "    <tr>\n",
       "      <th>1</th>\n",
       "      <td>5</td>\n",
       "      <td>great short read i didnt want put i read one s...</td>\n",
       "      <td>terrific menage scene</td>\n",
       "      <td>1</td>\n",
       "    </tr>\n",
       "    <tr>\n",
       "      <th>2</th>\n",
       "      <td>3</td>\n",
       "      <td>ill start say first four book i wasnt expect 3...</td>\n",
       "      <td>snapdragon alley</td>\n",
       "      <td>0</td>\n",
       "    </tr>\n",
       "    <tr>\n",
       "      <th>3</th>\n",
       "      <td>3</td>\n",
       "      <td>aggie angela lansbury carry pocketbook instead...</td>\n",
       "      <td>light murder cozy</td>\n",
       "      <td>0</td>\n",
       "    </tr>\n",
       "    <tr>\n",
       "      <th>4</th>\n",
       "      <td>4</td>\n",
       "      <td>i expect type book library please find price r...</td>\n",
       "      <td>book</td>\n",
       "      <td>1</td>\n",
       "    </tr>\n",
       "  </tbody>\n",
       "</table>\n",
       "</div>"
      ],
      "text/plain": [
       "   rating                                         reviewText  \\\n",
       "0       3  jace rankin may short he nothing mess man haul...   \n",
       "1       5  great short read i didnt want put i read one s...   \n",
       "2       3  ill start say first four book i wasnt expect 3...   \n",
       "3       3  aggie angela lansbury carry pocketbook instead...   \n",
       "4       4  i expect type book library please find price r...   \n",
       "\n",
       "                 summary  sentiment  \n",
       "0  entertain but average          0  \n",
       "1  terrific menage scene          1  \n",
       "2       snapdragon alley          0  \n",
       "3      light murder cozy          0  \n",
       "4                   book          1  "
      ]
     },
     "execution_count": 10,
     "metadata": {},
     "output_type": "execute_result"
    }
   ],
   "source": [
    "# rimozione dei segni di punteggiatura\n",
    "clean_dataset[\"summary\"] = clean_dataset[\"summary\"].apply(lambda text: NaturalLanguageProcessing.remove_punctuation(text))\n",
    "\n",
    "# rimozione delle stopword\n",
    "clean_dataset[\"summary\"] = clean_dataset[\"summary\"].apply(lambda text: NaturalLanguageProcessing.remove_stopwords(text))\n",
    "\n",
    "# lowering di ogni lettera\n",
    "clean_dataset = NaturalLanguageProcessing.text_lowerer(clean_dataset, \"summary\")\n",
    "\n",
    "# lemmatizzazione delle parole\n",
    "clean_dataset[\"summary\"] = clean_dataset[\"summary\"].apply(lambda text: NaturalLanguageProcessing.lemmatize_words(text))\n",
    "\n",
    "clean_dataset.head()"
   ]
  },
  {
   "cell_type": "markdown",
   "id": "73f920c0",
   "metadata": {},
   "source": [
    "## Integrazione della conoscenza"
   ]
  },
  {
   "cell_type": "markdown",
   "id": "c04d1cb5",
   "metadata": {},
   "source": [
    "### In questa sezione viene viene integrata la conoscenza, creando 4 colonne che indicano il numero di parole positive e negative per le colonne reviewText e summary"
   ]
  },
  {
   "cell_type": "code",
   "execution_count": 11,
   "id": "f283906e",
   "metadata": {},
   "outputs": [],
   "source": [
    "# aggiunta delle colonne dei conteggi\n",
    "clean_dataset = Preprocessing.addNumberPositiveReview(clean_dataset)\n",
    "clean_dataset = Preprocessing.addNumberNegativeReview(clean_dataset)\n",
    "\n",
    "clean_dataset = Preprocessing.addNumberPositiveSummary(clean_dataset)\n",
    "clean_dataset = Preprocessing.addNumberNegativeSummary(clean_dataset)\n"
   ]
  },
  {
   "cell_type": "code",
   "execution_count": 12,
   "id": "e8aed416",
   "metadata": {},
   "outputs": [],
   "source": [
    "# calcolo numero parole positive/negative della colonna reviewText\n",
    "list_word = []\n",
    "with open('positive_words.txt') as file:\n",
    "        list_word = file.read().split()\n",
    "clean_dataset[\"numberPositiveReview\"] = clean_dataset[\"reviewText\"].apply(lambda text: Preprocessing.countWords(list_word, text))\n",
    "\n",
    "with open('negative_words.txt') as file:\n",
    "        list_word = file.read().split()\n",
    "clean_dataset[\"numberNegativeReview\"] = clean_dataset[\"reviewText\"].apply(lambda text: Preprocessing.countWords(list_word, text))\n"
   ]
  },
  {
   "cell_type": "code",
   "execution_count": 13,
   "id": "ac79aea5",
   "metadata": {},
   "outputs": [
    {
     "data": {
      "text/html": [
       "<div>\n",
       "<style scoped>\n",
       "    .dataframe tbody tr th:only-of-type {\n",
       "        vertical-align: middle;\n",
       "    }\n",
       "\n",
       "    .dataframe tbody tr th {\n",
       "        vertical-align: top;\n",
       "    }\n",
       "\n",
       "    .dataframe thead th {\n",
       "        text-align: right;\n",
       "    }\n",
       "</style>\n",
       "<table border=\"1\" class=\"dataframe\">\n",
       "  <thead>\n",
       "    <tr style=\"text-align: right;\">\n",
       "      <th></th>\n",
       "      <th>rating</th>\n",
       "      <th>reviewText</th>\n",
       "      <th>summary</th>\n",
       "      <th>sentiment</th>\n",
       "      <th>numberPositiveReview</th>\n",
       "      <th>numberNegativeReview</th>\n",
       "      <th>numberPositiveSummary</th>\n",
       "      <th>numberNegativeSummary</th>\n",
       "    </tr>\n",
       "  </thead>\n",
       "  <tbody>\n",
       "    <tr>\n",
       "      <th>0</th>\n",
       "      <td>3</td>\n",
       "      <td>jace rankin may short he nothing mess man haul...</td>\n",
       "      <td>entertain but average</td>\n",
       "      <td>0</td>\n",
       "      <td>16</td>\n",
       "      <td>31</td>\n",
       "      <td>1</td>\n",
       "      <td>0</td>\n",
       "    </tr>\n",
       "    <tr>\n",
       "      <th>1</th>\n",
       "      <td>5</td>\n",
       "      <td>great short read i didnt want put i read one s...</td>\n",
       "      <td>terrific menage scene</td>\n",
       "      <td>1</td>\n",
       "      <td>7</td>\n",
       "      <td>1</td>\n",
       "      <td>1</td>\n",
       "      <td>0</td>\n",
       "    </tr>\n",
       "    <tr>\n",
       "      <th>2</th>\n",
       "      <td>3</td>\n",
       "      <td>ill start say first four book i wasnt expect 3...</td>\n",
       "      <td>snapdragon alley</td>\n",
       "      <td>0</td>\n",
       "      <td>2</td>\n",
       "      <td>1</td>\n",
       "      <td>0</td>\n",
       "      <td>0</td>\n",
       "    </tr>\n",
       "    <tr>\n",
       "      <th>3</th>\n",
       "      <td>3</td>\n",
       "      <td>aggie angela lansbury carry pocketbook instead...</td>\n",
       "      <td>light murder cozy</td>\n",
       "      <td>0</td>\n",
       "      <td>3</td>\n",
       "      <td>4</td>\n",
       "      <td>1</td>\n",
       "      <td>1</td>\n",
       "    </tr>\n",
       "    <tr>\n",
       "      <th>4</th>\n",
       "      <td>4</td>\n",
       "      <td>i expect type book library please find price r...</td>\n",
       "      <td>book</td>\n",
       "      <td>1</td>\n",
       "      <td>1</td>\n",
       "      <td>0</td>\n",
       "      <td>0</td>\n",
       "      <td>0</td>\n",
       "    </tr>\n",
       "  </tbody>\n",
       "</table>\n",
       "</div>"
      ],
      "text/plain": [
       "   rating                                         reviewText  \\\n",
       "0       3  jace rankin may short he nothing mess man haul...   \n",
       "1       5  great short read i didnt want put i read one s...   \n",
       "2       3  ill start say first four book i wasnt expect 3...   \n",
       "3       3  aggie angela lansbury carry pocketbook instead...   \n",
       "4       4  i expect type book library please find price r...   \n",
       "\n",
       "                 summary  sentiment  numberPositiveReview  \\\n",
       "0  entertain but average          0                    16   \n",
       "1  terrific menage scene          1                     7   \n",
       "2       snapdragon alley          0                     2   \n",
       "3      light murder cozy          0                     3   \n",
       "4                   book          1                     1   \n",
       "\n",
       "   numberNegativeReview  numberPositiveSummary  numberNegativeSummary  \n",
       "0                    31                      1                      0  \n",
       "1                     1                      1                      0  \n",
       "2                     1                      0                      0  \n",
       "3                     4                      1                      1  \n",
       "4                     0                      0                      0  "
      ]
     },
     "execution_count": 13,
     "metadata": {},
     "output_type": "execute_result"
    }
   ],
   "source": [
    "# calcolo numero parole positive/negative della colonna summary\n",
    "list_word = []\n",
    "with open('positive_words.txt') as file:\n",
    "        list_word = file.read().split()\n",
    "clean_dataset[\"numberPositiveSummary\"] = clean_dataset[\"summary\"].apply(lambda text: Preprocessing.countWords(list_word, text))\n",
    "\n",
    "with open('negative_words.txt') as file:\n",
    "        list_word = file.read().split()\n",
    "clean_dataset[\"numberNegativeSummary\"] = clean_dataset[\"summary\"].apply(lambda text: Preprocessing.countWords(list_word, text))\n",
    "\n",
    "clean_dataset.head()"
   ]
  },
  {
   "cell_type": "code",
   "execution_count": 14,
   "id": "35c05622",
   "metadata": {},
   "outputs": [],
   "source": [
    "clean_dataset.to_csv('clean_dataset.csv')\n"
   ]
  },
  {
   "cell_type": "markdown",
   "id": "095a4899",
   "metadata": {},
   "source": [
    "### Creazione dataset con rappresentazione tf-idf"
   ]
  },
  {
   "cell_type": "code",
   "execution_count": 15,
   "id": "2c8ed2de",
   "metadata": {},
   "outputs": [],
   "source": [
    "dataset, labels = Supervised.createDataframeWithTfIdf(clean_dataset)"
   ]
  },
  {
   "cell_type": "markdown",
   "id": "d0613474",
   "metadata": {},
   "source": [
    "# 4.Algoritmi supervisionati"
   ]
  },
  {
   "cell_type": "markdown",
   "id": "d481511d",
   "metadata": {},
   "source": [
    "## In questa sezione vengono applicati gli algoritmi supervisionati"
   ]
  },
  {
   "cell_type": "markdown",
   "id": "0c34c57c",
   "metadata": {},
   "source": [
    "### Qui viene applicato l'algoritmo supervisionato RandomForest, utilizzato per effettuare la feature selection"
   ]
  },
  {
   "cell_type": "code",
   "execution_count": 16,
   "id": "3b34b447",
   "metadata": {
    "scrolled": false
   },
   "outputs": [
    {
     "name": "stdout",
     "output_type": "stream",
     "text": [
      "Numero feature selezionate: 3333\n"
     ]
    }
   ],
   "source": [
    "# feature selection tramite random forest\n",
    "truncated_df = Supervised.randomForest_featureSelection(dataset, labels)\n"
   ]
  },
  {
   "cell_type": "code",
   "execution_count": 17,
   "id": "3f486ecd",
   "metadata": {
    "scrolled": true
   },
   "outputs": [
    {
     "name": "stdout",
     "output_type": "stream",
     "text": [
      "Fitting 3 folds for each of 72 candidates, totalling 216 fits\n",
      "[CV] END criterion=entropy, max_depth=35, max_features=log2, min_samples_leaf=5, min_samples_split=15, n_estimators=40; total time=   0.8s\n",
      "[CV] END criterion=entropy, max_depth=35, max_features=log2, min_samples_leaf=5, min_samples_split=15, n_estimators=40; total time=   0.8s\n",
      "[CV] END criterion=entropy, max_depth=35, max_features=log2, min_samples_leaf=5, min_samples_split=15, n_estimators=40; total time=   0.8s\n",
      "[CV] END criterion=entropy, max_depth=35, max_features=log2, min_samples_leaf=5, min_samples_split=15, n_estimators=60; total time=   1.1s\n",
      "[CV] END criterion=entropy, max_depth=35, max_features=log2, min_samples_leaf=5, min_samples_split=15, n_estimators=60; total time=   1.1s\n",
      "[CV] END criterion=entropy, max_depth=35, max_features=log2, min_samples_leaf=5, min_samples_split=15, n_estimators=60; total time=   1.1s\n",
      "[CV] END criterion=entropy, max_depth=35, max_features=log2, min_samples_leaf=5, min_samples_split=15, n_estimators=80; total time=   1.3s\n",
      "[CV] END criterion=entropy, max_depth=35, max_features=log2, min_samples_leaf=5, min_samples_split=15, n_estimators=80; total time=   1.3s\n",
      "[CV] END criterion=entropy, max_depth=35, max_features=log2, min_samples_leaf=5, min_samples_split=15, n_estimators=80; total time=   1.3s\n",
      "[CV] END criterion=entropy, max_depth=35, max_features=log2, min_samples_leaf=5, min_samples_split=15, n_estimators=100; total time=   1.5s\n",
      "[CV] END criterion=entropy, max_depth=35, max_features=log2, min_samples_leaf=5, min_samples_split=15, n_estimators=100; total time=   1.6s\n",
      "[CV] END criterion=entropy, max_depth=35, max_features=log2, min_samples_leaf=5, min_samples_split=15, n_estimators=100; total time=   1.5s\n",
      "[CV] END criterion=entropy, max_depth=35, max_features=log2, min_samples_leaf=5, min_samples_split=30, n_estimators=40; total time=   0.8s\n",
      "[CV] END criterion=entropy, max_depth=35, max_features=log2, min_samples_leaf=5, min_samples_split=30, n_estimators=40; total time=   0.8s\n",
      "[CV] END criterion=entropy, max_depth=35, max_features=log2, min_samples_leaf=5, min_samples_split=30, n_estimators=40; total time=   0.8s\n",
      "[CV] END criterion=entropy, max_depth=35, max_features=log2, min_samples_leaf=5, min_samples_split=30, n_estimators=60; total time=   1.1s\n",
      "[CV] END criterion=entropy, max_depth=35, max_features=log2, min_samples_leaf=5, min_samples_split=30, n_estimators=60; total time=   1.1s\n",
      "[CV] END criterion=entropy, max_depth=35, max_features=log2, min_samples_leaf=5, min_samples_split=30, n_estimators=60; total time=   1.0s\n",
      "[CV] END criterion=entropy, max_depth=35, max_features=log2, min_samples_leaf=5, min_samples_split=30, n_estimators=80; total time=   1.3s\n",
      "[CV] END criterion=entropy, max_depth=35, max_features=log2, min_samples_leaf=5, min_samples_split=30, n_estimators=80; total time=   1.3s\n",
      "[CV] END criterion=entropy, max_depth=35, max_features=log2, min_samples_leaf=5, min_samples_split=30, n_estimators=80; total time=   1.2s\n",
      "[CV] END criterion=entropy, max_depth=35, max_features=log2, min_samples_leaf=5, min_samples_split=30, n_estimators=100; total time=   1.5s\n",
      "[CV] END criterion=entropy, max_depth=35, max_features=log2, min_samples_leaf=5, min_samples_split=30, n_estimators=100; total time=   1.5s\n",
      "[CV] END criterion=entropy, max_depth=35, max_features=log2, min_samples_leaf=5, min_samples_split=30, n_estimators=100; total time=   1.5s\n",
      "[CV] END criterion=entropy, max_depth=35, max_features=log2, min_samples_leaf=15, min_samples_split=15, n_estimators=40; total time=   0.7s\n",
      "[CV] END criterion=entropy, max_depth=35, max_features=log2, min_samples_leaf=15, min_samples_split=15, n_estimators=40; total time=   0.7s\n",
      "[CV] END criterion=entropy, max_depth=35, max_features=log2, min_samples_leaf=15, min_samples_split=15, n_estimators=40; total time=   0.7s\n",
      "[CV] END criterion=entropy, max_depth=35, max_features=log2, min_samples_leaf=15, min_samples_split=15, n_estimators=60; total time=   0.9s\n",
      "[CV] END criterion=entropy, max_depth=35, max_features=log2, min_samples_leaf=15, min_samples_split=15, n_estimators=60; total time=   0.9s\n",
      "[CV] END criterion=entropy, max_depth=35, max_features=log2, min_samples_leaf=15, min_samples_split=15, n_estimators=60; total time=   1.0s\n",
      "[CV] END criterion=entropy, max_depth=35, max_features=log2, min_samples_leaf=15, min_samples_split=15, n_estimators=80; total time=   1.1s\n",
      "[CV] END criterion=entropy, max_depth=35, max_features=log2, min_samples_leaf=15, min_samples_split=15, n_estimators=80; total time=   1.1s\n",
      "[CV] END criterion=entropy, max_depth=35, max_features=log2, min_samples_leaf=15, min_samples_split=15, n_estimators=80; total time=   1.1s\n",
      "[CV] END criterion=entropy, max_depth=35, max_features=log2, min_samples_leaf=15, min_samples_split=15, n_estimators=100; total time=   1.3s\n",
      "[CV] END criterion=entropy, max_depth=35, max_features=log2, min_samples_leaf=15, min_samples_split=15, n_estimators=100; total time=   1.2s\n",
      "[CV] END criterion=entropy, max_depth=35, max_features=log2, min_samples_leaf=15, min_samples_split=15, n_estimators=100; total time=   1.3s\n",
      "[CV] END criterion=entropy, max_depth=35, max_features=log2, min_samples_leaf=15, min_samples_split=30, n_estimators=40; total time=   0.8s\n",
      "[CV] END criterion=entropy, max_depth=35, max_features=log2, min_samples_leaf=15, min_samples_split=30, n_estimators=40; total time=   0.7s\n",
      "[CV] END criterion=entropy, max_depth=35, max_features=log2, min_samples_leaf=15, min_samples_split=30, n_estimators=40; total time=   0.7s\n",
      "[CV] END criterion=entropy, max_depth=35, max_features=log2, min_samples_leaf=15, min_samples_split=30, n_estimators=60; total time=   0.8s\n",
      "[CV] END criterion=entropy, max_depth=35, max_features=log2, min_samples_leaf=15, min_samples_split=30, n_estimators=60; total time=   0.8s\n",
      "[CV] END criterion=entropy, max_depth=35, max_features=log2, min_samples_leaf=15, min_samples_split=30, n_estimators=60; total time=   0.9s\n",
      "[CV] END criterion=entropy, max_depth=35, max_features=log2, min_samples_leaf=15, min_samples_split=30, n_estimators=80; total time=   1.0s\n",
      "[CV] END criterion=entropy, max_depth=35, max_features=log2, min_samples_leaf=15, min_samples_split=30, n_estimators=80; total time=   1.1s\n",
      "[CV] END criterion=entropy, max_depth=35, max_features=log2, min_samples_leaf=15, min_samples_split=30, n_estimators=80; total time=   1.1s\n",
      "[CV] END criterion=entropy, max_depth=35, max_features=log2, min_samples_leaf=15, min_samples_split=30, n_estimators=100; total time=   1.3s\n",
      "[CV] END criterion=entropy, max_depth=35, max_features=log2, min_samples_leaf=15, min_samples_split=30, n_estimators=100; total time=   1.2s\n",
      "[CV] END criterion=entropy, max_depth=35, max_features=log2, min_samples_leaf=15, min_samples_split=30, n_estimators=100; total time=   1.3s\n",
      "[CV] END criterion=entropy, max_depth=35, max_features=log2, min_samples_leaf=30, min_samples_split=15, n_estimators=40; total time=   0.6s\n",
      "[CV] END criterion=entropy, max_depth=35, max_features=log2, min_samples_leaf=30, min_samples_split=15, n_estimators=40; total time=   0.6s\n",
      "[CV] END criterion=entropy, max_depth=35, max_features=log2, min_samples_leaf=30, min_samples_split=15, n_estimators=40; total time=   0.6s\n",
      "[CV] END criterion=entropy, max_depth=35, max_features=log2, min_samples_leaf=30, min_samples_split=15, n_estimators=60; total time=   0.6s\n",
      "[CV] END criterion=entropy, max_depth=35, max_features=log2, min_samples_leaf=30, min_samples_split=15, n_estimators=60; total time=   0.7s\n",
      "[CV] END criterion=entropy, max_depth=35, max_features=log2, min_samples_leaf=30, min_samples_split=15, n_estimators=60; total time=   0.6s\n",
      "[CV] END criterion=entropy, max_depth=35, max_features=log2, min_samples_leaf=30, min_samples_split=15, n_estimators=80; total time=   0.8s\n",
      "[CV] END criterion=entropy, max_depth=35, max_features=log2, min_samples_leaf=30, min_samples_split=15, n_estimators=80; total time=   0.8s\n",
      "[CV] END criterion=entropy, max_depth=35, max_features=log2, min_samples_leaf=30, min_samples_split=15, n_estimators=80; total time=   0.8s\n",
      "[CV] END criterion=entropy, max_depth=35, max_features=log2, min_samples_leaf=30, min_samples_split=15, n_estimators=100; total time=   0.9s\n",
      "[CV] END criterion=entropy, max_depth=35, max_features=log2, min_samples_leaf=30, min_samples_split=15, n_estimators=100; total time=   0.9s\n"
     ]
    },
    {
     "name": "stdout",
     "output_type": "stream",
     "text": [
      "[CV] END criterion=entropy, max_depth=35, max_features=log2, min_samples_leaf=30, min_samples_split=15, n_estimators=100; total time=   0.9s\n",
      "[CV] END criterion=entropy, max_depth=35, max_features=log2, min_samples_leaf=30, min_samples_split=30, n_estimators=40; total time=   0.6s\n",
      "[CV] END criterion=entropy, max_depth=35, max_features=log2, min_samples_leaf=30, min_samples_split=30, n_estimators=40; total time=   0.6s\n",
      "[CV] END criterion=entropy, max_depth=35, max_features=log2, min_samples_leaf=30, min_samples_split=30, n_estimators=40; total time=   0.6s\n",
      "[CV] END criterion=entropy, max_depth=35, max_features=log2, min_samples_leaf=30, min_samples_split=30, n_estimators=60; total time=   0.7s\n",
      "[CV] END criterion=entropy, max_depth=35, max_features=log2, min_samples_leaf=30, min_samples_split=30, n_estimators=60; total time=   0.8s\n",
      "[CV] END criterion=entropy, max_depth=35, max_features=log2, min_samples_leaf=30, min_samples_split=30, n_estimators=60; total time=   0.7s\n",
      "[CV] END criterion=entropy, max_depth=35, max_features=log2, min_samples_leaf=30, min_samples_split=30, n_estimators=80; total time=   0.8s\n",
      "[CV] END criterion=entropy, max_depth=35, max_features=log2, min_samples_leaf=30, min_samples_split=30, n_estimators=80; total time=   0.8s\n",
      "[CV] END criterion=entropy, max_depth=35, max_features=log2, min_samples_leaf=30, min_samples_split=30, n_estimators=80; total time=   0.8s\n",
      "[CV] END criterion=entropy, max_depth=35, max_features=log2, min_samples_leaf=30, min_samples_split=30, n_estimators=100; total time=   0.8s\n",
      "[CV] END criterion=entropy, max_depth=35, max_features=log2, min_samples_leaf=30, min_samples_split=30, n_estimators=100; total time=   0.8s\n",
      "[CV] END criterion=entropy, max_depth=35, max_features=log2, min_samples_leaf=30, min_samples_split=30, n_estimators=100; total time=   0.8s\n",
      "[CV] END criterion=entropy, max_depth=55, max_features=log2, min_samples_leaf=5, min_samples_split=15, n_estimators=40; total time=   0.8s\n",
      "[CV] END criterion=entropy, max_depth=55, max_features=log2, min_samples_leaf=5, min_samples_split=15, n_estimators=40; total time=   1.0s\n",
      "[CV] END criterion=entropy, max_depth=55, max_features=log2, min_samples_leaf=5, min_samples_split=15, n_estimators=40; total time=   1.2s\n",
      "[CV] END criterion=entropy, max_depth=55, max_features=log2, min_samples_leaf=5, min_samples_split=15, n_estimators=60; total time=   1.1s\n",
      "[CV] END criterion=entropy, max_depth=55, max_features=log2, min_samples_leaf=5, min_samples_split=15, n_estimators=60; total time=   1.3s\n",
      "[CV] END criterion=entropy, max_depth=55, max_features=log2, min_samples_leaf=5, min_samples_split=15, n_estimators=60; total time=   1.2s\n",
      "[CV] END criterion=entropy, max_depth=55, max_features=log2, min_samples_leaf=5, min_samples_split=15, n_estimators=80; total time=   1.4s\n",
      "[CV] END criterion=entropy, max_depth=55, max_features=log2, min_samples_leaf=5, min_samples_split=15, n_estimators=80; total time=   1.4s\n",
      "[CV] END criterion=entropy, max_depth=55, max_features=log2, min_samples_leaf=5, min_samples_split=15, n_estimators=80; total time=   1.4s\n",
      "[CV] END criterion=entropy, max_depth=55, max_features=log2, min_samples_leaf=5, min_samples_split=15, n_estimators=100; total time=   1.7s\n",
      "[CV] END criterion=entropy, max_depth=55, max_features=log2, min_samples_leaf=5, min_samples_split=15, n_estimators=100; total time=   1.8s\n",
      "[CV] END criterion=entropy, max_depth=55, max_features=log2, min_samples_leaf=5, min_samples_split=15, n_estimators=100; total time=   1.8s\n",
      "[CV] END criterion=entropy, max_depth=55, max_features=log2, min_samples_leaf=5, min_samples_split=30, n_estimators=40; total time=   0.9s\n",
      "[CV] END criterion=entropy, max_depth=55, max_features=log2, min_samples_leaf=5, min_samples_split=30, n_estimators=40; total time=   0.9s\n",
      "[CV] END criterion=entropy, max_depth=55, max_features=log2, min_samples_leaf=5, min_samples_split=30, n_estimators=40; total time=   0.9s\n",
      "[CV] END criterion=entropy, max_depth=55, max_features=log2, min_samples_leaf=5, min_samples_split=30, n_estimators=60; total time=   1.2s\n",
      "[CV] END criterion=entropy, max_depth=55, max_features=log2, min_samples_leaf=5, min_samples_split=30, n_estimators=60; total time=   1.2s\n",
      "[CV] END criterion=entropy, max_depth=55, max_features=log2, min_samples_leaf=5, min_samples_split=30, n_estimators=60; total time=   1.2s\n",
      "[CV] END criterion=entropy, max_depth=55, max_features=log2, min_samples_leaf=5, min_samples_split=30, n_estimators=80; total time=   1.5s\n",
      "[CV] END criterion=entropy, max_depth=55, max_features=log2, min_samples_leaf=5, min_samples_split=30, n_estimators=80; total time=   1.5s\n",
      "[CV] END criterion=entropy, max_depth=55, max_features=log2, min_samples_leaf=5, min_samples_split=30, n_estimators=80; total time=   1.5s\n",
      "[CV] END criterion=entropy, max_depth=55, max_features=log2, min_samples_leaf=5, min_samples_split=30, n_estimators=100; total time=   1.7s\n",
      "[CV] END criterion=entropy, max_depth=55, max_features=log2, min_samples_leaf=5, min_samples_split=30, n_estimators=100; total time=   1.7s\n",
      "[CV] END criterion=entropy, max_depth=55, max_features=log2, min_samples_leaf=5, min_samples_split=30, n_estimators=100; total time=   1.7s\n",
      "[CV] END criterion=entropy, max_depth=55, max_features=log2, min_samples_leaf=15, min_samples_split=15, n_estimators=40; total time=   0.7s\n",
      "[CV] END criterion=entropy, max_depth=55, max_features=log2, min_samples_leaf=15, min_samples_split=15, n_estimators=40; total time=   0.7s\n",
      "[CV] END criterion=entropy, max_depth=55, max_features=log2, min_samples_leaf=15, min_samples_split=15, n_estimators=40; total time=   0.7s\n",
      "[CV] END criterion=entropy, max_depth=55, max_features=log2, min_samples_leaf=15, min_samples_split=15, n_estimators=60; total time=   0.9s\n",
      "[CV] END criterion=entropy, max_depth=55, max_features=log2, min_samples_leaf=15, min_samples_split=15, n_estimators=60; total time=   0.9s\n",
      "[CV] END criterion=entropy, max_depth=55, max_features=log2, min_samples_leaf=15, min_samples_split=15, n_estimators=60; total time=   0.9s\n",
      "[CV] END criterion=entropy, max_depth=55, max_features=log2, min_samples_leaf=15, min_samples_split=15, n_estimators=80; total time=   1.1s\n",
      "[CV] END criterion=entropy, max_depth=55, max_features=log2, min_samples_leaf=15, min_samples_split=15, n_estimators=80; total time=   1.1s\n",
      "[CV] END criterion=entropy, max_depth=55, max_features=log2, min_samples_leaf=15, min_samples_split=15, n_estimators=80; total time=   1.1s\n",
      "[CV] END criterion=entropy, max_depth=55, max_features=log2, min_samples_leaf=15, min_samples_split=15, n_estimators=100; total time=   1.2s\n",
      "[CV] END criterion=entropy, max_depth=55, max_features=log2, min_samples_leaf=15, min_samples_split=15, n_estimators=100; total time=   1.2s\n",
      "[CV] END criterion=entropy, max_depth=55, max_features=log2, min_samples_leaf=15, min_samples_split=15, n_estimators=100; total time=   1.2s\n",
      "[CV] END criterion=entropy, max_depth=55, max_features=log2, min_samples_leaf=15, min_samples_split=30, n_estimators=40; total time=   0.7s\n",
      "[CV] END criterion=entropy, max_depth=55, max_features=log2, min_samples_leaf=15, min_samples_split=30, n_estimators=40; total time=   0.7s\n",
      "[CV] END criterion=entropy, max_depth=55, max_features=log2, min_samples_leaf=15, min_samples_split=30, n_estimators=40; total time=   0.7s\n",
      "[CV] END criterion=entropy, max_depth=55, max_features=log2, min_samples_leaf=15, min_samples_split=30, n_estimators=60; total time=   0.9s\n",
      "[CV] END criterion=entropy, max_depth=55, max_features=log2, min_samples_leaf=15, min_samples_split=30, n_estimators=60; total time=   0.9s\n",
      "[CV] END criterion=entropy, max_depth=55, max_features=log2, min_samples_leaf=15, min_samples_split=30, n_estimators=60; total time=   0.9s\n",
      "[CV] END criterion=entropy, max_depth=55, max_features=log2, min_samples_leaf=15, min_samples_split=30, n_estimators=80; total time=   1.1s\n",
      "[CV] END criterion=entropy, max_depth=55, max_features=log2, min_samples_leaf=15, min_samples_split=30, n_estimators=80; total time=   1.1s\n",
      "[CV] END criterion=entropy, max_depth=55, max_features=log2, min_samples_leaf=15, min_samples_split=30, n_estimators=80; total time=   1.1s\n",
      "[CV] END criterion=entropy, max_depth=55, max_features=log2, min_samples_leaf=15, min_samples_split=30, n_estimators=100; total time=   1.2s\n"
     ]
    },
    {
     "name": "stdout",
     "output_type": "stream",
     "text": [
      "[CV] END criterion=entropy, max_depth=55, max_features=log2, min_samples_leaf=15, min_samples_split=30, n_estimators=100; total time=   1.2s\n",
      "[CV] END criterion=entropy, max_depth=55, max_features=log2, min_samples_leaf=15, min_samples_split=30, n_estimators=100; total time=   1.3s\n",
      "[CV] END criterion=entropy, max_depth=55, max_features=log2, min_samples_leaf=30, min_samples_split=15, n_estimators=40; total time=   0.6s\n",
      "[CV] END criterion=entropy, max_depth=55, max_features=log2, min_samples_leaf=30, min_samples_split=15, n_estimators=40; total time=   0.6s\n",
      "[CV] END criterion=entropy, max_depth=55, max_features=log2, min_samples_leaf=30, min_samples_split=15, n_estimators=40; total time=   0.5s\n",
      "[CV] END criterion=entropy, max_depth=55, max_features=log2, min_samples_leaf=30, min_samples_split=15, n_estimators=60; total time=   0.7s\n",
      "[CV] END criterion=entropy, max_depth=55, max_features=log2, min_samples_leaf=30, min_samples_split=15, n_estimators=60; total time=   0.6s\n",
      "[CV] END criterion=entropy, max_depth=55, max_features=log2, min_samples_leaf=30, min_samples_split=15, n_estimators=60; total time=   0.6s\n",
      "[CV] END criterion=entropy, max_depth=55, max_features=log2, min_samples_leaf=30, min_samples_split=15, n_estimators=80; total time=   0.7s\n",
      "[CV] END criterion=entropy, max_depth=55, max_features=log2, min_samples_leaf=30, min_samples_split=15, n_estimators=80; total time=   0.7s\n",
      "[CV] END criterion=entropy, max_depth=55, max_features=log2, min_samples_leaf=30, min_samples_split=15, n_estimators=80; total time=   0.7s\n",
      "[CV] END criterion=entropy, max_depth=55, max_features=log2, min_samples_leaf=30, min_samples_split=15, n_estimators=100; total time=   0.9s\n",
      "[CV] END criterion=entropy, max_depth=55, max_features=log2, min_samples_leaf=30, min_samples_split=15, n_estimators=100; total time=   0.8s\n",
      "[CV] END criterion=entropy, max_depth=55, max_features=log2, min_samples_leaf=30, min_samples_split=15, n_estimators=100; total time=   0.9s\n",
      "[CV] END criterion=entropy, max_depth=55, max_features=log2, min_samples_leaf=30, min_samples_split=30, n_estimators=40; total time=   0.6s\n",
      "[CV] END criterion=entropy, max_depth=55, max_features=log2, min_samples_leaf=30, min_samples_split=30, n_estimators=40; total time=   0.5s\n",
      "[CV] END criterion=entropy, max_depth=55, max_features=log2, min_samples_leaf=30, min_samples_split=30, n_estimators=40; total time=   0.5s\n",
      "[CV] END criterion=entropy, max_depth=55, max_features=log2, min_samples_leaf=30, min_samples_split=30, n_estimators=60; total time=   0.6s\n",
      "[CV] END criterion=entropy, max_depth=55, max_features=log2, min_samples_leaf=30, min_samples_split=30, n_estimators=60; total time=   0.6s\n",
      "[CV] END criterion=entropy, max_depth=55, max_features=log2, min_samples_leaf=30, min_samples_split=30, n_estimators=60; total time=   0.5s\n",
      "[CV] END criterion=entropy, max_depth=55, max_features=log2, min_samples_leaf=30, min_samples_split=30, n_estimators=80; total time=   0.7s\n",
      "[CV] END criterion=entropy, max_depth=55, max_features=log2, min_samples_leaf=30, min_samples_split=30, n_estimators=80; total time=   0.6s\n",
      "[CV] END criterion=entropy, max_depth=55, max_features=log2, min_samples_leaf=30, min_samples_split=30, n_estimators=80; total time=   0.6s\n",
      "[CV] END criterion=entropy, max_depth=55, max_features=log2, min_samples_leaf=30, min_samples_split=30, n_estimators=100; total time=   0.7s\n",
      "[CV] END criterion=entropy, max_depth=55, max_features=log2, min_samples_leaf=30, min_samples_split=30, n_estimators=100; total time=   0.7s\n",
      "[CV] END criterion=entropy, max_depth=55, max_features=log2, min_samples_leaf=30, min_samples_split=30, n_estimators=100; total time=   0.7s\n",
      "[CV] END criterion=entropy, max_depth=None, max_features=log2, min_samples_leaf=5, min_samples_split=15, n_estimators=40; total time=   0.9s\n",
      "[CV] END criterion=entropy, max_depth=None, max_features=log2, min_samples_leaf=5, min_samples_split=15, n_estimators=40; total time=   1.0s\n",
      "[CV] END criterion=entropy, max_depth=None, max_features=log2, min_samples_leaf=5, min_samples_split=15, n_estimators=40; total time=   1.0s\n",
      "[CV] END criterion=entropy, max_depth=None, max_features=log2, min_samples_leaf=5, min_samples_split=15, n_estimators=60; total time=   1.1s\n",
      "[CV] END criterion=entropy, max_depth=None, max_features=log2, min_samples_leaf=5, min_samples_split=15, n_estimators=60; total time=   1.1s\n",
      "[CV] END criterion=entropy, max_depth=None, max_features=log2, min_samples_leaf=5, min_samples_split=15, n_estimators=60; total time=   1.1s\n",
      "[CV] END criterion=entropy, max_depth=None, max_features=log2, min_samples_leaf=5, min_samples_split=15, n_estimators=80; total time=   1.4s\n",
      "[CV] END criterion=entropy, max_depth=None, max_features=log2, min_samples_leaf=5, min_samples_split=15, n_estimators=80; total time=   1.4s\n",
      "[CV] END criterion=entropy, max_depth=None, max_features=log2, min_samples_leaf=5, min_samples_split=15, n_estimators=80; total time=   1.5s\n",
      "[CV] END criterion=entropy, max_depth=None, max_features=log2, min_samples_leaf=5, min_samples_split=15, n_estimators=100; total time=   1.9s\n",
      "[CV] END criterion=entropy, max_depth=None, max_features=log2, min_samples_leaf=5, min_samples_split=15, n_estimators=100; total time=   1.9s\n",
      "[CV] END criterion=entropy, max_depth=None, max_features=log2, min_samples_leaf=5, min_samples_split=15, n_estimators=100; total time=   2.0s\n",
      "[CV] END criterion=entropy, max_depth=None, max_features=log2, min_samples_leaf=5, min_samples_split=30, n_estimators=40; total time=   1.0s\n",
      "[CV] END criterion=entropy, max_depth=None, max_features=log2, min_samples_leaf=5, min_samples_split=30, n_estimators=40; total time=   1.0s\n",
      "[CV] END criterion=entropy, max_depth=None, max_features=log2, min_samples_leaf=5, min_samples_split=30, n_estimators=40; total time=   0.9s\n",
      "[CV] END criterion=entropy, max_depth=None, max_features=log2, min_samples_leaf=5, min_samples_split=30, n_estimators=60; total time=   1.1s\n",
      "[CV] END criterion=entropy, max_depth=None, max_features=log2, min_samples_leaf=5, min_samples_split=30, n_estimators=60; total time=   1.1s\n",
      "[CV] END criterion=entropy, max_depth=None, max_features=log2, min_samples_leaf=5, min_samples_split=30, n_estimators=60; total time=   1.1s\n",
      "[CV] END criterion=entropy, max_depth=None, max_features=log2, min_samples_leaf=5, min_samples_split=30, n_estimators=80; total time=   1.3s\n",
      "[CV] END criterion=entropy, max_depth=None, max_features=log2, min_samples_leaf=5, min_samples_split=30, n_estimators=80; total time=   1.4s\n",
      "[CV] END criterion=entropy, max_depth=None, max_features=log2, min_samples_leaf=5, min_samples_split=30, n_estimators=80; total time=   1.4s\n",
      "[CV] END criterion=entropy, max_depth=None, max_features=log2, min_samples_leaf=5, min_samples_split=30, n_estimators=100; total time=   1.7s\n",
      "[CV] END criterion=entropy, max_depth=None, max_features=log2, min_samples_leaf=5, min_samples_split=30, n_estimators=100; total time=   1.7s\n",
      "[CV] END criterion=entropy, max_depth=None, max_features=log2, min_samples_leaf=5, min_samples_split=30, n_estimators=100; total time=   1.6s\n",
      "[CV] END criterion=entropy, max_depth=None, max_features=log2, min_samples_leaf=15, min_samples_split=15, n_estimators=40; total time=   0.6s\n",
      "[CV] END criterion=entropy, max_depth=None, max_features=log2, min_samples_leaf=15, min_samples_split=15, n_estimators=40; total time=   0.6s\n",
      "[CV] END criterion=entropy, max_depth=None, max_features=log2, min_samples_leaf=15, min_samples_split=15, n_estimators=40; total time=   0.6s\n",
      "[CV] END criterion=entropy, max_depth=None, max_features=log2, min_samples_leaf=15, min_samples_split=15, n_estimators=60; total time=   0.7s\n",
      "[CV] END criterion=entropy, max_depth=None, max_features=log2, min_samples_leaf=15, min_samples_split=15, n_estimators=60; total time=   0.7s\n",
      "[CV] END criterion=entropy, max_depth=None, max_features=log2, min_samples_leaf=15, min_samples_split=15, n_estimators=60; total time=   0.8s\n",
      "[CV] END criterion=entropy, max_depth=None, max_features=log2, min_samples_leaf=15, min_samples_split=15, n_estimators=80; total time=   0.9s\n",
      "[CV] END criterion=entropy, max_depth=None, max_features=log2, min_samples_leaf=15, min_samples_split=15, n_estimators=80; total time=   0.9s\n",
      "[CV] END criterion=entropy, max_depth=None, max_features=log2, min_samples_leaf=15, min_samples_split=15, n_estimators=80; total time=   0.9s\n"
     ]
    },
    {
     "name": "stdout",
     "output_type": "stream",
     "text": [
      "[CV] END criterion=entropy, max_depth=None, max_features=log2, min_samples_leaf=15, min_samples_split=15, n_estimators=100; total time=   1.1s\n",
      "[CV] END criterion=entropy, max_depth=None, max_features=log2, min_samples_leaf=15, min_samples_split=15, n_estimators=100; total time=   1.1s\n",
      "[CV] END criterion=entropy, max_depth=None, max_features=log2, min_samples_leaf=15, min_samples_split=15, n_estimators=100; total time=   1.1s\n",
      "[CV] END criterion=entropy, max_depth=None, max_features=log2, min_samples_leaf=15, min_samples_split=30, n_estimators=40; total time=   0.6s\n",
      "[CV] END criterion=entropy, max_depth=None, max_features=log2, min_samples_leaf=15, min_samples_split=30, n_estimators=40; total time=   0.6s\n",
      "[CV] END criterion=entropy, max_depth=None, max_features=log2, min_samples_leaf=15, min_samples_split=30, n_estimators=40; total time=   0.6s\n",
      "[CV] END criterion=entropy, max_depth=None, max_features=log2, min_samples_leaf=15, min_samples_split=30, n_estimators=60; total time=   0.7s\n",
      "[CV] END criterion=entropy, max_depth=None, max_features=log2, min_samples_leaf=15, min_samples_split=30, n_estimators=60; total time=   0.7s\n",
      "[CV] END criterion=entropy, max_depth=None, max_features=log2, min_samples_leaf=15, min_samples_split=30, n_estimators=60; total time=   0.7s\n",
      "[CV] END criterion=entropy, max_depth=None, max_features=log2, min_samples_leaf=15, min_samples_split=30, n_estimators=80; total time=   0.9s\n",
      "[CV] END criterion=entropy, max_depth=None, max_features=log2, min_samples_leaf=15, min_samples_split=30, n_estimators=80; total time=   0.9s\n",
      "[CV] END criterion=entropy, max_depth=None, max_features=log2, min_samples_leaf=15, min_samples_split=30, n_estimators=80; total time=   0.9s\n",
      "[CV] END criterion=entropy, max_depth=None, max_features=log2, min_samples_leaf=15, min_samples_split=30, n_estimators=100; total time=   1.0s\n",
      "[CV] END criterion=entropy, max_depth=None, max_features=log2, min_samples_leaf=15, min_samples_split=30, n_estimators=100; total time=   1.0s\n",
      "[CV] END criterion=entropy, max_depth=None, max_features=log2, min_samples_leaf=15, min_samples_split=30, n_estimators=100; total time=   1.1s\n",
      "[CV] END criterion=entropy, max_depth=None, max_features=log2, min_samples_leaf=30, min_samples_split=15, n_estimators=40; total time=   0.4s\n",
      "[CV] END criterion=entropy, max_depth=None, max_features=log2, min_samples_leaf=30, min_samples_split=15, n_estimators=40; total time=   0.5s\n",
      "[CV] END criterion=entropy, max_depth=None, max_features=log2, min_samples_leaf=30, min_samples_split=15, n_estimators=40; total time=   0.5s\n",
      "[CV] END criterion=entropy, max_depth=None, max_features=log2, min_samples_leaf=30, min_samples_split=15, n_estimators=60; total time=   0.5s\n",
      "[CV] END criterion=entropy, max_depth=None, max_features=log2, min_samples_leaf=30, min_samples_split=15, n_estimators=60; total time=   0.6s\n",
      "[CV] END criterion=entropy, max_depth=None, max_features=log2, min_samples_leaf=30, min_samples_split=15, n_estimators=60; total time=   0.6s\n",
      "[CV] END criterion=entropy, max_depth=None, max_features=log2, min_samples_leaf=30, min_samples_split=15, n_estimators=80; total time=   0.6s\n",
      "[CV] END criterion=entropy, max_depth=None, max_features=log2, min_samples_leaf=30, min_samples_split=15, n_estimators=80; total time=   0.6s\n",
      "[CV] END criterion=entropy, max_depth=None, max_features=log2, min_samples_leaf=30, min_samples_split=15, n_estimators=80; total time=   0.6s\n",
      "[CV] END criterion=entropy, max_depth=None, max_features=log2, min_samples_leaf=30, min_samples_split=15, n_estimators=100; total time=   0.7s\n",
      "[CV] END criterion=entropy, max_depth=None, max_features=log2, min_samples_leaf=30, min_samples_split=15, n_estimators=100; total time=   0.7s\n",
      "[CV] END criterion=entropy, max_depth=None, max_features=log2, min_samples_leaf=30, min_samples_split=15, n_estimators=100; total time=   0.7s\n",
      "[CV] END criterion=entropy, max_depth=None, max_features=log2, min_samples_leaf=30, min_samples_split=30, n_estimators=40; total time=   0.5s\n",
      "[CV] END criterion=entropy, max_depth=None, max_features=log2, min_samples_leaf=30, min_samples_split=30, n_estimators=40; total time=   0.4s\n",
      "[CV] END criterion=entropy, max_depth=None, max_features=log2, min_samples_leaf=30, min_samples_split=30, n_estimators=40; total time=   0.5s\n",
      "[CV] END criterion=entropy, max_depth=None, max_features=log2, min_samples_leaf=30, min_samples_split=30, n_estimators=60; total time=   0.6s\n",
      "[CV] END criterion=entropy, max_depth=None, max_features=log2, min_samples_leaf=30, min_samples_split=30, n_estimators=60; total time=   0.5s\n",
      "[CV] END criterion=entropy, max_depth=None, max_features=log2, min_samples_leaf=30, min_samples_split=30, n_estimators=60; total time=   0.6s\n",
      "[CV] END criterion=entropy, max_depth=None, max_features=log2, min_samples_leaf=30, min_samples_split=30, n_estimators=80; total time=   0.6s\n",
      "[CV] END criterion=entropy, max_depth=None, max_features=log2, min_samples_leaf=30, min_samples_split=30, n_estimators=80; total time=   0.6s\n",
      "[CV] END criterion=entropy, max_depth=None, max_features=log2, min_samples_leaf=30, min_samples_split=30, n_estimators=80; total time=   0.6s\n",
      "[CV] END criterion=entropy, max_depth=None, max_features=log2, min_samples_leaf=30, min_samples_split=30, n_estimators=100; total time=   0.7s\n",
      "[CV] END criterion=entropy, max_depth=None, max_features=log2, min_samples_leaf=30, min_samples_split=30, n_estimators=100; total time=   0.7s\n",
      "[CV] END criterion=entropy, max_depth=None, max_features=log2, min_samples_leaf=30, min_samples_split=30, n_estimators=100; total time=   0.7s\n"
     ]
    }
   ],
   "source": [
    "# hyperparameter tuning del random forest\n",
    "rf = Supervised.randomForest_parameterTuning(truncated_df, labels)"
   ]
  },
  {
   "cell_type": "code",
   "execution_count": 18,
   "id": "1c385ab7",
   "metadata": {},
   "outputs": [
    {
     "name": "stdout",
     "output_type": "stream",
     "text": [
      "Parametri migliori trovati:\n",
      "\n",
      "('criterion', 'entropy')\n",
      "('max_depth', None)\n",
      "('max_features', 'log2')\n",
      "('min_samples_leaf', 5)\n",
      "('min_samples_split', 15)\n",
      "('n_estimators', 80)\n"
     ]
    }
   ],
   "source": [
    "best_param = rf.best_params_\n",
    "print(\"Parametri migliori trovati:\\n\")\n",
    "for pair in best_param.items():\n",
    "    print(pair)"
   ]
  },
  {
   "cell_type": "code",
   "execution_count": 19,
   "id": "a6eb12dd",
   "metadata": {
    "scrolled": true
   },
   "outputs": [
    {
     "data": {
      "text/html": [
       "<div>\n",
       "<style scoped>\n",
       "    .dataframe tbody tr th:only-of-type {\n",
       "        vertical-align: middle;\n",
       "    }\n",
       "\n",
       "    .dataframe tbody tr th {\n",
       "        vertical-align: top;\n",
       "    }\n",
       "\n",
       "    .dataframe thead th {\n",
       "        text-align: right;\n",
       "    }\n",
       "</style>\n",
       "<table border=\"1\" class=\"dataframe\">\n",
       "  <thead>\n",
       "    <tr style=\"text-align: right;\">\n",
       "      <th></th>\n",
       "      <th>rank_test_score</th>\n",
       "      <th>mean_test_score</th>\n",
       "      <th>mean_train_score</th>\n",
       "      <th>param_n_estimators</th>\n",
       "      <th>param_min_samples_split</th>\n",
       "      <th>param_min_samples_leaf</th>\n",
       "      <th>param_max_features</th>\n",
       "      <th>param_max_depth</th>\n",
       "      <th>param_criterion</th>\n",
       "    </tr>\n",
       "  </thead>\n",
       "  <tbody>\n",
       "    <tr>\n",
       "      <th>50</th>\n",
       "      <td>1</td>\n",
       "      <td>0.803342</td>\n",
       "      <td>0.892502</td>\n",
       "      <td>80</td>\n",
       "      <td>15</td>\n",
       "      <td>5</td>\n",
       "      <td>log2</td>\n",
       "      <td>None</td>\n",
       "      <td>entropy</td>\n",
       "    </tr>\n",
       "    <tr>\n",
       "      <th>54</th>\n",
       "      <td>2</td>\n",
       "      <td>0.800926</td>\n",
       "      <td>0.891922</td>\n",
       "      <td>80</td>\n",
       "      <td>30</td>\n",
       "      <td>5</td>\n",
       "      <td>log2</td>\n",
       "      <td>None</td>\n",
       "      <td>entropy</td>\n",
       "    </tr>\n",
       "    <tr>\n",
       "      <th>26</th>\n",
       "      <td>3</td>\n",
       "      <td>0.800195</td>\n",
       "      <td>0.881553</td>\n",
       "      <td>80</td>\n",
       "      <td>15</td>\n",
       "      <td>5</td>\n",
       "      <td>log2</td>\n",
       "      <td>55</td>\n",
       "      <td>entropy</td>\n",
       "    </tr>\n",
       "    <tr>\n",
       "      <th>27</th>\n",
       "      <td>4</td>\n",
       "      <td>0.800083</td>\n",
       "      <td>0.884305</td>\n",
       "      <td>100</td>\n",
       "      <td>15</td>\n",
       "      <td>5</td>\n",
       "      <td>log2</td>\n",
       "      <td>55</td>\n",
       "      <td>entropy</td>\n",
       "    </tr>\n",
       "    <tr>\n",
       "      <th>49</th>\n",
       "      <td>5</td>\n",
       "      <td>0.798968</td>\n",
       "      <td>0.890887</td>\n",
       "      <td>60</td>\n",
       "      <td>15</td>\n",
       "      <td>5</td>\n",
       "      <td>log2</td>\n",
       "      <td>None</td>\n",
       "      <td>entropy</td>\n",
       "    </tr>\n",
       "    <tr>\n",
       "      <th>51</th>\n",
       "      <td>6</td>\n",
       "      <td>0.797713</td>\n",
       "      <td>0.893800</td>\n",
       "      <td>100</td>\n",
       "      <td>15</td>\n",
       "      <td>5</td>\n",
       "      <td>log2</td>\n",
       "      <td>None</td>\n",
       "      <td>entropy</td>\n",
       "    </tr>\n",
       "    <tr>\n",
       "      <th>55</th>\n",
       "      <td>7</td>\n",
       "      <td>0.796884</td>\n",
       "      <td>0.893119</td>\n",
       "      <td>100</td>\n",
       "      <td>30</td>\n",
       "      <td>5</td>\n",
       "      <td>log2</td>\n",
       "      <td>None</td>\n",
       "      <td>entropy</td>\n",
       "    </tr>\n",
       "    <tr>\n",
       "      <th>6</th>\n",
       "      <td>8</td>\n",
       "      <td>0.796739</td>\n",
       "      <td>0.867824</td>\n",
       "      <td>80</td>\n",
       "      <td>30</td>\n",
       "      <td>5</td>\n",
       "      <td>log2</td>\n",
       "      <td>35</td>\n",
       "      <td>entropy</td>\n",
       "    </tr>\n",
       "    <tr>\n",
       "      <th>30</th>\n",
       "      <td>9</td>\n",
       "      <td>0.796547</td>\n",
       "      <td>0.881073</td>\n",
       "      <td>80</td>\n",
       "      <td>30</td>\n",
       "      <td>5</td>\n",
       "      <td>log2</td>\n",
       "      <td>55</td>\n",
       "      <td>entropy</td>\n",
       "    </tr>\n",
       "    <tr>\n",
       "      <th>3</th>\n",
       "      <td>10</td>\n",
       "      <td>0.796420</td>\n",
       "      <td>0.872981</td>\n",
       "      <td>100</td>\n",
       "      <td>15</td>\n",
       "      <td>5</td>\n",
       "      <td>log2</td>\n",
       "      <td>35</td>\n",
       "      <td>entropy</td>\n",
       "    </tr>\n",
       "  </tbody>\n",
       "</table>\n",
       "</div>"
      ],
      "text/plain": [
       "    rank_test_score  mean_test_score  mean_train_score param_n_estimators  \\\n",
       "50                1         0.803342          0.892502                 80   \n",
       "54                2         0.800926          0.891922                 80   \n",
       "26                3         0.800195          0.881553                 80   \n",
       "27                4         0.800083          0.884305                100   \n",
       "49                5         0.798968          0.890887                 60   \n",
       "51                6         0.797713          0.893800                100   \n",
       "55                7         0.796884          0.893119                100   \n",
       "6                 8         0.796739          0.867824                 80   \n",
       "30                9         0.796547          0.881073                 80   \n",
       "3                10         0.796420          0.872981                100   \n",
       "\n",
       "   param_min_samples_split param_min_samples_leaf param_max_features  \\\n",
       "50                      15                      5               log2   \n",
       "54                      30                      5               log2   \n",
       "26                      15                      5               log2   \n",
       "27                      15                      5               log2   \n",
       "49                      15                      5               log2   \n",
       "51                      15                      5               log2   \n",
       "55                      30                      5               log2   \n",
       "6                       30                      5               log2   \n",
       "30                      30                      5               log2   \n",
       "3                       15                      5               log2   \n",
       "\n",
       "   param_max_depth param_criterion  \n",
       "50            None         entropy  \n",
       "54            None         entropy  \n",
       "26              55         entropy  \n",
       "27              55         entropy  \n",
       "49            None         entropy  \n",
       "51            None         entropy  \n",
       "55            None         entropy  \n",
       "6               35         entropy  \n",
       "30              55         entropy  \n",
       "3               35         entropy  "
      ]
     },
     "execution_count": 19,
     "metadata": {},
     "output_type": "execute_result"
    }
   ],
   "source": [
    "df_cv_results = pd.DataFrame(rf.cv_results_)\n",
    "df_cv_results = df_cv_results[['rank_test_score','mean_test_score','mean_train_score',\n",
    "                           'param_n_estimators', 'param_min_samples_split','param_min_samples_leaf',\n",
    "                           'param_max_features', 'param_max_depth','param_criterion']]\n",
    "df_cv_results.sort_values('rank_test_score', inplace=True)\n",
    "df_cv_results[:10]"
   ]
  },
  {
   "cell_type": "code",
   "execution_count": 20,
   "id": "10eaae18",
   "metadata": {},
   "outputs": [
    {
     "name": "stdout",
     "output_type": "stream",
     "text": [
      "Accuracy: 0.8029166666666666\n",
      "              precision    recall  f1-score   support\n",
      "\n",
      "    Negativo       0.80      0.81      0.81      1213\n",
      "    Positivo       0.80      0.80      0.80      1187\n",
      "\n",
      "    accuracy                           0.80      2400\n",
      "   macro avg       0.80      0.80      0.80      2400\n",
      "weighted avg       0.80      0.80      0.80      2400\n",
      "\n",
      "K cross validation, k=  10\n",
      "Average scores:  0.8025833333333333\n",
      "Standard Deviation of scores:  0.009877373132569195\n",
      "\n",
      "\n",
      "\n",
      "K cross validation, k=  11\n",
      "Average scores:  0.8031674730469708\n",
      "Standard Deviation of scores:  0.008775096285340936\n",
      "\n",
      "\n",
      "\n",
      "K cross validation, k=  12\n",
      "Average scores:  0.80275\n",
      "Standard Deviation of scores:  0.007001487937098316\n",
      "\n",
      "\n",
      "\n",
      "K cross validation, k=  13\n",
      "Average scores:  0.80624954676959\n",
      "Standard Deviation of scores:  0.01165160066126534\n",
      "\n",
      "\n",
      "\n",
      "K cross validation, k=  14\n",
      "Average scores:  0.8037503142520646\n",
      "Standard Deviation of scores:  0.011265797620355561\n",
      "\n",
      "\n",
      "\n",
      "K cross validation, k=  15\n",
      "Average scores:  0.8053333333333335\n",
      "Standard Deviation of scores:  0.011694609394455602\n",
      "\n",
      "\n",
      "\n"
     ]
    }
   ],
   "source": [
    "# applico randomForest completo (featureSelection e hyperparameterTuning)\n",
    "rf = Supervised.randomForest(truncated_df, labels, best_param)"
   ]
  },
  {
   "cell_type": "markdown",
   "id": "ef06e8f0",
   "metadata": {},
   "source": [
    "### Classificatore bayesiano"
   ]
  },
  {
   "cell_type": "code",
   "execution_count": 21,
   "id": "dc9e6e98",
   "metadata": {
    "scrolled": true
   },
   "outputs": [],
   "source": [
    "#Supervised.multinomialNaiveBayes(truncated_df, labels)\n"
   ]
  },
  {
   "cell_type": "markdown",
   "id": "02bd61d4",
   "metadata": {},
   "source": [
    "### Classificatore KNN"
   ]
  },
  {
   "cell_type": "code",
   "execution_count": 22,
   "id": "a2666708",
   "metadata": {
    "scrolled": false
   },
   "outputs": [
    {
     "name": "stdout",
     "output_type": "stream",
     "text": [
      "9\n",
      "train:  0.7157291666666666\n",
      "test:  0.6625\n",
      "11\n",
      "train:  0.7013541666666666\n",
      "test:  0.6654166666666667\n",
      "13\n",
      "train:  0.69625\n",
      "test:  0.6604166666666667\n",
      "15\n",
      "train:  0.6953125\n",
      "test:  0.6658333333333334\n",
      "17\n",
      "train:  0.6926041666666667\n",
      "test:  0.665\n",
      "19\n",
      "train:  0.6895833333333333\n",
      "test:  0.66375\n",
      "97\n",
      "train:  0.6790625\n",
      "test:  0.6758333333333333\n",
      "[0.3375, 0.33458333333333334, 0.33958333333333335, 0.33416666666666667, 0.335, 0.33625, 0.32416666666666666]\n",
      "0.6616666666666666\n",
      "              precision    recall  f1-score   support\n",
      "\n",
      "    Negativo       0.71      0.57      0.63      1213\n",
      "    Positivo       0.63      0.76      0.69      1187\n",
      "\n",
      "    accuracy                           0.66      2400\n",
      "   macro avg       0.67      0.66      0.66      2400\n",
      "weighted avg       0.67      0.66      0.66      2400\n",
      "\n",
      "K cross validation, k=  10\n",
      "Average scores:  0.6599999999999999\n",
      "Standard Deviation of scores:  0.017993054215446575\n",
      "\n",
      "\n",
      "\n",
      "K cross validation, k=  11\n",
      "Average scores:  0.6589987531620072\n",
      "Standard Deviation of scores:  0.015150874739969554\n",
      "\n",
      "\n",
      "\n",
      "K cross validation, k=  12\n",
      "Average scores:  0.6574166666666666\n",
      "Standard Deviation of scores:  0.020459139495318215\n",
      "\n",
      "\n",
      "\n",
      "K cross validation, k=  13\n",
      "Average scores:  0.6598314109148345\n",
      "Standard Deviation of scores:  0.01671265451554348\n",
      "\n",
      "\n",
      "\n",
      "K cross validation, k=  14\n",
      "Average scores:  0.6592459465855033\n",
      "Standard Deviation of scores:  0.01813899243339647\n",
      "\n",
      "\n",
      "\n",
      "K cross validation, k=  15\n",
      "Average scores:  0.6599999999999999\n",
      "Standard Deviation of scores:  0.01847295320191115\n",
      "\n",
      "\n",
      "\n"
     ]
    },
    {
     "data": {
      "image/png": "[encoded data removed]",
      "text/plain": [
       "<Figure size 864x432 with 1 Axes>"
      ]
     },
     "metadata": {
      "needs_background": "light"
     },
     "output_type": "display_data"
    }
   ],
   "source": [
    "Supervised.knn(truncated_df, labels)"
   ]
  },
  {
   "cell_type": "code",
   "execution_count": 23,
   "id": "f4aa6f25",
   "metadata": {},
   "outputs": [
    {
     "data": {
      "image/png": "[encoded data removed]",
      "text/plain": [
       "<Figure size 432x288 with 1 Axes>"
      ]
     },
     "metadata": {
      "needs_background": "light"
     },
     "output_type": "display_data"
    }
   ],
   "source": [
    "#import importlib\n",
    "#importlib.reload(nameOfModule)"
   ]
  },
  {
   "cell_type": "code",
   "execution_count": null,
   "id": "8d8df48f",
   "metadata": {},
   "outputs": [],
   "source": []
  }
 ],
 "metadata": {
  "kernelspec": {
   "display_name": "Python 3 (ipykernel)",
   "language": "python",
   "name": "python3"
  },
  "language_info": {
   "codemirror_mode": {
    "name": "ipython",
    "version": 3
   },
   "file_extension": ".py",
   "mimetype": "text/x-python",
   "name": "python",
   "nbconvert_exporter": "python",
   "pygments_lexer": "ipython3",
   "version": "3.9.7"
  }
 },
 "nbformat": 4,
 "nbformat_minor": 5
}
