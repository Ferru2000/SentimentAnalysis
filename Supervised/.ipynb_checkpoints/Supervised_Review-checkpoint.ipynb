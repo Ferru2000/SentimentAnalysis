{
 "cells": [
  {
   "cell_type": "markdown",
   "id": "b1c228a1",
   "metadata": {},
   "source": [
    "# Algoritmi supervisionati"
   ]
  },
  {
   "cell_type": "markdown",
   "id": "2fbe23f5",
   "metadata": {},
   "source": [
    "## In questa sezione vengono applicati gli algoritmi supervisionati"
   ]
  },
  {
   "cell_type": "markdown",
   "id": "9317ed36",
   "metadata": {},
   "source": [
    "### Import delle librerie e moduli necessari"
   ]
  },
  {
   "cell_type": "code",
   "execution_count": 1,
   "id": "18ca3f10",
   "metadata": {},
   "outputs": [],
   "source": [
    "# librerie generali\n",
    "import numpy as np\n",
    "import pandas as pd\n",
    "import matplotlib.pyplot as plt\n",
    "import math\n",
    "\n",
    "# librerie per la rappresentazione del dataset\n",
    "from sklearn.feature_extraction.text import TfidfVectorizer\n",
    "\n",
    "# libreria per suddividere il dataset in train e test set\n",
    "from sklearn.model_selection import train_test_split\n",
    "\n",
    "# libreria utilizzata per l'ottimizzazione dei parametri\n",
    "from sklearn.model_selection import GridSearchCV\n",
    "from sklearn.model_selection import StratifiedKFold\n",
    "\n",
    "# librerie utilizzate per le misure\n",
    "from sklearn import metrics\n",
    "from sklearn.metrics import accuracy_score\n",
    "from sklearn.metrics import precision_score\n",
    "from sklearn.metrics import recall_score\n",
    "from sklearn.metrics import classification_report\n",
    "from sklearn.metrics import confusion_matrix\n",
    "from sklearn.metrics import plot_confusion_matrix\n",
    "import seaborn as sns\n",
    "\n",
    "# libreria utilizzata per la cross validation\n",
    "from sklearn.model_selection import cross_val_score\n",
    "\n",
    "# libreria per il Random Forest\n",
    "from sklearn.ensemble import RandomForestClassifier\n",
    "from sklearn.feature_selection import SelectFromModel\n",
    "\n",
    "# libreria utilizzata per il Multinomial Naive Bayes\n",
    "from sklearn.naive_bayes import MultinomialNB\n",
    "\n",
    "# libreria utilizzata per il KNN\n",
    "from sklearn.neighbors import KNeighborsClassifier\n",
    "\n",
    "# libreria utilizzata per la rete neurale\n",
    "from sklearn.neural_network import MLPClassifier\n",
    "\n",
    "# libreria utilizzata per il support vector machine\n",
    "from sklearn.svm import SVC\n",
    "\n",
    "# libreria utilizzata per l'ensamble learning\n",
    "from sklearn.ensemble import StackingClassifier\n",
    "\n",
    "# seed utilizzato per la generazione del train e test set\n",
    "random_seed = 3"
   ]
  },
  {
   "cell_type": "markdown",
   "id": "9cd2b7b7",
   "metadata": {},
   "source": [
    "# 1. Creazione dataset con rappresentazione tf-idf"
   ]
  },
  {
   "cell_type": "code",
   "execution_count": 2,
   "id": "7f7a790e",
   "metadata": {},
   "outputs": [
    {
     "data": {
      "text/html": [
       "<div>\n",
       "<style scoped>\n",
       "    .dataframe tbody tr th:only-of-type {\n",
       "        vertical-align: middle;\n",
       "    }\n",
       "\n",
       "    .dataframe tbody tr th {\n",
       "        vertical-align: top;\n",
       "    }\n",
       "\n",
       "    .dataframe thead th {\n",
       "        text-align: right;\n",
       "    }\n",
       "</style>\n",
       "<table border=\"1\" class=\"dataframe\">\n",
       "  <thead>\n",
       "    <tr style=\"text-align: right;\">\n",
       "      <th></th>\n",
       "      <th>rating</th>\n",
       "      <th>reviewText</th>\n",
       "      <th>summary</th>\n",
       "      <th>sentiment</th>\n",
       "      <th>numberPositiveReview</th>\n",
       "      <th>numberNegativeReview</th>\n",
       "      <th>numberPositiveSummary</th>\n",
       "      <th>numberNegativeSummary</th>\n",
       "    </tr>\n",
       "  </thead>\n",
       "  <tbody>\n",
       "    <tr>\n",
       "      <th>0</th>\n",
       "      <td>3</td>\n",
       "      <td>jace rankin may short he nothing mess man haul...</td>\n",
       "      <td>entertain but average</td>\n",
       "      <td>0</td>\n",
       "      <td>0.05</td>\n",
       "      <td>0.10</td>\n",
       "      <td>0.33</td>\n",
       "      <td>0.00</td>\n",
       "    </tr>\n",
       "    <tr>\n",
       "      <th>1</th>\n",
       "      <td>5</td>\n",
       "      <td>great short read i didnt want put i read one s...</td>\n",
       "      <td>terrific menage scene</td>\n",
       "      <td>1</td>\n",
       "      <td>0.16</td>\n",
       "      <td>0.02</td>\n",
       "      <td>0.33</td>\n",
       "      <td>0.00</td>\n",
       "    </tr>\n",
       "    <tr>\n",
       "      <th>2</th>\n",
       "      <td>3</td>\n",
       "      <td>ill start say first four book i wasnt expect 3...</td>\n",
       "      <td>snapdragon alley</td>\n",
       "      <td>0</td>\n",
       "      <td>0.04</td>\n",
       "      <td>0.02</td>\n",
       "      <td>0.00</td>\n",
       "      <td>0.00</td>\n",
       "    </tr>\n",
       "    <tr>\n",
       "      <th>3</th>\n",
       "      <td>3</td>\n",
       "      <td>aggie angela lansbury carry pocketbook instead...</td>\n",
       "      <td>light murder cozy</td>\n",
       "      <td>0</td>\n",
       "      <td>0.09</td>\n",
       "      <td>0.12</td>\n",
       "      <td>0.33</td>\n",
       "      <td>0.33</td>\n",
       "    </tr>\n",
       "    <tr>\n",
       "      <th>4</th>\n",
       "      <td>4</td>\n",
       "      <td>i expect type book library please find price r...</td>\n",
       "      <td>book</td>\n",
       "      <td>1</td>\n",
       "      <td>0.11</td>\n",
       "      <td>0.00</td>\n",
       "      <td>0.00</td>\n",
       "      <td>0.00</td>\n",
       "    </tr>\n",
       "  </tbody>\n",
       "</table>\n",
       "</div>"
      ],
      "text/plain": [
       "   rating                                         reviewText  \\\n",
       "0       3  jace rankin may short he nothing mess man haul...   \n",
       "1       5  great short read i didnt want put i read one s...   \n",
       "2       3  ill start say first four book i wasnt expect 3...   \n",
       "3       3  aggie angela lansbury carry pocketbook instead...   \n",
       "4       4  i expect type book library please find price r...   \n",
       "\n",
       "                 summary  sentiment  numberPositiveReview  \\\n",
       "0  entertain but average          0                  0.05   \n",
       "1  terrific menage scene          1                  0.16   \n",
       "2       snapdragon alley          0                  0.04   \n",
       "3      light murder cozy          0                  0.09   \n",
       "4                   book          1                  0.11   \n",
       "\n",
       "   numberNegativeReview  numberPositiveSummary  numberNegativeSummary  \n",
       "0                  0.10                   0.33                   0.00  \n",
       "1                  0.02                   0.33                   0.00  \n",
       "2                  0.02                   0.00                   0.00  \n",
       "3                  0.12                   0.33                   0.33  \n",
       "4                  0.00                   0.00                   0.00  "
      ]
     },
     "execution_count": 2,
     "metadata": {},
     "output_type": "execute_result"
    }
   ],
   "source": [
    "clean_dataset = pd.read_csv(\"../datasets/clean_dataset.csv\", index_col=0)\n",
    "clean_dataset.head()"
   ]
  },
  {
   "cell_type": "code",
   "execution_count": 3,
   "id": "83785a67",
   "metadata": {},
   "outputs": [],
   "source": [
    "def createDataframeWithTfIdf(dataframe):\n",
    "    reviewText = dataframe['reviewText'].to_numpy()\n",
    "    vectorizer = TfidfVectorizer(sublinear_tf=True)\n",
    "    tfidf_vector = vectorizer.fit_transform(reviewText)\n",
    "    tfidf_df = pd.DataFrame(tfidf_vector.toarray(), index=reviewText, columns=vectorizer.get_feature_names())\n",
    "    \n",
    "    tfidf_df['numberPositiveReview'] = dataframe['numberPositiveReview'].to_numpy()\n",
    "    tfidf_df['numberNegativeReview'] = dataframe['numberNegativeReview'].to_numpy()\n",
    "    tfidf_df.reset_index(drop=True, inplace=True)\n",
    "    sentiment = dataframe['sentiment']\n",
    "    return tfidf_df, sentiment"
   ]
  },
  {
   "cell_type": "code",
   "execution_count": 4,
   "id": "8ee4946c",
   "metadata": {},
   "outputs": [],
   "source": [
    "dataset, labels = createDataframeWithTfIdf(clean_dataset)"
   ]
  },
  {
   "cell_type": "code",
   "execution_count": 5,
   "id": "03bf481b",
   "metadata": {},
   "outputs": [
    {
     "name": "stdout",
     "output_type": "stream",
     "text": [
      "(11969, 41651)\n"
     ]
    }
   ],
   "source": [
    "print(dataset.shape)"
   ]
  },
  {
   "cell_type": "markdown",
   "id": "b944203b",
   "metadata": {},
   "source": [
    "# 2. Definizione della funzione K-fold cross validation"
   ]
  },
  {
   "cell_type": "markdown",
   "id": "6254754c",
   "metadata": {},
   "source": [
    "## Questa funzione viene utilizzata per effettuare la K-fold cross validation sui varia classificatori. La cross validation viene effettuata per valori di k in [10, 15]"
   ]
  },
  {
   "cell_type": "code",
   "execution_count": 6,
   "id": "fd0f4943",
   "metadata": {},
   "outputs": [],
   "source": [
    "def kCrossValidation(model, dataset, labels):\n",
    "    k = []\n",
    "    acc = []\n",
    "    dev = []\n",
    "\n",
    "    #nota, non viene effettuato lo shuffle dei fold, quindi sono sempre gli stessi, sono già istanziati\n",
    "    for i in range(10, 16):\n",
    "        scores = cross_val_score(model, dataset, labels, cv=i)\n",
    "        print(\"K cross validation, k= \", i)\n",
    "        k.append(i)\n",
    "        print(\"Average scores: \", scores.mean())\n",
    "        acc.append(scores.mean())\n",
    "        print(\"Standard Deviation of scores: \", scores.std())\n",
    "        dev.append(scores.std())\n",
    "        print(\"\\n\\n\")"
   ]
  },
  {
   "cell_type": "markdown",
   "id": "d8e783bc",
   "metadata": {},
   "source": [
    "## 2.1 Definizione funzione per la visualizzazione dei grafici"
   ]
  },
  {
   "cell_type": "code",
   "execution_count": 7,
   "id": "308a39ad",
   "metadata": {},
   "outputs": [],
   "source": [
    "def report_scores(Y_test, y_predicted):\n",
    "    #print(\"Accuracy score: \", accuracy_score(Y_test, y_predicted))\n",
    "    print(classification_report(Y_test, y_predicted, target_names=[\"Negativo\", \"Positivo\"]))\n",
    "    \n",
    "    cf_matrix = confusion_matrix(Y_test, y_predicted)\n",
    "\n",
    "    ax = sns.heatmap(cf_matrix/np.sum(cf_matrix), annot=True, \n",
    "            fmt='.2%', cmap='Blues')\n",
    "\n",
    "    ax.set_title('Seaborn Confusion Matrix with labels\\n\\n');\n",
    "    ax.set_xlabel('\\nPredicted Values')\n",
    "    ax.set_ylabel('Actual Values ');\n",
    "\n",
    "    ## Ticket labels - List must be in alphabetical order\n",
    "    ax.xaxis.set_ticklabels(['Negativo','Positivo'])\n",
    "    ax.yaxis.set_ticklabels(['Negativo','Positivo'])\n",
    "\n",
    "    ## Display the visualization of the Confusion Matrix.\n",
    "    plt.show()"
   ]
  },
  {
   "cell_type": "markdown",
   "id": "57945cd8",
   "metadata": {},
   "source": [
    "# 3. Random Forest"
   ]
  },
  {
   "cell_type": "markdown",
   "id": "0be00535",
   "metadata": {},
   "source": [
    "## 3.1 Random Forest: Feature Selection"
   ]
  },
  {
   "cell_type": "markdown",
   "id": "2f720045",
   "metadata": {},
   "source": [
    "### Prima di applicare il random forest per la classificazione, viene effettuata la feature selection per estrarre le feature più importanti, avendo il dataset nella rappresentazione tf-idf"
   ]
  },
  {
   "cell_type": "code",
   "execution_count": 8,
   "id": "00ddeffd",
   "metadata": {},
   "outputs": [
    {
     "name": "stdout",
     "output_type": "stream",
     "text": [
      "Numero feature selezionate: 3330\n"
     ]
    }
   ],
   "source": [
    "X_train, X_test, Y_train, Y_test = train_test_split(dataset, labels, test_size=0.2, random_state=random_seed)\n",
    "    \n",
    "rf = RandomForestClassifier(criterion = 'entropy', random_state=random_seed)\n",
    "rf.fit(X_train, Y_train)\n",
    "y_pred=rf.predict(X_test)\n",
    "\n",
    "# feature selection\n",
    "sel = SelectFromModel(rf, prefit=True)\n",
    "selected_feat = dataset.columns[(sel.get_support())]\n",
    "print(\"Numero feature selezionate: \" + str(len(selected_feat)))\n",
    "\n",
    "featureSelection_df = dataset.loc[:, sel.get_support()]"
   ]
  },
  {
   "cell_type": "code",
   "execution_count": 9,
   "id": "236dcdd4",
   "metadata": {},
   "outputs": [],
   "source": [
    "featureSelection_df.to_csv(\"../datasets/featureSelectionReview_df.csv\")"
   ]
  },
  {
   "cell_type": "markdown",
   "id": "0b3791a1",
   "metadata": {},
   "source": [
    "## 3.2 Random Forest: Parameter Tuning"
   ]
  },
  {
   "cell_type": "markdown",
   "id": "88fccb39",
   "metadata": {},
   "source": [
    "### Dopo aver effettuato la feature selection, viene attuato il paramater tuning sulle feature più importanti tramite una ricerca esaustiva dello spazio di ricerca"
   ]
  },
  {
   "cell_type": "markdown",
   "id": "df5629cd",
   "metadata": {},
   "source": [
    "### Parametri su cui viene effettuata la ricerca"
   ]
  },
  {
   "cell_type": "code",
   "execution_count": 10,
   "id": "d125c37a",
   "metadata": {},
   "outputs": [],
   "source": [
    "n_estimators_list = [40,60,80,100]\n",
    "criterion_list = ['entropy']\n",
    "max_depth_list = [35,55]\n",
    "max_depth_list.append(None)\n",
    "min_samples_split_list = [15, 30]\n",
    "min_samples_leaf_list = [5, 15, 30]\n",
    "max_features_list = ['log2']"
   ]
  },
  {
   "cell_type": "code",
   "execution_count": 11,
   "id": "b49b9886",
   "metadata": {},
   "outputs": [],
   "source": [
    "params_grid = {\n",
    "    'n_estimators': n_estimators_list,\n",
    "    'criterion': criterion_list,\n",
    "    'max_depth': max_depth_list,\n",
    "    'min_samples_split': min_samples_split_list,\n",
    "    'min_samples_leaf': min_samples_leaf_list,\n",
    "    'max_features': max_features_list\n",
    "}"
   ]
  },
  {
   "cell_type": "code",
   "execution_count": 12,
   "id": "d824c46b",
   "metadata": {},
   "outputs": [],
   "source": [
    "X_train, X_test, Y_train, Y_test = train_test_split(featureSelection_df, labels, test_size=0.2, random_state=random_seed)\n",
    "\n",
    "\n",
    "def my_acc_score(model, truncated_df, labels):\n",
    "    return metrics.accuracy_score(labels, model.predict(truncated_df))"
   ]
  },
  {
   "cell_type": "markdown",
   "id": "ffbcb053",
   "metadata": {},
   "source": [
    "### Salvataggio train-test-split"
   ]
  },
  {
   "cell_type": "code",
   "execution_count": 13,
   "id": "78aa961b",
   "metadata": {},
   "outputs": [],
   "source": [
    "X_train.to_csv(\"../resources/X_train_Review.csv\", index = False)\n",
    "Y_train.to_csv(\"../resources/Y_train_Review.csv\", index = False)\n",
    "X_test.to_csv(\"../resources/X_test_Review.csv\", index = False)\n",
    "Y_test.to_csv(\"../resources/Y_test_Review.csv\", index = False)"
   ]
  },
  {
   "cell_type": "markdown",
   "id": "91b17dcc",
   "metadata": {},
   "source": [
    "### Ricerca dei parametri migliori"
   ]
  },
  {
   "cell_type": "code",
   "execution_count": 71,
   "id": "bedfd971",
   "metadata": {
    "scrolled": true
   },
   "outputs": [
    {
     "name": "stdout",
     "output_type": "stream",
     "text": [
      "Fitting 3 folds for each of 72 candidates, totalling 216 fits\n",
      "[CV] END criterion=entropy, max_depth=35, max_features=log2, min_samples_leaf=5, min_samples_split=15, n_estimators=40; total time=   0.5s\n",
      "[CV] END criterion=entropy, max_depth=35, max_features=log2, min_samples_leaf=5, min_samples_split=15, n_estimators=40; total time=   0.5s\n",
      "[CV] END criterion=entropy, max_depth=35, max_features=log2, min_samples_leaf=5, min_samples_split=15, n_estimators=40; total time=   0.6s\n",
      "[CV] END criterion=entropy, max_depth=35, max_features=log2, min_samples_leaf=5, min_samples_split=15, n_estimators=60; total time=   0.8s\n",
      "[CV] END criterion=entropy, max_depth=35, max_features=log2, min_samples_leaf=5, min_samples_split=15, n_estimators=60; total time=   0.7s\n",
      "[CV] END criterion=entropy, max_depth=35, max_features=log2, min_samples_leaf=5, min_samples_split=15, n_estimators=60; total time=   0.7s\n",
      "[CV] END criterion=entropy, max_depth=35, max_features=log2, min_samples_leaf=5, min_samples_split=15, n_estimators=80; total time=   0.9s\n",
      "[CV] END criterion=entropy, max_depth=35, max_features=log2, min_samples_leaf=5, min_samples_split=15, n_estimators=80; total time=   0.8s\n",
      "[CV] END criterion=entropy, max_depth=35, max_features=log2, min_samples_leaf=5, min_samples_split=15, n_estimators=80; total time=   0.9s\n",
      "[CV] END criterion=entropy, max_depth=35, max_features=log2, min_samples_leaf=5, min_samples_split=15, n_estimators=100; total time=   1.0s\n",
      "[CV] END criterion=entropy, max_depth=35, max_features=log2, min_samples_leaf=5, min_samples_split=15, n_estimators=100; total time=   1.0s\n",
      "[CV] END criterion=entropy, max_depth=35, max_features=log2, min_samples_leaf=5, min_samples_split=15, n_estimators=100; total time=   1.1s\n",
      "[CV] END criterion=entropy, max_depth=35, max_features=log2, min_samples_leaf=5, min_samples_split=30, n_estimators=40; total time=   0.6s\n",
      "[CV] END criterion=entropy, max_depth=35, max_features=log2, min_samples_leaf=5, min_samples_split=30, n_estimators=40; total time=   0.5s\n",
      "[CV] END criterion=entropy, max_depth=35, max_features=log2, min_samples_leaf=5, min_samples_split=30, n_estimators=40; total time=   0.5s\n",
      "[CV] END criterion=entropy, max_depth=35, max_features=log2, min_samples_leaf=5, min_samples_split=30, n_estimators=60; total time=   0.8s\n",
      "[CV] END criterion=entropy, max_depth=35, max_features=log2, min_samples_leaf=5, min_samples_split=30, n_estimators=60; total time=   0.8s\n",
      "[CV] END criterion=entropy, max_depth=35, max_features=log2, min_samples_leaf=5, min_samples_split=30, n_estimators=60; total time=   0.8s\n",
      "[CV] END criterion=entropy, max_depth=35, max_features=log2, min_samples_leaf=5, min_samples_split=30, n_estimators=80; total time=   1.0s\n",
      "[CV] END criterion=entropy, max_depth=35, max_features=log2, min_samples_leaf=5, min_samples_split=30, n_estimators=80; total time=   0.9s\n",
      "[CV] END criterion=entropy, max_depth=35, max_features=log2, min_samples_leaf=5, min_samples_split=30, n_estimators=80; total time=   0.8s\n",
      "[CV] END criterion=entropy, max_depth=35, max_features=log2, min_samples_leaf=5, min_samples_split=30, n_estimators=100; total time=   1.0s\n",
      "[CV] END criterion=entropy, max_depth=35, max_features=log2, min_samples_leaf=5, min_samples_split=30, n_estimators=100; total time=   1.2s\n",
      "[CV] END criterion=entropy, max_depth=35, max_features=log2, min_samples_leaf=5, min_samples_split=30, n_estimators=100; total time=   1.2s\n",
      "[CV] END criterion=entropy, max_depth=35, max_features=log2, min_samples_leaf=15, min_samples_split=15, n_estimators=40; total time=   0.4s\n",
      "[CV] END criterion=entropy, max_depth=35, max_features=log2, min_samples_leaf=15, min_samples_split=15, n_estimators=40; total time=   0.5s\n",
      "[CV] END criterion=entropy, max_depth=35, max_features=log2, min_samples_leaf=15, min_samples_split=15, n_estimators=40; total time=   0.4s\n",
      "[CV] END criterion=entropy, max_depth=35, max_features=log2, min_samples_leaf=15, min_samples_split=15, n_estimators=60; total time=   0.6s\n",
      "[CV] END criterion=entropy, max_depth=35, max_features=log2, min_samples_leaf=15, min_samples_split=15, n_estimators=60; total time=   0.6s\n",
      "[CV] END criterion=entropy, max_depth=35, max_features=log2, min_samples_leaf=15, min_samples_split=15, n_estimators=60; total time=   0.6s\n",
      "[CV] END criterion=entropy, max_depth=35, max_features=log2, min_samples_leaf=15, min_samples_split=15, n_estimators=80; total time=   0.8s\n",
      "[CV] END criterion=entropy, max_depth=35, max_features=log2, min_samples_leaf=15, min_samples_split=15, n_estimators=80; total time=   0.8s\n",
      "[CV] END criterion=entropy, max_depth=35, max_features=log2, min_samples_leaf=15, min_samples_split=15, n_estimators=80; total time=   0.8s\n",
      "[CV] END criterion=entropy, max_depth=35, max_features=log2, min_samples_leaf=15, min_samples_split=15, n_estimators=100; total time=   0.9s\n",
      "[CV] END criterion=entropy, max_depth=35, max_features=log2, min_samples_leaf=15, min_samples_split=15, n_estimators=100; total time=   1.0s\n",
      "[CV] END criterion=entropy, max_depth=35, max_features=log2, min_samples_leaf=15, min_samples_split=15, n_estimators=100; total time=   1.0s\n",
      "[CV] END criterion=entropy, max_depth=35, max_features=log2, min_samples_leaf=15, min_samples_split=30, n_estimators=40; total time=   0.4s\n",
      "[CV] END criterion=entropy, max_depth=35, max_features=log2, min_samples_leaf=15, min_samples_split=30, n_estimators=40; total time=   0.4s\n",
      "[CV] END criterion=entropy, max_depth=35, max_features=log2, min_samples_leaf=15, min_samples_split=30, n_estimators=40; total time=   0.4s\n",
      "[CV] END criterion=entropy, max_depth=35, max_features=log2, min_samples_leaf=15, min_samples_split=30, n_estimators=60; total time=   0.7s\n",
      "[CV] END criterion=entropy, max_depth=35, max_features=log2, min_samples_leaf=15, min_samples_split=30, n_estimators=60; total time=   0.6s\n",
      "[CV] END criterion=entropy, max_depth=35, max_features=log2, min_samples_leaf=15, min_samples_split=30, n_estimators=60; total time=   0.6s\n",
      "[CV] END criterion=entropy, max_depth=35, max_features=log2, min_samples_leaf=15, min_samples_split=30, n_estimators=80; total time=   0.8s\n",
      "[CV] END criterion=entropy, max_depth=35, max_features=log2, min_samples_leaf=15, min_samples_split=30, n_estimators=80; total time=   0.7s\n",
      "[CV] END criterion=entropy, max_depth=35, max_features=log2, min_samples_leaf=15, min_samples_split=30, n_estimators=80; total time=   0.8s\n",
      "[CV] END criterion=entropy, max_depth=35, max_features=log2, min_samples_leaf=15, min_samples_split=30, n_estimators=100; total time=   0.8s\n",
      "[CV] END criterion=entropy, max_depth=35, max_features=log2, min_samples_leaf=15, min_samples_split=30, n_estimators=100; total time=   0.8s\n",
      "[CV] END criterion=entropy, max_depth=35, max_features=log2, min_samples_leaf=15, min_samples_split=30, n_estimators=100; total time=   0.8s\n",
      "[CV] END criterion=entropy, max_depth=35, max_features=log2, min_samples_leaf=30, min_samples_split=15, n_estimators=40; total time=   0.3s\n",
      "[CV] END criterion=entropy, max_depth=35, max_features=log2, min_samples_leaf=30, min_samples_split=15, n_estimators=40; total time=   0.3s\n",
      "[CV] END criterion=entropy, max_depth=35, max_features=log2, min_samples_leaf=30, min_samples_split=15, n_estimators=40; total time=   0.4s\n",
      "[CV] END criterion=entropy, max_depth=35, max_features=log2, min_samples_leaf=30, min_samples_split=15, n_estimators=60; total time=   0.4s\n",
      "[CV] END criterion=entropy, max_depth=35, max_features=log2, min_samples_leaf=30, min_samples_split=15, n_estimators=60; total time=   0.4s\n",
      "[CV] END criterion=entropy, max_depth=35, max_features=log2, min_samples_leaf=30, min_samples_split=15, n_estimators=60; total time=   0.4s\n",
      "[CV] END criterion=entropy, max_depth=35, max_features=log2, min_samples_leaf=30, min_samples_split=15, n_estimators=80; total time=   0.5s\n",
      "[CV] END criterion=entropy, max_depth=35, max_features=log2, min_samples_leaf=30, min_samples_split=15, n_estimators=80; total time=   0.5s\n",
      "[CV] END criterion=entropy, max_depth=35, max_features=log2, min_samples_leaf=30, min_samples_split=15, n_estimators=80; total time=   0.5s\n",
      "[CV] END criterion=entropy, max_depth=35, max_features=log2, min_samples_leaf=30, min_samples_split=15, n_estimators=100; total time=   0.6s\n",
      "[CV] END criterion=entropy, max_depth=35, max_features=log2, min_samples_leaf=30, min_samples_split=15, n_estimators=100; total time=   0.7s\n"
     ]
    },
    {
     "name": "stdout",
     "output_type": "stream",
     "text": [
      "[CV] END criterion=entropy, max_depth=35, max_features=log2, min_samples_leaf=30, min_samples_split=15, n_estimators=100; total time=   0.6s\n",
      "[CV] END criterion=entropy, max_depth=35, max_features=log2, min_samples_leaf=30, min_samples_split=30, n_estimators=40; total time=   0.4s\n",
      "[CV] END criterion=entropy, max_depth=35, max_features=log2, min_samples_leaf=30, min_samples_split=30, n_estimators=40; total time=   0.3s\n",
      "[CV] END criterion=entropy, max_depth=35, max_features=log2, min_samples_leaf=30, min_samples_split=30, n_estimators=40; total time=   0.3s\n",
      "[CV] END criterion=entropy, max_depth=35, max_features=log2, min_samples_leaf=30, min_samples_split=30, n_estimators=60; total time=   0.4s\n",
      "[CV] END criterion=entropy, max_depth=35, max_features=log2, min_samples_leaf=30, min_samples_split=30, n_estimators=60; total time=   0.4s\n",
      "[CV] END criterion=entropy, max_depth=35, max_features=log2, min_samples_leaf=30, min_samples_split=30, n_estimators=60; total time=   0.5s\n",
      "[CV] END criterion=entropy, max_depth=35, max_features=log2, min_samples_leaf=30, min_samples_split=30, n_estimators=80; total time=   0.4s\n",
      "[CV] END criterion=entropy, max_depth=35, max_features=log2, min_samples_leaf=30, min_samples_split=30, n_estimators=80; total time=   0.5s\n",
      "[CV] END criterion=entropy, max_depth=35, max_features=log2, min_samples_leaf=30, min_samples_split=30, n_estimators=80; total time=   0.5s\n",
      "[CV] END criterion=entropy, max_depth=35, max_features=log2, min_samples_leaf=30, min_samples_split=30, n_estimators=100; total time=   0.7s\n",
      "[CV] END criterion=entropy, max_depth=35, max_features=log2, min_samples_leaf=30, min_samples_split=30, n_estimators=100; total time=   0.7s\n",
      "[CV] END criterion=entropy, max_depth=35, max_features=log2, min_samples_leaf=30, min_samples_split=30, n_estimators=100; total time=   0.5s\n",
      "[CV] END criterion=entropy, max_depth=55, max_features=log2, min_samples_leaf=5, min_samples_split=15, n_estimators=40; total time=   0.7s\n",
      "[CV] END criterion=entropy, max_depth=55, max_features=log2, min_samples_leaf=5, min_samples_split=15, n_estimators=40; total time=   0.6s\n",
      "[CV] END criterion=entropy, max_depth=55, max_features=log2, min_samples_leaf=5, min_samples_split=15, n_estimators=40; total time=   0.6s\n",
      "[CV] END criterion=entropy, max_depth=55, max_features=log2, min_samples_leaf=5, min_samples_split=15, n_estimators=60; total time=   0.8s\n",
      "[CV] END criterion=entropy, max_depth=55, max_features=log2, min_samples_leaf=5, min_samples_split=15, n_estimators=60; total time=   1.0s\n",
      "[CV] END criterion=entropy, max_depth=55, max_features=log2, min_samples_leaf=5, min_samples_split=15, n_estimators=60; total time=   1.0s\n",
      "[CV] END criterion=entropy, max_depth=55, max_features=log2, min_samples_leaf=5, min_samples_split=15, n_estimators=80; total time=   1.3s\n",
      "[CV] END criterion=entropy, max_depth=55, max_features=log2, min_samples_leaf=5, min_samples_split=15, n_estimators=80; total time=   1.1s\n",
      "[CV] END criterion=entropy, max_depth=55, max_features=log2, min_samples_leaf=5, min_samples_split=15, n_estimators=80; total time=   1.3s\n",
      "[CV] END criterion=entropy, max_depth=55, max_features=log2, min_samples_leaf=5, min_samples_split=15, n_estimators=100; total time=   1.5s\n",
      "[CV] END criterion=entropy, max_depth=55, max_features=log2, min_samples_leaf=5, min_samples_split=15, n_estimators=100; total time=   1.5s\n",
      "[CV] END criterion=entropy, max_depth=55, max_features=log2, min_samples_leaf=5, min_samples_split=15, n_estimators=100; total time=   1.3s\n",
      "[CV] END criterion=entropy, max_depth=55, max_features=log2, min_samples_leaf=5, min_samples_split=30, n_estimators=40; total time=   0.7s\n",
      "[CV] END criterion=entropy, max_depth=55, max_features=log2, min_samples_leaf=5, min_samples_split=30, n_estimators=40; total time=   0.6s\n",
      "[CV] END criterion=entropy, max_depth=55, max_features=log2, min_samples_leaf=5, min_samples_split=30, n_estimators=40; total time=   0.7s\n",
      "[CV] END criterion=entropy, max_depth=55, max_features=log2, min_samples_leaf=5, min_samples_split=30, n_estimators=60; total time=   0.8s\n",
      "[CV] END criterion=entropy, max_depth=55, max_features=log2, min_samples_leaf=5, min_samples_split=30, n_estimators=60; total time=   0.8s\n",
      "[CV] END criterion=entropy, max_depth=55, max_features=log2, min_samples_leaf=5, min_samples_split=30, n_estimators=60; total time=   0.8s\n",
      "[CV] END criterion=entropy, max_depth=55, max_features=log2, min_samples_leaf=5, min_samples_split=30, n_estimators=80; total time=   1.1s\n",
      "[CV] END criterion=entropy, max_depth=55, max_features=log2, min_samples_leaf=5, min_samples_split=30, n_estimators=80; total time=   1.1s\n",
      "[CV] END criterion=entropy, max_depth=55, max_features=log2, min_samples_leaf=5, min_samples_split=30, n_estimators=80; total time=   1.0s\n",
      "[CV] END criterion=entropy, max_depth=55, max_features=log2, min_samples_leaf=5, min_samples_split=30, n_estimators=100; total time=   1.3s\n",
      "[CV] END criterion=entropy, max_depth=55, max_features=log2, min_samples_leaf=5, min_samples_split=30, n_estimators=100; total time=   1.3s\n",
      "[CV] END criterion=entropy, max_depth=55, max_features=log2, min_samples_leaf=5, min_samples_split=30, n_estimators=100; total time=   1.3s\n",
      "[CV] END criterion=entropy, max_depth=55, max_features=log2, min_samples_leaf=15, min_samples_split=15, n_estimators=40; total time=   0.4s\n",
      "[CV] END criterion=entropy, max_depth=55, max_features=log2, min_samples_leaf=15, min_samples_split=15, n_estimators=40; total time=   0.4s\n",
      "[CV] END criterion=entropy, max_depth=55, max_features=log2, min_samples_leaf=15, min_samples_split=15, n_estimators=40; total time=   0.4s\n",
      "[CV] END criterion=entropy, max_depth=55, max_features=log2, min_samples_leaf=15, min_samples_split=15, n_estimators=60; total time=   0.6s\n",
      "[CV] END criterion=entropy, max_depth=55, max_features=log2, min_samples_leaf=15, min_samples_split=15, n_estimators=60; total time=   0.5s\n",
      "[CV] END criterion=entropy, max_depth=55, max_features=log2, min_samples_leaf=15, min_samples_split=15, n_estimators=60; total time=   0.6s\n",
      "[CV] END criterion=entropy, max_depth=55, max_features=log2, min_samples_leaf=15, min_samples_split=15, n_estimators=80; total time=   0.8s\n",
      "[CV] END criterion=entropy, max_depth=55, max_features=log2, min_samples_leaf=15, min_samples_split=15, n_estimators=80; total time=   0.8s\n",
      "[CV] END criterion=entropy, max_depth=55, max_features=log2, min_samples_leaf=15, min_samples_split=15, n_estimators=80; total time=   1.1s\n",
      "[CV] END criterion=entropy, max_depth=55, max_features=log2, min_samples_leaf=15, min_samples_split=15, n_estimators=100; total time=   1.0s\n",
      "[CV] END criterion=entropy, max_depth=55, max_features=log2, min_samples_leaf=15, min_samples_split=15, n_estimators=100; total time=   1.0s\n",
      "[CV] END criterion=entropy, max_depth=55, max_features=log2, min_samples_leaf=15, min_samples_split=15, n_estimators=100; total time=   0.9s\n",
      "[CV] END criterion=entropy, max_depth=55, max_features=log2, min_samples_leaf=15, min_samples_split=30, n_estimators=40; total time=   0.4s\n",
      "[CV] END criterion=entropy, max_depth=55, max_features=log2, min_samples_leaf=15, min_samples_split=30, n_estimators=40; total time=   0.4s\n",
      "[CV] END criterion=entropy, max_depth=55, max_features=log2, min_samples_leaf=15, min_samples_split=30, n_estimators=40; total time=   0.4s\n",
      "[CV] END criterion=entropy, max_depth=55, max_features=log2, min_samples_leaf=15, min_samples_split=30, n_estimators=60; total time=   0.5s\n",
      "[CV] END criterion=entropy, max_depth=55, max_features=log2, min_samples_leaf=15, min_samples_split=30, n_estimators=60; total time=   0.6s\n",
      "[CV] END criterion=entropy, max_depth=55, max_features=log2, min_samples_leaf=15, min_samples_split=30, n_estimators=60; total time=   0.6s\n",
      "[CV] END criterion=entropy, max_depth=55, max_features=log2, min_samples_leaf=15, min_samples_split=30, n_estimators=80; total time=   0.8s\n",
      "[CV] END criterion=entropy, max_depth=55, max_features=log2, min_samples_leaf=15, min_samples_split=30, n_estimators=80; total time=   0.9s\n",
      "[CV] END criterion=entropy, max_depth=55, max_features=log2, min_samples_leaf=15, min_samples_split=30, n_estimators=80; total time=   0.8s\n",
      "[CV] END criterion=entropy, max_depth=55, max_features=log2, min_samples_leaf=15, min_samples_split=30, n_estimators=100; total time=   0.9s\n"
     ]
    },
    {
     "name": "stdout",
     "output_type": "stream",
     "text": [
      "[CV] END criterion=entropy, max_depth=55, max_features=log2, min_samples_leaf=15, min_samples_split=30, n_estimators=100; total time=   0.8s\n",
      "[CV] END criterion=entropy, max_depth=55, max_features=log2, min_samples_leaf=15, min_samples_split=30, n_estimators=100; total time=   1.1s\n",
      "[CV] END criterion=entropy, max_depth=55, max_features=log2, min_samples_leaf=30, min_samples_split=15, n_estimators=40; total time=   0.5s\n",
      "[CV] END criterion=entropy, max_depth=55, max_features=log2, min_samples_leaf=30, min_samples_split=15, n_estimators=40; total time=   0.3s\n",
      "[CV] END criterion=entropy, max_depth=55, max_features=log2, min_samples_leaf=30, min_samples_split=15, n_estimators=40; total time=   0.3s\n",
      "[CV] END criterion=entropy, max_depth=55, max_features=log2, min_samples_leaf=30, min_samples_split=15, n_estimators=60; total time=   0.4s\n",
      "[CV] END criterion=entropy, max_depth=55, max_features=log2, min_samples_leaf=30, min_samples_split=15, n_estimators=60; total time=   0.4s\n",
      "[CV] END criterion=entropy, max_depth=55, max_features=log2, min_samples_leaf=30, min_samples_split=15, n_estimators=60; total time=   0.5s\n",
      "[CV] END criterion=entropy, max_depth=55, max_features=log2, min_samples_leaf=30, min_samples_split=15, n_estimators=80; total time=   0.6s\n",
      "[CV] END criterion=entropy, max_depth=55, max_features=log2, min_samples_leaf=30, min_samples_split=15, n_estimators=80; total time=   0.5s\n",
      "[CV] END criterion=entropy, max_depth=55, max_features=log2, min_samples_leaf=30, min_samples_split=15, n_estimators=80; total time=   0.6s\n",
      "[CV] END criterion=entropy, max_depth=55, max_features=log2, min_samples_leaf=30, min_samples_split=15, n_estimators=100; total time=   0.6s\n",
      "[CV] END criterion=entropy, max_depth=55, max_features=log2, min_samples_leaf=30, min_samples_split=15, n_estimators=100; total time=   0.6s\n",
      "[CV] END criterion=entropy, max_depth=55, max_features=log2, min_samples_leaf=30, min_samples_split=15, n_estimators=100; total time=   0.7s\n",
      "[CV] END criterion=entropy, max_depth=55, max_features=log2, min_samples_leaf=30, min_samples_split=30, n_estimators=40; total time=   0.3s\n",
      "[CV] END criterion=entropy, max_depth=55, max_features=log2, min_samples_leaf=30, min_samples_split=30, n_estimators=40; total time=   0.4s\n",
      "[CV] END criterion=entropy, max_depth=55, max_features=log2, min_samples_leaf=30, min_samples_split=30, n_estimators=40; total time=   0.4s\n",
      "[CV] END criterion=entropy, max_depth=55, max_features=log2, min_samples_leaf=30, min_samples_split=30, n_estimators=60; total time=   0.5s\n",
      "[CV] END criterion=entropy, max_depth=55, max_features=log2, min_samples_leaf=30, min_samples_split=30, n_estimators=60; total time=   0.4s\n",
      "[CV] END criterion=entropy, max_depth=55, max_features=log2, min_samples_leaf=30, min_samples_split=30, n_estimators=60; total time=   0.4s\n",
      "[CV] END criterion=entropy, max_depth=55, max_features=log2, min_samples_leaf=30, min_samples_split=30, n_estimators=80; total time=   0.6s\n",
      "[CV] END criterion=entropy, max_depth=55, max_features=log2, min_samples_leaf=30, min_samples_split=30, n_estimators=80; total time=   0.6s\n",
      "[CV] END criterion=entropy, max_depth=55, max_features=log2, min_samples_leaf=30, min_samples_split=30, n_estimators=80; total time=   0.7s\n",
      "[CV] END criterion=entropy, max_depth=55, max_features=log2, min_samples_leaf=30, min_samples_split=30, n_estimators=100; total time=   0.6s\n",
      "[CV] END criterion=entropy, max_depth=55, max_features=log2, min_samples_leaf=30, min_samples_split=30, n_estimators=100; total time=   0.6s\n",
      "[CV] END criterion=entropy, max_depth=55, max_features=log2, min_samples_leaf=30, min_samples_split=30, n_estimators=100; total time=   0.7s\n",
      "[CV] END criterion=entropy, max_depth=None, max_features=log2, min_samples_leaf=5, min_samples_split=15, n_estimators=40; total time=   0.7s\n",
      "[CV] END criterion=entropy, max_depth=None, max_features=log2, min_samples_leaf=5, min_samples_split=15, n_estimators=40; total time=   0.7s\n",
      "[CV] END criterion=entropy, max_depth=None, max_features=log2, min_samples_leaf=5, min_samples_split=15, n_estimators=40; total time=   0.8s\n",
      "[CV] END criterion=entropy, max_depth=None, max_features=log2, min_samples_leaf=5, min_samples_split=15, n_estimators=60; total time=   1.0s\n",
      "[CV] END criterion=entropy, max_depth=None, max_features=log2, min_samples_leaf=5, min_samples_split=15, n_estimators=60; total time=   1.0s\n",
      "[CV] END criterion=entropy, max_depth=None, max_features=log2, min_samples_leaf=5, min_samples_split=15, n_estimators=60; total time=   1.0s\n",
      "[CV] END criterion=entropy, max_depth=None, max_features=log2, min_samples_leaf=5, min_samples_split=15, n_estimators=80; total time=   1.3s\n",
      "[CV] END criterion=entropy, max_depth=None, max_features=log2, min_samples_leaf=5, min_samples_split=15, n_estimators=80; total time=   1.3s\n",
      "[CV] END criterion=entropy, max_depth=None, max_features=log2, min_samples_leaf=5, min_samples_split=15, n_estimators=80; total time=   1.3s\n",
      "[CV] END criterion=entropy, max_depth=None, max_features=log2, min_samples_leaf=5, min_samples_split=15, n_estimators=100; total time=   1.5s\n",
      "[CV] END criterion=entropy, max_depth=None, max_features=log2, min_samples_leaf=5, min_samples_split=15, n_estimators=100; total time=   1.5s\n",
      "[CV] END criterion=entropy, max_depth=None, max_features=log2, min_samples_leaf=5, min_samples_split=15, n_estimators=100; total time=   1.5s\n",
      "[CV] END criterion=entropy, max_depth=None, max_features=log2, min_samples_leaf=5, min_samples_split=30, n_estimators=40; total time=   0.7s\n",
      "[CV] END criterion=entropy, max_depth=None, max_features=log2, min_samples_leaf=5, min_samples_split=30, n_estimators=40; total time=   0.7s\n",
      "[CV] END criterion=entropy, max_depth=None, max_features=log2, min_samples_leaf=5, min_samples_split=30, n_estimators=40; total time=   0.7s\n",
      "[CV] END criterion=entropy, max_depth=None, max_features=log2, min_samples_leaf=5, min_samples_split=30, n_estimators=60; total time=   1.0s\n",
      "[CV] END criterion=entropy, max_depth=None, max_features=log2, min_samples_leaf=5, min_samples_split=30, n_estimators=60; total time=   0.9s\n",
      "[CV] END criterion=entropy, max_depth=None, max_features=log2, min_samples_leaf=5, min_samples_split=30, n_estimators=60; total time=   1.0s\n",
      "[CV] END criterion=entropy, max_depth=None, max_features=log2, min_samples_leaf=5, min_samples_split=30, n_estimators=80; total time=   1.2s\n",
      "[CV] END criterion=entropy, max_depth=None, max_features=log2, min_samples_leaf=5, min_samples_split=30, n_estimators=80; total time=   1.2s\n",
      "[CV] END criterion=entropy, max_depth=None, max_features=log2, min_samples_leaf=5, min_samples_split=30, n_estimators=80; total time=   1.2s\n",
      "[CV] END criterion=entropy, max_depth=None, max_features=log2, min_samples_leaf=5, min_samples_split=30, n_estimators=100; total time=   1.6s\n",
      "[CV] END criterion=entropy, max_depth=None, max_features=log2, min_samples_leaf=5, min_samples_split=30, n_estimators=100; total time=   1.5s\n",
      "[CV] END criterion=entropy, max_depth=None, max_features=log2, min_samples_leaf=5, min_samples_split=30, n_estimators=100; total time=   1.7s\n",
      "[CV] END criterion=entropy, max_depth=None, max_features=log2, min_samples_leaf=15, min_samples_split=15, n_estimators=40; total time=   0.4s\n",
      "[CV] END criterion=entropy, max_depth=None, max_features=log2, min_samples_leaf=15, min_samples_split=15, n_estimators=40; total time=   0.4s\n",
      "[CV] END criterion=entropy, max_depth=None, max_features=log2, min_samples_leaf=15, min_samples_split=15, n_estimators=40; total time=   0.4s\n",
      "[CV] END criterion=entropy, max_depth=None, max_features=log2, min_samples_leaf=15, min_samples_split=15, n_estimators=60; total time=   0.6s\n",
      "[CV] END criterion=entropy, max_depth=None, max_features=log2, min_samples_leaf=15, min_samples_split=15, n_estimators=60; total time=   0.6s\n",
      "[CV] END criterion=entropy, max_depth=None, max_features=log2, min_samples_leaf=15, min_samples_split=15, n_estimators=60; total time=   0.6s\n",
      "[CV] END criterion=entropy, max_depth=None, max_features=log2, min_samples_leaf=15, min_samples_split=15, n_estimators=80; total time=   0.8s\n",
      "[CV] END criterion=entropy, max_depth=None, max_features=log2, min_samples_leaf=15, min_samples_split=15, n_estimators=80; total time=   0.8s\n",
      "[CV] END criterion=entropy, max_depth=None, max_features=log2, min_samples_leaf=15, min_samples_split=15, n_estimators=80; total time=   0.8s\n"
     ]
    },
    {
     "name": "stdout",
     "output_type": "stream",
     "text": [
      "[CV] END criterion=entropy, max_depth=None, max_features=log2, min_samples_leaf=15, min_samples_split=15, n_estimators=100; total time=   1.3s\n",
      "[CV] END criterion=entropy, max_depth=None, max_features=log2, min_samples_leaf=15, min_samples_split=15, n_estimators=100; total time=   1.2s\n",
      "[CV] END criterion=entropy, max_depth=None, max_features=log2, min_samples_leaf=15, min_samples_split=15, n_estimators=100; total time=   1.2s\n",
      "[CV] END criterion=entropy, max_depth=None, max_features=log2, min_samples_leaf=15, min_samples_split=30, n_estimators=40; total time=   0.5s\n",
      "[CV] END criterion=entropy, max_depth=None, max_features=log2, min_samples_leaf=15, min_samples_split=30, n_estimators=40; total time=   0.5s\n",
      "[CV] END criterion=entropy, max_depth=None, max_features=log2, min_samples_leaf=15, min_samples_split=30, n_estimators=40; total time=   0.5s\n",
      "[CV] END criterion=entropy, max_depth=None, max_features=log2, min_samples_leaf=15, min_samples_split=30, n_estimators=60; total time=   0.6s\n",
      "[CV] END criterion=entropy, max_depth=None, max_features=log2, min_samples_leaf=15, min_samples_split=30, n_estimators=60; total time=   0.6s\n",
      "[CV] END criterion=entropy, max_depth=None, max_features=log2, min_samples_leaf=15, min_samples_split=30, n_estimators=60; total time=   0.6s\n",
      "[CV] END criterion=entropy, max_depth=None, max_features=log2, min_samples_leaf=15, min_samples_split=30, n_estimators=80; total time=   0.8s\n",
      "[CV] END criterion=entropy, max_depth=None, max_features=log2, min_samples_leaf=15, min_samples_split=30, n_estimators=80; total time=   0.8s\n",
      "[CV] END criterion=entropy, max_depth=None, max_features=log2, min_samples_leaf=15, min_samples_split=30, n_estimators=80; total time=   0.8s\n",
      "[CV] END criterion=entropy, max_depth=None, max_features=log2, min_samples_leaf=15, min_samples_split=30, n_estimators=100; total time=   1.0s\n",
      "[CV] END criterion=entropy, max_depth=None, max_features=log2, min_samples_leaf=15, min_samples_split=30, n_estimators=100; total time=   1.0s\n",
      "[CV] END criterion=entropy, max_depth=None, max_features=log2, min_samples_leaf=15, min_samples_split=30, n_estimators=100; total time=   1.0s\n",
      "[CV] END criterion=entropy, max_depth=None, max_features=log2, min_samples_leaf=30, min_samples_split=15, n_estimators=40; total time=   0.3s\n",
      "[CV] END criterion=entropy, max_depth=None, max_features=log2, min_samples_leaf=30, min_samples_split=15, n_estimators=40; total time=   0.3s\n",
      "[CV] END criterion=entropy, max_depth=None, max_features=log2, min_samples_leaf=30, min_samples_split=15, n_estimators=40; total time=   0.3s\n",
      "[CV] END criterion=entropy, max_depth=None, max_features=log2, min_samples_leaf=30, min_samples_split=15, n_estimators=60; total time=   0.5s\n",
      "[CV] END criterion=entropy, max_depth=None, max_features=log2, min_samples_leaf=30, min_samples_split=15, n_estimators=60; total time=   0.4s\n",
      "[CV] END criterion=entropy, max_depth=None, max_features=log2, min_samples_leaf=30, min_samples_split=15, n_estimators=60; total time=   0.4s\n",
      "[CV] END criterion=entropy, max_depth=None, max_features=log2, min_samples_leaf=30, min_samples_split=15, n_estimators=80; total time=   0.5s\n",
      "[CV] END criterion=entropy, max_depth=None, max_features=log2, min_samples_leaf=30, min_samples_split=15, n_estimators=80; total time=   0.5s\n",
      "[CV] END criterion=entropy, max_depth=None, max_features=log2, min_samples_leaf=30, min_samples_split=15, n_estimators=80; total time=   0.6s\n",
      "[CV] END criterion=entropy, max_depth=None, max_features=log2, min_samples_leaf=30, min_samples_split=15, n_estimators=100; total time=   0.6s\n",
      "[CV] END criterion=entropy, max_depth=None, max_features=log2, min_samples_leaf=30, min_samples_split=15, n_estimators=100; total time=   0.6s\n",
      "[CV] END criterion=entropy, max_depth=None, max_features=log2, min_samples_leaf=30, min_samples_split=15, n_estimators=100; total time=   0.7s\n",
      "[CV] END criterion=entropy, max_depth=None, max_features=log2, min_samples_leaf=30, min_samples_split=30, n_estimators=40; total time=   0.4s\n",
      "[CV] END criterion=entropy, max_depth=None, max_features=log2, min_samples_leaf=30, min_samples_split=30, n_estimators=40; total time=   0.3s\n",
      "[CV] END criterion=entropy, max_depth=None, max_features=log2, min_samples_leaf=30, min_samples_split=30, n_estimators=40; total time=   0.3s\n",
      "[CV] END criterion=entropy, max_depth=None, max_features=log2, min_samples_leaf=30, min_samples_split=30, n_estimators=60; total time=   0.4s\n",
      "[CV] END criterion=entropy, max_depth=None, max_features=log2, min_samples_leaf=30, min_samples_split=30, n_estimators=60; total time=   0.5s\n",
      "[CV] END criterion=entropy, max_depth=None, max_features=log2, min_samples_leaf=30, min_samples_split=30, n_estimators=60; total time=   0.5s\n",
      "[CV] END criterion=entropy, max_depth=None, max_features=log2, min_samples_leaf=30, min_samples_split=30, n_estimators=80; total time=   0.5s\n",
      "[CV] END criterion=entropy, max_depth=None, max_features=log2, min_samples_leaf=30, min_samples_split=30, n_estimators=80; total time=   0.5s\n",
      "[CV] END criterion=entropy, max_depth=None, max_features=log2, min_samples_leaf=30, min_samples_split=30, n_estimators=80; total time=   0.5s\n",
      "[CV] END criterion=entropy, max_depth=None, max_features=log2, min_samples_leaf=30, min_samples_split=30, n_estimators=100; total time=   0.6s\n",
      "[CV] END criterion=entropy, max_depth=None, max_features=log2, min_samples_leaf=30, min_samples_split=30, n_estimators=100; total time=   0.6s\n",
      "[CV] END criterion=entropy, max_depth=None, max_features=log2, min_samples_leaf=30, min_samples_split=30, n_estimators=100; total time=   0.6s\n"
     ]
    },
    {
     "data": {
      "text/plain": [
       "GridSearchCV(cv=StratifiedKFold(n_splits=3, random_state=3, shuffle=True),\n",
       "             estimator=RandomForestClassifier(class_weight='balanced'),\n",
       "             param_grid={'criterion': ['entropy'], 'max_depth': [35, 55, None],\n",
       "                         'max_features': ['log2'],\n",
       "                         'min_samples_leaf': [5, 15, 30],\n",
       "                         'min_samples_split': [15, 30],\n",
       "                         'n_estimators': [40, 60, 80, 100]},\n",
       "             return_train_score=True,\n",
       "             scoring=<function my_acc_score at 0x000001F839F974C0>, verbose=2)"
      ]
     },
     "execution_count": 71,
     "metadata": {},
     "output_type": "execute_result"
    }
   ],
   "source": [
    "cross_validation = StratifiedKFold(n_splits=3, shuffle=True, random_state=random_seed)\n",
    "\n",
    "rf_searchParameter = GridSearchCV(estimator=RandomForestClassifier(class_weight='balanced', random_state=random_seed,\n",
    "                            param_grid=params_grid,\n",
    "                            cv=cross_validation,\n",
    "                            return_train_score=True,\n",
    "                            verbose=2,\n",
    "                            scoring = my_acc_score\n",
    "                            )\n",
    "\n",
    "rf_searchParameter.fit(X_train, Y_train)"
   ]
  },
  {
   "cell_type": "markdown",
   "id": "c50ccb14",
   "metadata": {},
   "source": [
    "### Parametri migliori trovati"
   ]
  },
  {
   "cell_type": "code",
   "execution_count": 72,
   "id": "719b1575",
   "metadata": {
    "scrolled": true
   },
   "outputs": [
    {
     "name": "stdout",
     "output_type": "stream",
     "text": [
      "Parametri migliori trovati:\n",
      "\n",
      "('criterion', 'entropy')\n",
      "('max_depth', 35)\n",
      "('max_features', 'log2')\n",
      "('min_samples_leaf', 5)\n",
      "('min_samples_split', 30)\n",
      "('n_estimators', 100)\n"
     ]
    },
    {
     "data": {
      "text/plain": [
       "\"\\n('criterion', 'entropy')\\n('max_depth', None)\\n('max_features', 'log2')\\n('min_samples_leaf', 5)\\n('min_samples_split', 30)\\n('n_estimators', 80)\\n\""
      ]
     },
     "execution_count": 72,
     "metadata": {},
     "output_type": "execute_result"
    }
   ],
   "source": [
    "best_param = rf_searchParameter.best_params_\n",
    "print(\"Parametri migliori trovati:\\n\")\n",
    "for pair in best_param.items():\n",
    "    print(pair)\n",
    "    \n",
    "'''\n",
    "('criterion', 'entropy')\n",
    "('max_depth', None)\n",
    "('max_features', 'log2')\n",
    "('min_samples_leaf', 5)\n",
    "('min_samples_split', 30)\n",
    "('n_estimators', 80)\n",
    "'''"
   ]
  },
  {
   "cell_type": "code",
   "execution_count": 18,
   "id": "d24cbbe1",
   "metadata": {},
   "outputs": [
    {
     "data": {
      "text/html": [
       "<div>\n",
       "<style scoped>\n",
       "    .dataframe tbody tr th:only-of-type {\n",
       "        vertical-align: middle;\n",
       "    }\n",
       "\n",
       "    .dataframe tbody tr th {\n",
       "        vertical-align: top;\n",
       "    }\n",
       "\n",
       "    .dataframe thead th {\n",
       "        text-align: right;\n",
       "    }\n",
       "</style>\n",
       "<table border=\"1\" class=\"dataframe\">\n",
       "  <thead>\n",
       "    <tr style=\"text-align: right;\">\n",
       "      <th></th>\n",
       "      <th>rank_test_score</th>\n",
       "      <th>mean_test_score</th>\n",
       "      <th>mean_train_score</th>\n",
       "      <th>param_n_estimators</th>\n",
       "      <th>param_min_samples_split</th>\n",
       "      <th>param_min_samples_leaf</th>\n",
       "      <th>param_max_features</th>\n",
       "      <th>param_max_depth</th>\n",
       "      <th>param_criterion</th>\n",
       "    </tr>\n",
       "  </thead>\n",
       "  <tbody>\n",
       "    <tr>\n",
       "      <th>54</th>\n",
       "      <td>1</td>\n",
       "      <td>0.801880</td>\n",
       "      <td>0.890496</td>\n",
       "      <td>80</td>\n",
       "      <td>30</td>\n",
       "      <td>5</td>\n",
       "      <td>log2</td>\n",
       "      <td>None</td>\n",
       "      <td>entropy</td>\n",
       "    </tr>\n",
       "    <tr>\n",
       "      <th>50</th>\n",
       "      <td>2</td>\n",
       "      <td>0.798538</td>\n",
       "      <td>0.892794</td>\n",
       "      <td>80</td>\n",
       "      <td>15</td>\n",
       "      <td>5</td>\n",
       "      <td>log2</td>\n",
       "      <td>None</td>\n",
       "      <td>entropy</td>\n",
       "    </tr>\n",
       "    <tr>\n",
       "      <th>51</th>\n",
       "      <td>3</td>\n",
       "      <td>0.798433</td>\n",
       "      <td>0.894726</td>\n",
       "      <td>100</td>\n",
       "      <td>15</td>\n",
       "      <td>5</td>\n",
       "      <td>log2</td>\n",
       "      <td>None</td>\n",
       "      <td>entropy</td>\n",
       "    </tr>\n",
       "    <tr>\n",
       "      <th>55</th>\n",
       "      <td>4</td>\n",
       "      <td>0.797389</td>\n",
       "      <td>0.894517</td>\n",
       "      <td>100</td>\n",
       "      <td>30</td>\n",
       "      <td>5</td>\n",
       "      <td>log2</td>\n",
       "      <td>None</td>\n",
       "      <td>entropy</td>\n",
       "    </tr>\n",
       "    <tr>\n",
       "      <th>31</th>\n",
       "      <td>5</td>\n",
       "      <td>0.797180</td>\n",
       "      <td>0.884178</td>\n",
       "      <td>100</td>\n",
       "      <td>30</td>\n",
       "      <td>5</td>\n",
       "      <td>log2</td>\n",
       "      <td>55</td>\n",
       "      <td>entropy</td>\n",
       "    </tr>\n",
       "    <tr>\n",
       "      <th>30</th>\n",
       "      <td>6</td>\n",
       "      <td>0.794569</td>\n",
       "      <td>0.882767</td>\n",
       "      <td>80</td>\n",
       "      <td>30</td>\n",
       "      <td>5</td>\n",
       "      <td>log2</td>\n",
       "      <td>55</td>\n",
       "      <td>entropy</td>\n",
       "    </tr>\n",
       "    <tr>\n",
       "      <th>53</th>\n",
       "      <td>7</td>\n",
       "      <td>0.793212</td>\n",
       "      <td>0.889400</td>\n",
       "      <td>60</td>\n",
       "      <td>30</td>\n",
       "      <td>5</td>\n",
       "      <td>log2</td>\n",
       "      <td>None</td>\n",
       "      <td>entropy</td>\n",
       "    </tr>\n",
       "    <tr>\n",
       "      <th>49</th>\n",
       "      <td>8</td>\n",
       "      <td>0.792688</td>\n",
       "      <td>0.891071</td>\n",
       "      <td>60</td>\n",
       "      <td>15</td>\n",
       "      <td>5</td>\n",
       "      <td>log2</td>\n",
       "      <td>None</td>\n",
       "      <td>entropy</td>\n",
       "    </tr>\n",
       "    <tr>\n",
       "      <th>3</th>\n",
       "      <td>9</td>\n",
       "      <td>0.792585</td>\n",
       "      <td>0.869139</td>\n",
       "      <td>100</td>\n",
       "      <td>15</td>\n",
       "      <td>5</td>\n",
       "      <td>log2</td>\n",
       "      <td>35</td>\n",
       "      <td>entropy</td>\n",
       "    </tr>\n",
       "    <tr>\n",
       "      <th>27</th>\n",
       "      <td>10</td>\n",
       "      <td>0.792480</td>\n",
       "      <td>0.882402</td>\n",
       "      <td>100</td>\n",
       "      <td>15</td>\n",
       "      <td>5</td>\n",
       "      <td>log2</td>\n",
       "      <td>55</td>\n",
       "      <td>entropy</td>\n",
       "    </tr>\n",
       "  </tbody>\n",
       "</table>\n",
       "</div>"
      ],
      "text/plain": [
       "    rank_test_score  mean_test_score  mean_train_score param_n_estimators  \\\n",
       "54                1         0.801880          0.890496                 80   \n",
       "50                2         0.798538          0.892794                 80   \n",
       "51                3         0.798433          0.894726                100   \n",
       "55                4         0.797389          0.894517                100   \n",
       "31                5         0.797180          0.884178                100   \n",
       "30                6         0.794569          0.882767                 80   \n",
       "53                7         0.793212          0.889400                 60   \n",
       "49                8         0.792688          0.891071                 60   \n",
       "3                 9         0.792585          0.869139                100   \n",
       "27               10         0.792480          0.882402                100   \n",
       "\n",
       "   param_min_samples_split param_min_samples_leaf param_max_features  \\\n",
       "54                      30                      5               log2   \n",
       "50                      15                      5               log2   \n",
       "51                      15                      5               log2   \n",
       "55                      30                      5               log2   \n",
       "31                      30                      5               log2   \n",
       "30                      30                      5               log2   \n",
       "53                      30                      5               log2   \n",
       "49                      15                      5               log2   \n",
       "3                       15                      5               log2   \n",
       "27                      15                      5               log2   \n",
       "\n",
       "   param_max_depth param_criterion  \n",
       "54            None         entropy  \n",
       "50            None         entropy  \n",
       "51            None         entropy  \n",
       "55            None         entropy  \n",
       "31              55         entropy  \n",
       "30              55         entropy  \n",
       "53            None         entropy  \n",
       "49            None         entropy  \n",
       "3               35         entropy  \n",
       "27              55         entropy  "
      ]
     },
     "execution_count": 18,
     "metadata": {},
     "output_type": "execute_result"
    }
   ],
   "source": [
    "df_cv_results = pd.DataFrame(rf_searchParameter.cv_results_)\n",
    "df_cv_results = df_cv_results[['rank_test_score','mean_test_score','mean_train_score',\n",
    "                           'param_n_estimators', 'param_min_samples_split','param_min_samples_leaf',\n",
    "                           'param_max_features', 'param_max_depth','param_criterion']]\n",
    "df_cv_results.sort_values('rank_test_score', inplace=True)\n",
    "df_cv_results[:10]"
   ]
  },
  {
   "cell_type": "markdown",
   "id": "01e25829",
   "metadata": {},
   "source": [
    "## 3.3 Random Forest: Classificazione"
   ]
  },
  {
   "cell_type": "markdown",
   "id": "90f097af",
   "metadata": {},
   "source": [
    "### Prendo i parametri migliori trovati per effettuare la classificazione"
   ]
  },
  {
   "cell_type": "code",
   "execution_count": 68,
   "id": "1444c8a6",
   "metadata": {},
   "outputs": [],
   "source": [
    "n_estimators_found = best_param.get('n_estimators')\n",
    "max_depth_found = best_param.get('max_depth')\n",
    "max_features_found = best_param.get('max_features')\n",
    "min_samples_leaf_found = best_param.get('min_samples_leaf')\n",
    "min_samples_split_found = best_param.get('min_samples_split')\n",
    "criterion_found = best_param.get('criterion')"
   ]
  },
  {
   "cell_type": "markdown",
   "id": "f4f913e5",
   "metadata": {},
   "source": [
    "n_estimators_found = 100\n",
    "max_depth_found = 55\n",
    "max_features_found = 'log2'\n",
    "min_samples_leaf_found = 5\n",
    "min_samples_split_found = 15\n",
    "criterion_found = 'entropy'"
   ]
  },
  {
   "cell_type": "markdown",
   "id": "56fe9575",
   "metadata": {},
   "source": [
    "### Task di classificazione"
   ]
  },
  {
   "cell_type": "code",
   "execution_count": 69,
   "id": "c22b7d4c",
   "metadata": {},
   "outputs": [],
   "source": [
    "rf = RandomForestClassifier(n_estimators = n_estimators_found, \n",
    "                            criterion = criterion_found,\n",
    "                            class_weight= 'balanced',\n",
    "                            max_depth= max_depth_found,\n",
    "                            max_features= max_features_found,\n",
    "                            min_samples_leaf= min_samples_leaf_found,\n",
    "                            min_samples_split= min_samples_split_found)\n",
    "rf.fit(X_train, Y_train)\n",
    "\n",
    "train_prediction = rf.predict(X_train)\n",
    "test_prediction = rf.predict(X_test)"
   ]
  },
  {
   "cell_type": "code",
   "execution_count": 70,
   "id": "5283385a",
   "metadata": {
    "scrolled": true
   },
   "outputs": [
    {
     "name": "stdout",
     "output_type": "stream",
     "text": [
      "Accuracy train score:  0.8781201044386423\n",
      "Accuracy test score:  0.808688387635756\n",
      "              precision    recall  f1-score   support\n",
      "\n",
      "    Negativo       0.79      0.80      0.80      1123\n",
      "    Positivo       0.82      0.82      0.82      1271\n",
      "\n",
      "    accuracy                           0.81      2394\n",
      "   macro avg       0.81      0.81      0.81      2394\n",
      "weighted avg       0.81      0.81      0.81      2394\n",
      "\n"
     ]
    },
    {
     "data": {
      "image/png": "[encoded data removed]",
      "text/plain": [
       "<Figure size 432x288 with 2 Axes>"
      ]
     },
     "metadata": {
      "needs_background": "light"
     },
     "output_type": "display_data"
    }
   ],
   "source": [
    "accuracy_train_rf = metrics.accuracy_score(Y_train, train_prediction)\n",
    "accuracy_test_rf = metrics.accuracy_score(Y_test, test_prediction)\n",
    "\n",
    "print(\"Accuracy train score: \", accuracy_train_rf)\n",
    "print(\"Accuracy test score: \", accuracy_test_rf)\n",
    "\n",
    "report_scores(Y_test, test_prediction)"
   ]
  },
  {
   "cell_type": "markdown",
   "id": "4957ea73",
   "metadata": {},
   "source": [
    "## K-fold Cross Validation"
   ]
  },
  {
   "cell_type": "code",
   "execution_count": 22,
   "id": "3d127f93",
   "metadata": {
    "scrolled": true
   },
   "outputs": [
    {
     "name": "stdout",
     "output_type": "stream",
     "text": [
      "K cross validation, k=  10\n",
      "Average scores:  0.8054134779535238\n",
      "Standard Deviation of scores:  0.011719113327954334\n",
      "\n",
      "\n",
      "\n",
      "K cross validation, k=  11\n",
      "Average scores:  0.8034929693139466\n",
      "Standard Deviation of scores:  0.008998388812378017\n",
      "\n",
      "\n",
      "\n",
      "K cross validation, k=  12\n",
      "Average scores:  0.807251162304549\n",
      "Standard Deviation of scores:  0.0067387749438896334\n",
      "\n",
      "\n",
      "\n",
      "K cross validation, k=  13\n",
      "Average scores:  0.803660682187095\n",
      "Standard Deviation of scores:  0.015111943438150454\n",
      "\n",
      "\n",
      "\n",
      "K cross validation, k=  14\n",
      "Average scores:  0.8054965673355913\n",
      "Standard Deviation of scores:  0.009096746383918388\n",
      "\n",
      "\n",
      "\n",
      "K cross validation, k=  15\n",
      "Average scores:  0.8031576222027256\n",
      "Standard Deviation of scores:  0.010308124813001059\n",
      "\n",
      "\n",
      "\n"
     ]
    }
   ],
   "source": [
    "kCrossValidation(rf, featureSelection_df, labels)"
   ]
  },
  {
   "cell_type": "markdown",
   "id": "a7dfbb8e",
   "metadata": {},
   "source": [
    "# 4. Multinomial Naive Bayes"
   ]
  },
  {
   "cell_type": "markdown",
   "id": "6c9e48f6",
   "metadata": {},
   "source": [
    "## Task di classificazione"
   ]
  },
  {
   "cell_type": "code",
   "execution_count": 25,
   "id": "22ec37a8",
   "metadata": {},
   "outputs": [],
   "source": [
    "X_train, X_test, Y_train, Y_test = train_test_split(featureSelection_df, labels, test_size=0.2, random_state=random_seed)\n",
    "nb = MultinomialNB()\n",
    "nb.fit(X_train, Y_train)\n",
    "\n",
    "train_prediction = nb.predict(X_train)\n",
    "test_prediction = nb.predict(X_test)"
   ]
  },
  {
   "cell_type": "code",
   "execution_count": 26,
   "id": "7c563f0b",
   "metadata": {},
   "outputs": [
    {
     "name": "stdout",
     "output_type": "stream",
     "text": [
      "Accuracy train score:  0.8566057441253264\n",
      "Accuracy test score:  0.8262322472848789\n",
      "              precision    recall  f1-score   support\n",
      "\n",
      "    Negativo       0.81      0.82      0.82      1123\n",
      "    Positivo       0.84      0.83      0.83      1271\n",
      "\n",
      "    accuracy                           0.83      2394\n",
      "   macro avg       0.83      0.83      0.83      2394\n",
      "weighted avg       0.83      0.83      0.83      2394\n",
      "\n"
     ]
    },
    {
     "data": {
      "image/png": "[encoded data removed]",
      "text/plain": [
       "<Figure size 432x288 with 2 Axes>"
      ]
     },
     "metadata": {
      "needs_background": "light"
     },
     "output_type": "display_data"
    }
   ],
   "source": [
    "accuracy_train_nb = metrics.accuracy_score(Y_train, train_prediction)\n",
    "accuracy_test_nb = metrics.accuracy_score(Y_test, test_prediction)\n",
    "\n",
    "print(\"Accuracy train score: \", accuracy_train_nb)\n",
    "print(\"Accuracy test score: \", accuracy_test_nb)\n",
    "\n",
    "report_scores(Y_test, test_prediction)"
   ]
  },
  {
   "cell_type": "markdown",
   "id": "272fe7f2",
   "metadata": {},
   "source": [
    "## K-fold Cross Validation"
   ]
  },
  {
   "cell_type": "code",
   "execution_count": 27,
   "id": "0f21df87",
   "metadata": {},
   "outputs": [
    {
     "name": "stdout",
     "output_type": "stream",
     "text": [
      "K cross validation, k=  10\n",
      "Average scores:  0.8232943702623337\n",
      "Standard Deviation of scores:  0.0076127299498057735\n",
      "\n",
      "\n",
      "\n",
      "K cross validation, k=  11\n",
      "Average scores:  0.8241299572045196\n",
      "Standard Deviation of scores:  0.008145020638915269\n",
      "\n",
      "\n",
      "\n",
      "K cross validation, k=  12\n",
      "Average scores:  0.8237110295482305\n",
      "Standard Deviation of scores:  0.008104797394772746\n",
      "\n",
      "\n",
      "\n",
      "K cross validation, k=  13\n",
      "Average scores:  0.8229605380221441\n",
      "Standard Deviation of scores:  0.010031161635863158\n",
      "\n",
      "\n",
      "\n",
      "K cross validation, k=  14\n",
      "Average scores:  0.8233778239509781\n",
      "Standard Deviation of scores:  0.009405402198717643\n",
      "\n",
      "\n",
      "\n",
      "K cross validation, k=  15\n",
      "Average scores:  0.8239625621980504\n",
      "Standard Deviation of scores:  0.010640985536905472\n",
      "\n",
      "\n",
      "\n"
     ]
    }
   ],
   "source": [
    "kCrossValidation(nb, featureSelection_df, labels)"
   ]
  },
  {
   "cell_type": "markdown",
   "id": "5e1ea89d",
   "metadata": {},
   "source": [
    "# 5. KNN"
   ]
  },
  {
   "cell_type": "markdown",
   "id": "fe133a3f",
   "metadata": {},
   "source": [
    "## 5.1 Trovare il k migliore"
   ]
  },
  {
   "cell_type": "markdown",
   "id": "3e68a7c5",
   "metadata": {},
   "source": [
    "### Prima di effettuare la classifcazione con il KNN, si cerca il valore k migliore che identifica il numero di neighbors su cui basarsi per la classficazione"
   ]
  },
  {
   "cell_type": "markdown",
   "id": "3b8435ef",
   "metadata": {},
   "source": [
    "### La ricerca di k viene effettuata per i seguenti valori: [9,11,13,15,17,19,97]"
   ]
  },
  {
   "cell_type": "markdown",
   "id": "ba80e356",
   "metadata": {},
   "source": [
    "### Funzione che ricerca il k migliore"
   ]
  },
  {
   "cell_type": "code",
   "execution_count": 28,
   "id": "6680168b",
   "metadata": {},
   "outputs": [],
   "source": [
    "def findBestK(dataset, labels):\n",
    "    X_train, X_test, Y_train, Y_test = train_test_split(dataset, labels, test_size=0.2, random_state=random_seed)\n",
    "    error = []\n",
    "    \n",
    "    acc_train = []\n",
    "    acc_test = []\n",
    "    max_acc_test = 0\n",
    "    max_acc_train = 0\n",
    "    best_k = 0\n",
    "    \n",
    "    root = int(math.sqrt(X_train.shape[0]))\n",
    "    k = [9,11,13,15,17,19]\n",
    "    k.append(root)\n",
    "    \n",
    "    for i in k:\n",
    "        print(str(i) + \" Neighbors\")\n",
    "        knn = KNeighborsClassifier(n_neighbors=i)\n",
    "        knn.fit(X_train, Y_train)\n",
    "        pred_i = knn.predict(X_test)\n",
    "        \n",
    "        error.append(np.mean(pred_i != Y_test))\n",
    "        \n",
    "        print(\"train: \", knn.score(X_train, Y_train))\n",
    "        print(\"test: \", knn.score(X_test, Y_test))\n",
    "        acc_train.append(knn.score(X_train, Y_train))\n",
    "        acc_test.append(knn.score(X_test, Y_test))\n",
    "        print()\n",
    "        if knn.score(X_train, Y_train) >= max_acc_train and knn.score(X_test, Y_test) >= max_acc_test:\n",
    "            best_k = i\n",
    "            max_acc_test = knn.score(X_test, Y_test)\n",
    "            max_acc_train = knn.score(X_train, Y_train)\n",
    "        \n",
    "    print(\"\\nErrori per i vari k:\\n\")\n",
    "    print(error)\n",
    "    \n",
    "    x=[9,11,13,15,17,19,97]\n",
    "    values = range(len(x))\n",
    "\n",
    "    plt.figure(figsize=(12, 6))\n",
    "    plt.xticks(values,x)\n",
    "    plt.plot(values, error, color='red', linestyle='dashed', marker='o',\n",
    "             markerfacecolor='blue', markersize=10)\n",
    "    plt.title('Error Rate K Value')\n",
    "    plt.xlabel('K Value')\n",
    "    plt.ylabel('Mean Error')\n",
    "\n",
    "    return best_k"
   ]
  },
  {
   "cell_type": "markdown",
   "id": "c3abc54f",
   "metadata": {},
   "source": [
    "## 5.2 KNN: Classificazione"
   ]
  },
  {
   "cell_type": "markdown",
   "id": "a67af493",
   "metadata": {},
   "source": [
    "### Task di classificazione"
   ]
  },
  {
   "cell_type": "code",
   "execution_count": 29,
   "id": "9b79f10c",
   "metadata": {},
   "outputs": [],
   "source": [
    "X_train, X_test, Y_train, Y_test = train_test_split(featureSelection_df, labels, test_size=0.2, random_state=random_seed)\n"
   ]
  },
  {
   "cell_type": "code",
   "execution_count": 30,
   "id": "7d4c5ca1",
   "metadata": {
    "scrolled": false
   },
   "outputs": [
    {
     "name": "stdout",
     "output_type": "stream",
     "text": [
      "9 Neighbors\n",
      "train:  0.6630809399477807\n",
      "test:  0.614452798663325\n",
      "\n",
      "11 Neighbors\n",
      "train:  0.6369712793733682\n",
      "test:  0.6073517126148705\n",
      "\n",
      "13 Neighbors\n",
      "train:  0.6183812010443864\n",
      "test:  0.6027568922305765\n",
      "\n",
      "15 Neighbors\n",
      "train:  0.5996866840731071\n",
      "test:  0.6040100250626567\n",
      "\n",
      "17 Neighbors\n",
      "train:  0.5906005221932115\n",
      "test:  0.5981620718462823\n",
      "\n",
      "19 Neighbors\n",
      "train:  0.5845430809399478\n",
      "test:  0.595655806182122\n",
      "\n",
      "97 Neighbors\n",
      "train:  0.523864229765013\n",
      "test:  0.5522138680033417\n",
      "\n",
      "\n",
      "Errori per i vari k:\n",
      "\n",
      "[0.385547201336675, 0.39264828738512947, 0.39724310776942356, 0.39598997493734334, 0.4018379281537176, 0.404344193817878, 0.4477861319966583]\n"
     ]
    },
    {
     "data": {
      "image/png": "[encoded data removed]",
      "text/plain": [
       "<Figure size 864x432 with 1 Axes>"
      ]
     },
     "metadata": {
      "needs_background": "light"
     },
     "output_type": "display_data"
    }
   ],
   "source": [
    "k = findBestK(featureSelection_df, labels)\n",
    "knc = KNeighborsClassifier(n_neighbors=k, weights=\"distance\")\n",
    "knc.fit(X_train, Y_train)\n",
    "\n",
    "\n",
    "train_prediction = knc.predict(X_train)\n",
    "test_prediction = knc.predict(X_test)\n"
   ]
  },
  {
   "cell_type": "code",
   "execution_count": 31,
   "id": "3a0d82b0",
   "metadata": {},
   "outputs": [
    {
     "name": "stdout",
     "output_type": "stream",
     "text": [
      "Accuracy train score:  1.0\n",
      "Accuracy test score:  0.614452798663325\n",
      "              precision    recall  f1-score   support\n",
      "\n",
      "    Negativo       0.87      0.21      0.34      1123\n",
      "    Positivo       0.58      0.97      0.73      1271\n",
      "\n",
      "    accuracy                           0.61      2394\n",
      "   macro avg       0.73      0.59      0.53      2394\n",
      "weighted avg       0.72      0.61      0.54      2394\n",
      "\n"
     ]
    },
    {
     "data": {
      "image/png": "[encoded data removed]",
      "text/plain": [
       "<Figure size 432x288 with 2 Axes>"
      ]
     },
     "metadata": {
      "needs_background": "light"
     },
     "output_type": "display_data"
    }
   ],
   "source": [
    "accuracy_train_knn = metrics.accuracy_score(Y_train, train_prediction)\n",
    "accuracy_test_knn = metrics.accuracy_score(Y_test, test_prediction)\n",
    "\n",
    "print(\"Accuracy train score: \", accuracy_train_knn)\n",
    "print(\"Accuracy test score: \", accuracy_test_knn)\n",
    "\n",
    "report_scores(Y_test, test_prediction)"
   ]
  },
  {
   "cell_type": "markdown",
   "id": "c27dcded",
   "metadata": {},
   "source": [
    "## K-fold Cross Validation"
   ]
  },
  {
   "cell_type": "code",
   "execution_count": 32,
   "id": "f1acfc4c",
   "metadata": {},
   "outputs": [
    {
     "name": "stdout",
     "output_type": "stream",
     "text": [
      "K cross validation, k=  10\n",
      "Average scores:  0.5924476743698712\n",
      "Standard Deviation of scores:  0.01692318986161959\n",
      "\n",
      "\n",
      "\n",
      "K cross validation, k=  11\n",
      "Average scores:  0.5939528672726291\n",
      "Standard Deviation of scores:  0.024479838645554607\n",
      "\n",
      "\n",
      "\n",
      "K cross validation, k=  12\n",
      "Average scores:  0.5933685324510606\n",
      "Standard Deviation of scores:  0.026314615503911527\n",
      "\n",
      "\n",
      "\n",
      "K cross validation, k=  13\n",
      "Average scores:  0.5942925931171222\n",
      "Standard Deviation of scores:  0.02806305165616774\n",
      "\n",
      "\n",
      "\n",
      "K cross validation, k=  14\n",
      "Average scores:  0.5929478262400733\n",
      "Standard Deviation of scores:  0.020294368853263217\n",
      "\n",
      "\n",
      "\n",
      "K cross validation, k=  15\n",
      "Average scores:  0.5936156786780838\n",
      "Standard Deviation of scores:  0.02341296013926821\n",
      "\n",
      "\n",
      "\n"
     ]
    }
   ],
   "source": [
    "kCrossValidation(knc, featureSelection_df, labels)"
   ]
  },
  {
   "cell_type": "markdown",
   "id": "dc3bc10f",
   "metadata": {},
   "source": [
    "# 6. Artificial Neural Network"
   ]
  },
  {
   "cell_type": "markdown",
   "id": "14c85fe0",
   "metadata": {},
   "source": [
    "## 6.1 Ottimizzazione dei parametri della rete neurale"
   ]
  },
  {
   "cell_type": "code",
   "execution_count": 33,
   "id": "7ccf7b4a",
   "metadata": {},
   "outputs": [],
   "source": [
    "X_train, X_test, Y_train, Y_test = train_test_split(featureSelection_df, labels, test_size=0.2, random_state=random_seed)"
   ]
  },
  {
   "cell_type": "code",
   "execution_count": 34,
   "id": "8d79505b",
   "metadata": {},
   "outputs": [],
   "source": [
    "mlp = MLPClassifier(max_iter=200, random_state = random_seed)"
   ]
  },
  {
   "cell_type": "markdown",
   "id": "2fd18149",
   "metadata": {},
   "source": [
    "### Paramatri su cui viene effettuata la ricerca"
   ]
  },
  {
   "cell_type": "code",
   "execution_count": 35,
   "id": "ca95b2d9",
   "metadata": {},
   "outputs": [],
   "source": [
    "parameter_space = {\n",
    "    'hidden_layer_sizes': [(200,150,100)],\n",
    "    'activation': ['relu', 'logistic'],\n",
    "    'solver': ['adam', 'sgd'],\n",
    "    'alpha': [0.005, 0.0001],\n",
    "    'learning_rate': ['constant'],\n",
    "    }"
   ]
  },
  {
   "cell_type": "markdown",
   "id": "acb29416",
   "metadata": {},
   "source": [
    "### Ricerca dei parametri"
   ]
  },
  {
   "cell_type": "code",
   "execution_count": 36,
   "id": "ef892998",
   "metadata": {},
   "outputs": [
    {
     "data": {
      "text/plain": [
       "GridSearchCV(cv=StratifiedKFold(n_splits=3, random_state=3, shuffle=True),\n",
       "             estimator=MLPClassifier(random_state=3), n_jobs=-1,\n",
       "             param_grid={'activation': ['relu', 'logistic'],\n",
       "                         'alpha': [0.005, 0.0001],\n",
       "                         'hidden_layer_sizes': [(200, 150, 100)],\n",
       "                         'learning_rate': ['constant'],\n",
       "                         'solver': ['adam', 'sgd']})"
      ]
     },
     "execution_count": 36,
     "metadata": {},
     "output_type": "execute_result"
    }
   ],
   "source": [
    "clf = GridSearchCV(mlp, parameter_space, n_jobs=-1, cv=cross_validation)\n",
    "clf.fit(X_train, Y_train)\n"
   ]
  },
  {
   "cell_type": "markdown",
   "id": "facd01c6",
   "metadata": {},
   "source": [
    "### Parametri migliori trovati"
   ]
  },
  {
   "cell_type": "code",
   "execution_count": 37,
   "id": "2cd0a347",
   "metadata": {},
   "outputs": [
    {
     "name": "stdout",
     "output_type": "stream",
     "text": [
      "Parametri migliori:\n",
      " {'activation': 'relu', 'alpha': 0.005, 'hidden_layer_sizes': (200, 150, 100), 'learning_rate': 'constant', 'solver': 'adam'}\n"
     ]
    },
    {
     "data": {
      "text/plain": [
       "\"\\n'activation': 'relu', 'alpha': 0.0001, 'hidden_layer_sizes': (200, 150, 100), 'learning_rate': 'constant', 'solver': 'adam'\\n\""
      ]
     },
     "execution_count": 37,
     "metadata": {},
     "output_type": "execute_result"
    }
   ],
   "source": [
    "print('Parametri migliori:\\n', clf.best_params_)\n",
    "\n",
    "'''\n",
    "'activation': 'relu', 'alpha': 0.0001, 'hidden_layer_sizes': (200, 150, 100), 'learning_rate': 'constant', 'solver': 'adam'\n",
    "'''"
   ]
  },
  {
   "cell_type": "code",
   "execution_count": 38,
   "id": "e11a0f71",
   "metadata": {},
   "outputs": [
    {
     "name": "stdout",
     "output_type": "stream",
     "text": [
      "0.788 (+/-0.010) for {'activation': 'relu', 'alpha': 0.005, 'hidden_layer_sizes': (200, 150, 100), 'learning_rate': 'constant', 'solver': 'adam'}\n",
      "0.507 (+/-0.000) for {'activation': 'relu', 'alpha': 0.005, 'hidden_layer_sizes': (200, 150, 100), 'learning_rate': 'constant', 'solver': 'sgd'}\n",
      "0.787 (+/-0.009) for {'activation': 'relu', 'alpha': 0.0001, 'hidden_layer_sizes': (200, 150, 100), 'learning_rate': 'constant', 'solver': 'adam'}\n",
      "0.507 (+/-0.001) for {'activation': 'relu', 'alpha': 0.0001, 'hidden_layer_sizes': (200, 150, 100), 'learning_rate': 'constant', 'solver': 'sgd'}\n",
      "0.757 (+/-0.009) for {'activation': 'logistic', 'alpha': 0.005, 'hidden_layer_sizes': (200, 150, 100), 'learning_rate': 'constant', 'solver': 'adam'}\n",
      "0.507 (+/-0.000) for {'activation': 'logistic', 'alpha': 0.005, 'hidden_layer_sizes': (200, 150, 100), 'learning_rate': 'constant', 'solver': 'sgd'}\n",
      "0.762 (+/-0.009) for {'activation': 'logistic', 'alpha': 0.0001, 'hidden_layer_sizes': (200, 150, 100), 'learning_rate': 'constant', 'solver': 'adam'}\n",
      "0.507 (+/-0.000) for {'activation': 'logistic', 'alpha': 0.0001, 'hidden_layer_sizes': (200, 150, 100), 'learning_rate': 'constant', 'solver': 'sgd'}\n"
     ]
    }
   ],
   "source": [
    "means = clf.cv_results_['mean_test_score']\n",
    "stds = clf.cv_results_['std_test_score']\n",
    "for mean, std, params in zip(means, stds, clf.cv_results_['params']):\n",
    "    print(\"%0.3f (+/-%0.03f) for %r\" % (mean, std * 2, params))"
   ]
  },
  {
   "cell_type": "markdown",
   "id": "392eab2b",
   "metadata": {},
   "source": [
    "## 6.2 Artificial Neural Network: Classificazione"
   ]
  },
  {
   "cell_type": "markdown",
   "id": "88240425",
   "metadata": {},
   "source": [
    "### Prendo i parametri migliori trovati"
   ]
  },
  {
   "cell_type": "markdown",
   "id": "d59e749f",
   "metadata": {},
   "source": [
    "best_params = clf.best_params_ \n",
    "\n",
    "hidden_layer_sizes_found = best_params.get('hidden_layer_sizes')\n",
    "activation_found = best_params.get('activation')\n",
    "solver_found = best_params.get('solver')\n",
    "alpha_found = best_params.get('alpha')\n",
    "learning_rate_found = best_params.get('learning_rate')"
   ]
  },
  {
   "cell_type": "code",
   "execution_count": 39,
   "id": "93b28378",
   "metadata": {},
   "outputs": [],
   "source": [
    "hidden_layer_sizes_found = (200,150,100)\n",
    "activation_found = 'relu'\n",
    "solver_found = 'adam'\n",
    "alpha_found = 0.005\n",
    "learning_rate_found = 'constant'"
   ]
  },
  {
   "cell_type": "markdown",
   "id": "867429c5",
   "metadata": {},
   "source": [
    "### Task di classificazione"
   ]
  },
  {
   "cell_type": "code",
   "execution_count": 40,
   "id": "18e2045a",
   "metadata": {},
   "outputs": [],
   "source": [
    "mlp = MLPClassifier(max_iter=500, \n",
    "                    random_state = random_seed,\n",
    "                    hidden_layer_sizes = hidden_layer_sizes_found,\n",
    "                    activation = activation_found,\n",
    "                    solver = solver_found,\n",
    "                    alpha = alpha_found,\n",
    "                    learning_rate = learning_rate_found\n",
    "                   )\n",
    "\n",
    "mlp.fit(X_train, Y_train)\n",
    "\n",
    "train_prediction = mlp.predict(X_train)\n",
    "test_prediction = mlp.predict(X_test)"
   ]
  },
  {
   "cell_type": "code",
   "execution_count": 41,
   "id": "1c149674",
   "metadata": {},
   "outputs": [
    {
     "name": "stdout",
     "output_type": "stream",
     "text": [
      "Accuracy train score:  1.0\n",
      "Accuracy test score:  0.8007518796992481\n",
      "              precision    recall  f1-score   support\n",
      "\n",
      "    Negativo       0.78      0.80      0.79      1123\n",
      "    Positivo       0.82      0.80      0.81      1271\n",
      "\n",
      "    accuracy                           0.80      2394\n",
      "   macro avg       0.80      0.80      0.80      2394\n",
      "weighted avg       0.80      0.80      0.80      2394\n",
      "\n"
     ]
    },
    {
     "data": {
      "image/png": "[encoded data removed]",
      "text/plain": [
       "<Figure size 432x288 with 2 Axes>"
      ]
     },
     "metadata": {
      "needs_background": "light"
     },
     "output_type": "display_data"
    }
   ],
   "source": [
    "accuracy_train_nn = metrics.accuracy_score(Y_train, train_prediction)\n",
    "accuracy_test_nn = metrics.accuracy_score(Y_test, test_prediction)\n",
    "\n",
    "print(\"Accuracy train score: \", accuracy_train_nn)\n",
    "print(\"Accuracy test score: \", accuracy_test_nn)\n",
    "\n",
    "report_scores(Y_test, test_prediction)"
   ]
  },
  {
   "cell_type": "markdown",
   "id": "eee25ff5",
   "metadata": {},
   "source": [
    "# 7. Support Vector Machine"
   ]
  },
  {
   "cell_type": "code",
   "execution_count": 42,
   "id": "608c1cf4",
   "metadata": {},
   "outputs": [],
   "source": [
    "X_train, X_test, Y_train, Y_test = train_test_split(featureSelection_df, labels, test_size=0.2, random_state=random_seed)"
   ]
  },
  {
   "cell_type": "markdown",
   "id": "651f273f",
   "metadata": {},
   "source": [
    "## Valori su cui ho ottimizzato il classificatore SVC"
   ]
  },
  {
   "cell_type": "code",
   "execution_count": 43,
   "id": "c7611fc3",
   "metadata": {},
   "outputs": [],
   "source": [
    "# valori su cui ho ottimizzato il classificatore SVC\n",
    "\n",
    "# kernel_values = ['linear', 'poly', 'rbf', 'sigmoid']\n",
    "# C_values = [0.5,1,10,100]\n",
    "# gamma_values = ['scale', 1, 0.1, 0.01, 0.001, 0.0001]\n",
    "\n",
    "# parametri migliori\n",
    "kernel_found = 'linear'\n",
    "C_found = 0.5\n",
    "gamma_found = 0.0001"
   ]
  },
  {
   "cell_type": "markdown",
   "id": "68e908a1",
   "metadata": {},
   "source": [
    "### Task di classificazione"
   ]
  },
  {
   "cell_type": "code",
   "execution_count": 44,
   "id": "e4f934c3",
   "metadata": {},
   "outputs": [],
   "source": [
    "svm = SVC(random_state=random_seed, kernel = kernel_found, C = C_found, gamma = gamma_found)\n",
    "svm.fit(X_train, Y_train)\n",
    "\n",
    "train_prediction = svm.predict(X_train)\n",
    "test_prediction = svm.predict(X_test)"
   ]
  },
  {
   "cell_type": "code",
   "execution_count": 45,
   "id": "36b3495a",
   "metadata": {},
   "outputs": [
    {
     "name": "stdout",
     "output_type": "stream",
     "text": [
      "Accuracy train score:  0.8701827676240209\n",
      "Accuracy test score:  0.8329156223893066\n",
      "              precision    recall  f1-score   support\n",
      "\n",
      "    Negativo       0.82      0.82      0.82      1123\n",
      "    Positivo       0.84      0.85      0.84      1271\n",
      "\n",
      "    accuracy                           0.83      2394\n",
      "   macro avg       0.83      0.83      0.83      2394\n",
      "weighted avg       0.83      0.83      0.83      2394\n",
      "\n"
     ]
    },
    {
     "data": {
      "image/png": "[encoded data removed]",
      "text/plain": [
       "<Figure size 432x288 with 2 Axes>"
      ]
     },
     "metadata": {
      "needs_background": "light"
     },
     "output_type": "display_data"
    }
   ],
   "source": [
    "accuracy_train_svm = metrics.accuracy_score(Y_train, train_prediction)\n",
    "accuracy_test_svm = metrics.accuracy_score(Y_test, test_prediction)\n",
    "\n",
    "print(\"Accuracy train score: \", accuracy_train_svm)\n",
    "print(\"Accuracy test score: \", accuracy_test_svm)\n",
    "\n",
    "report_scores(Y_test, test_prediction)"
   ]
  },
  {
   "cell_type": "markdown",
   "id": "cba4ad61",
   "metadata": {},
   "source": [
    "# 8. Confronto modelli"
   ]
  },
  {
   "cell_type": "code",
   "execution_count": 46,
   "id": "e2bf7348",
   "metadata": {
    "scrolled": false
   },
   "outputs": [
    {
     "data": {
      "image/png": "[encoded data removed]",
      "text/plain": [
       "<Figure size 432x288 with 1 Axes>"
      ]
     },
     "metadata": {
      "needs_background": "light"
     },
     "output_type": "display_data"
    }
   ],
   "source": [
    "x_train = [1,5,9,13,17]\n",
    "x_test = [2,6,10,14,18]\n",
    "\n",
    "accuracy_train = [accuracy_train_rf, accuracy_train_nb, accuracy_train_knn, accuracy_train_nn, accuracy_train_svm]\n",
    "accuracy_test = [accuracy_test_rf, accuracy_test_nb, accuracy_test_knn, accuracy_test_nn, accuracy_test_svm]\n",
    "\n",
    "x_labels = [1.5,5.5,9.5,13.5,17.5]\n",
    "name_labels = [\"RF\", \"NB\", \"KNN\", \"NN\", \"SVM\"]\n",
    "plt.bar(x_train, accuracy_train, label='Accuracy Train')\n",
    "plt.bar(x_test, accuracy_test, label='Accuracy Test')\n",
    "plt.title(\"Confronto dei modelli\")\n",
    "plt.xticks(x_labels, name_labels)\n",
    "plt.legend(bbox_to_anchor=(1.05, 1), loc='upper left')\n",
    "plt.show()"
   ]
  },
  {
   "cell_type": "markdown",
   "id": "2129f64a",
   "metadata": {},
   "source": [
    "# 9. Ensamble learning"
   ]
  },
  {
   "cell_type": "markdown",
   "id": "282885ea",
   "metadata": {},
   "source": [
    "## In questa sezione vengono combinati i migliori classificatori ottenuti con l'ensamble learning"
   ]
  },
  {
   "cell_type": "code",
   "execution_count": 63,
   "id": "a49eb5ea",
   "metadata": {},
   "outputs": [],
   "source": [
    "estimators = [['knn', knc], ['rf', rf], ['nb', nb], ['svm', svm]]\n",
    "\n",
    "cross_validation = StratifiedKFold(n_splits=5, shuffle=True, random_state=random_seed)\n",
    "\n",
    "clf = StackingClassifier(\n",
    "    estimators=estimators, n_jobs = -1, cv = cross_validation)\n",
    "\n",
    "clf.fit(X_train, Y_train)\n",
    "\n",
    "train_prediction = clf.predict(X_train)\n",
    "test_prediction = clf.predict(X_test)"
   ]
  },
  {
   "cell_type": "code",
   "execution_count": 64,
   "id": "56d5f58b",
   "metadata": {},
   "outputs": [
    {
     "name": "stdout",
     "output_type": "stream",
     "text": [
      "Accuracy train score:  0.8871018276762402\n",
      "Accuracy test score:  0.8404344193817878\n",
      "              precision    recall  f1-score   support\n",
      "\n",
      "    Negativo       0.83      0.83      0.83      1123\n",
      "    Positivo       0.85      0.85      0.85      1271\n",
      "\n",
      "    accuracy                           0.84      2394\n",
      "   macro avg       0.84      0.84      0.84      2394\n",
      "weighted avg       0.84      0.84      0.84      2394\n",
      "\n"
     ]
    },
    {
     "data": {
      "image/png": "[encoded data removed]",
      "text/plain": [
       "<Figure size 432x288 with 2 Axes>"
      ]
     },
     "metadata": {
      "needs_background": "light"
     },
     "output_type": "display_data"
    }
   ],
   "source": [
    "accuracy_train_clf = metrics.accuracy_score(Y_train, train_prediction)\n",
    "accuracy_test_clf = metrics.accuracy_score(Y_test, test_prediction)\n",
    "\n",
    "print(\"Accuracy train score: \", accuracy_train_clf)\n",
    "print(\"Accuracy test score: \", accuracy_test_clf)\n",
    "\n",
    "report_scores(Y_test, test_prediction)"
   ]
  },
  {
   "cell_type": "code",
   "execution_count": null,
   "id": "22c1cd86",
   "metadata": {},
   "outputs": [],
   "source": []
  }
 ],
 "metadata": {
  "kernelspec": {
   "display_name": "Python 3 (ipykernel)",
   "language": "python",
   "name": "python3"
  },
  "language_info": {
   "codemirror_mode": {
    "name": "ipython",
    "version": 3
   },
   "file_extension": ".py",
   "mimetype": "text/x-python",
   "name": "python",
   "nbconvert_exporter": "python",
   "pygments_lexer": "ipython3",
   "version": "3.9.7"
  }
 },
 "nbformat": 4,
 "nbformat_minor": 5
}
