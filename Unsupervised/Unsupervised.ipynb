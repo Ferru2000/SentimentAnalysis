{
 "cells": [
  {
   "cell_type": "markdown",
   "id": "b91162df",
   "metadata": {},
   "source": [
    "# Apprendimento non supervisionato"
   ]
  },
  {
   "cell_type": "markdown",
   "id": "51f590f0",
   "metadata": {},
   "source": [
    "## In questa sezione viene applicato l'apprendimento non supervisionato"
   ]
  },
  {
   "cell_type": "markdown",
   "id": "40bf2b53",
   "metadata": {},
   "source": [
    "### Import delle librerie e moduli necessari\n",
    " "
   ]
  },
  {
   "cell_type": "code",
   "execution_count": 1,
   "id": "d4bd3c88",
   "metadata": {},
   "outputs": [],
   "source": [
    "# librerie generali\n",
    "import numpy as np\n",
    "import pandas as pd\n",
    "import matplotlib.pyplot as plt\n",
    "import seaborn as sns\n",
    "import pickle\n",
    "\n",
    "#librerie per l'hard clustering\n",
    "from sklearn.cluster import KMeans\n",
    "\n",
    "# libreria per suddividere il dataset in train e test set\n",
    "from sklearn.model_selection import train_test_split\n",
    "\n",
    "# librerie per la rappresentazione del dataset\n",
    "from sklearn.feature_extraction.text import TfidfVectorizer\n",
    "\n",
    "# librerie utilizzate per la classificazione con l'output dek k-means\n",
    "from sklearn.neural_network import MLPClassifier\n",
    "from sklearn.svm import SVC\n",
    "\n",
    "# librerie utilizzate per le misure\n",
    "from sklearn.metrics import accuracy_score\n",
    "from sklearn.metrics import confusion_matrix\n",
    "\n",
    "# libreria utilizzata per la cross validation\n",
    "from sklearn.model_selection import cross_val_score\n",
    "\n",
    "random_seed = 3"
   ]
  },
  {
   "cell_type": "code",
   "execution_count": 2,
   "id": "7ce1c319",
   "metadata": {},
   "outputs": [],
   "source": [
    "featureSelectionReview_df = pd.read_csv(\"../datasets/featureSelectionReview_df.csv\", index_col=0)"
   ]
  },
  {
   "cell_type": "code",
   "execution_count": 3,
   "id": "a74ebe84",
   "metadata": {
    "scrolled": false
   },
   "outputs": [
    {
     "data": {
      "text/html": [
       "<div>\n",
       "<style scoped>\n",
       "    .dataframe tbody tr th:only-of-type {\n",
       "        vertical-align: middle;\n",
       "    }\n",
       "\n",
       "    .dataframe tbody tr th {\n",
       "        vertical-align: top;\n",
       "    }\n",
       "\n",
       "    .dataframe thead th {\n",
       "        text-align: right;\n",
       "    }\n",
       "</style>\n",
       "<table border=\"1\" class=\"dataframe\">\n",
       "  <thead>\n",
       "    <tr style=\"text-align: right;\">\n",
       "      <th></th>\n",
       "      <th>00</th>\n",
       "      <th>099</th>\n",
       "      <th>10</th>\n",
       "      <th>100</th>\n",
       "      <th>11</th>\n",
       "      <th>12</th>\n",
       "      <th>13</th>\n",
       "      <th>14</th>\n",
       "      <th>15</th>\n",
       "      <th>16</th>\n",
       "      <th>...</th>\n",
       "      <th>york</th>\n",
       "      <th>yorker</th>\n",
       "      <th>young</th>\n",
       "      <th>yummy</th>\n",
       "      <th>zadist</th>\n",
       "      <th>zane</th>\n",
       "      <th>zero</th>\n",
       "      <th>zombie</th>\n",
       "      <th>zone</th>\n",
       "      <th>zsadist</th>\n",
       "    </tr>\n",
       "  </thead>\n",
       "  <tbody>\n",
       "    <tr>\n",
       "      <th>0</th>\n",
       "      <td>0.0</td>\n",
       "      <td>0.0</td>\n",
       "      <td>0.0</td>\n",
       "      <td>0.0</td>\n",
       "      <td>0.0</td>\n",
       "      <td>0.0</td>\n",
       "      <td>0.0</td>\n",
       "      <td>0.0</td>\n",
       "      <td>0.0</td>\n",
       "      <td>0.0</td>\n",
       "      <td>...</td>\n",
       "      <td>0.0</td>\n",
       "      <td>0.0</td>\n",
       "      <td>0.000000</td>\n",
       "      <td>0.0</td>\n",
       "      <td>0.0</td>\n",
       "      <td>0.0</td>\n",
       "      <td>0.0</td>\n",
       "      <td>0.0</td>\n",
       "      <td>0.0</td>\n",
       "      <td>0.0</td>\n",
       "    </tr>\n",
       "    <tr>\n",
       "      <th>1</th>\n",
       "      <td>0.0</td>\n",
       "      <td>0.0</td>\n",
       "      <td>0.0</td>\n",
       "      <td>0.0</td>\n",
       "      <td>0.0</td>\n",
       "      <td>0.0</td>\n",
       "      <td>0.0</td>\n",
       "      <td>0.0</td>\n",
       "      <td>0.0</td>\n",
       "      <td>0.0</td>\n",
       "      <td>...</td>\n",
       "      <td>0.0</td>\n",
       "      <td>0.0</td>\n",
       "      <td>0.000000</td>\n",
       "      <td>0.0</td>\n",
       "      <td>0.0</td>\n",
       "      <td>0.0</td>\n",
       "      <td>0.0</td>\n",
       "      <td>0.0</td>\n",
       "      <td>0.0</td>\n",
       "      <td>0.0</td>\n",
       "    </tr>\n",
       "    <tr>\n",
       "      <th>2</th>\n",
       "      <td>0.0</td>\n",
       "      <td>0.0</td>\n",
       "      <td>0.0</td>\n",
       "      <td>0.0</td>\n",
       "      <td>0.0</td>\n",
       "      <td>0.0</td>\n",
       "      <td>0.0</td>\n",
       "      <td>0.0</td>\n",
       "      <td>0.0</td>\n",
       "      <td>0.0</td>\n",
       "      <td>...</td>\n",
       "      <td>0.0</td>\n",
       "      <td>0.0</td>\n",
       "      <td>0.128192</td>\n",
       "      <td>0.0</td>\n",
       "      <td>0.0</td>\n",
       "      <td>0.0</td>\n",
       "      <td>0.0</td>\n",
       "      <td>0.0</td>\n",
       "      <td>0.0</td>\n",
       "      <td>0.0</td>\n",
       "    </tr>\n",
       "    <tr>\n",
       "      <th>3</th>\n",
       "      <td>0.0</td>\n",
       "      <td>0.0</td>\n",
       "      <td>0.0</td>\n",
       "      <td>0.0</td>\n",
       "      <td>0.0</td>\n",
       "      <td>0.0</td>\n",
       "      <td>0.0</td>\n",
       "      <td>0.0</td>\n",
       "      <td>0.0</td>\n",
       "      <td>0.0</td>\n",
       "      <td>...</td>\n",
       "      <td>0.0</td>\n",
       "      <td>0.0</td>\n",
       "      <td>0.000000</td>\n",
       "      <td>0.0</td>\n",
       "      <td>0.0</td>\n",
       "      <td>0.0</td>\n",
       "      <td>0.0</td>\n",
       "      <td>0.0</td>\n",
       "      <td>0.0</td>\n",
       "      <td>0.0</td>\n",
       "    </tr>\n",
       "    <tr>\n",
       "      <th>4</th>\n",
       "      <td>0.0</td>\n",
       "      <td>0.0</td>\n",
       "      <td>0.0</td>\n",
       "      <td>0.0</td>\n",
       "      <td>0.0</td>\n",
       "      <td>0.0</td>\n",
       "      <td>0.0</td>\n",
       "      <td>0.0</td>\n",
       "      <td>0.0</td>\n",
       "      <td>0.0</td>\n",
       "      <td>...</td>\n",
       "      <td>0.0</td>\n",
       "      <td>0.0</td>\n",
       "      <td>0.000000</td>\n",
       "      <td>0.0</td>\n",
       "      <td>0.0</td>\n",
       "      <td>0.0</td>\n",
       "      <td>0.0</td>\n",
       "      <td>0.0</td>\n",
       "      <td>0.0</td>\n",
       "      <td>0.0</td>\n",
       "    </tr>\n",
       "  </tbody>\n",
       "</table>\n",
       "<p>5 rows × 3408 columns</p>\n",
       "</div>"
      ],
      "text/plain": [
       "    00  099   10  100   11   12   13   14   15   16  ...  york  yorker  \\\n",
       "0  0.0  0.0  0.0  0.0  0.0  0.0  0.0  0.0  0.0  0.0  ...   0.0     0.0   \n",
       "1  0.0  0.0  0.0  0.0  0.0  0.0  0.0  0.0  0.0  0.0  ...   0.0     0.0   \n",
       "2  0.0  0.0  0.0  0.0  0.0  0.0  0.0  0.0  0.0  0.0  ...   0.0     0.0   \n",
       "3  0.0  0.0  0.0  0.0  0.0  0.0  0.0  0.0  0.0  0.0  ...   0.0     0.0   \n",
       "4  0.0  0.0  0.0  0.0  0.0  0.0  0.0  0.0  0.0  0.0  ...   0.0     0.0   \n",
       "\n",
       "      young  yummy  zadist  zane  zero  zombie  zone  zsadist  \n",
       "0  0.000000    0.0     0.0   0.0   0.0     0.0   0.0      0.0  \n",
       "1  0.000000    0.0     0.0   0.0   0.0     0.0   0.0      0.0  \n",
       "2  0.128192    0.0     0.0   0.0   0.0     0.0   0.0      0.0  \n",
       "3  0.000000    0.0     0.0   0.0   0.0     0.0   0.0      0.0  \n",
       "4  0.000000    0.0     0.0   0.0   0.0     0.0   0.0      0.0  \n",
       "\n",
       "[5 rows x 3408 columns]"
      ]
     },
     "execution_count": 3,
     "metadata": {},
     "output_type": "execute_result"
    }
   ],
   "source": [
    "featureSelectionReview_df.drop(['numberPositiveReview', 'numberNegativeReview'], axis=1, inplace = True)\n",
    "featureSelectionReview_df.head()"
   ]
  },
  {
   "cell_type": "markdown",
   "id": "9438388a",
   "metadata": {},
   "source": [
    "## Elbow method per il K-Means"
   ]
  },
  {
   "cell_type": "code",
   "execution_count": 4,
   "id": "386c4b28",
   "metadata": {},
   "outputs": [
    {
     "name": "stdout",
     "output_type": "stream",
     "text": [
      "Calculation with 2 clusters...\n",
      "Calculation with 3 clusters...\n",
      "Calculation with 4 clusters...\n",
      "Calculation with 5 clusters...\n",
      "Calculation with 6 clusters...\n",
      "Calculation with 7 clusters...\n",
      "Calculation with 8 clusters...\n",
      "Calculation with 9 clusters...\n",
      "Calculation with 10 clusters...\n",
      "Calculation with 11 clusters...\n",
      "Calculation with 12 clusters...\n",
      "Calculation with 13 clusters...\n",
      "Calculation with 14 clusters...\n",
      "Calculation with 15 clusters...\n"
     ]
    }
   ],
   "source": [
    "#clean_df_cluster = clean_dataset\n",
    "#clean_df_cluster['cluster'] = model.labels_\n",
    "#algorithm{“lloyd”, “elkan”, “auto”, “full”}, default=”lloyd”\n",
    "\n",
    "distortions = []\n",
    "max_clusters = 15\n",
    "clustersRange = range(2,max_clusters+1)\n",
    "for k in clustersRange:\n",
    "    print(\"Calculation with \"+str(k)+\" clusters...\")\n",
    "    kmeanModel = KMeans(n_clusters=k, init='k-means++', max_iter = 5000, random_state = random_seed, algorithm = \"elkan\")\n",
    "    kmeanModel.fit(featureSelectionReview_df)\n",
    "    distortions.append(kmeanModel.inertia_)\n",
    "    "
   ]
  },
  {
   "cell_type": "code",
   "execution_count": 5,
   "id": "97ce9d45",
   "metadata": {
    "scrolled": true
   },
   "outputs": [
    {
     "data": {
      "image/png": "[encoded data removed]",
      "text/plain": [
       "<Figure size 1152x576 with 1 Axes>"
      ]
     },
     "metadata": {
      "needs_background": "light"
     },
     "output_type": "display_data"
    }
   ],
   "source": [
    "plt.figure(figsize=(16,8))\n",
    "plt.plot(clustersRange, distortions, 'bx-')\n",
    "plt.xlabel('k')\n",
    "plt.ylabel('Distorsione')\n",
    "plt.xticks(np.arange(len(distortions)), np.arange(len(distortions)))\n",
    "plt.title('Elbow Method per il k ottimale')\n",
    "plt.show()"
   ]
  },
  {
   "cell_type": "markdown",
   "id": "7b830453",
   "metadata": {},
   "source": [
    "## K-Means"
   ]
  },
  {
   "cell_type": "code",
   "execution_count": 6,
   "id": "330a6bc8",
   "metadata": {},
   "outputs": [
    {
     "data": {
      "text/plain": [
       "KMeans(algorithm='elkan', max_iter=10000, n_clusters=4, random_state=3)"
      ]
     },
     "execution_count": 6,
     "metadata": {},
     "output_type": "execute_result"
    }
   ],
   "source": [
    "n_cluster = 4\n",
    "\n",
    "model = KMeans(n_clusters=n_cluster, init='k-means++', max_iter = 10000, random_state = random_seed, algorithm = \"elkan\")\n",
    "model.fit(featureSelectionReview_df)"
   ]
  },
  {
   "cell_type": "code",
   "execution_count": 7,
   "id": "abcea416",
   "metadata": {},
   "outputs": [
    {
     "data": {
      "image/png": "[encoded data removed]",
      "text/plain": [
       "<Figure size 432x288 with 1 Axes>"
      ]
     },
     "metadata": {
      "needs_background": "light"
     },
     "output_type": "display_data"
    }
   ],
   "source": [
    "clean_df_cluster = featureSelectionReview_df\n",
    "clean_df_cluster['cluster'] = model.labels_\n",
    "\n",
    "clusters_name = ('C1', 'C2', 'C3', 'C4')\n",
    "clusters_cardinality = np.zeros(n_cluster)\n",
    "for c in range(0,n_cluster):\n",
    "    clusters_cardinality[c] = clean_df_cluster[clean_df_cluster['cluster'] == c].size\n",
    "\n",
    "y_pos = np.arange(len(clusters_cardinality))\n",
    "plt.bar(y_pos, clusters_cardinality)\n",
    "plt.xticks(y_pos, clusters_name)\n",
    "plt.show()"
   ]
  },
  {
   "cell_type": "code",
   "execution_count": 8,
   "id": "1d07b3b3",
   "metadata": {
    "scrolled": false
   },
   "outputs": [
    {
     "name": "stdout",
     "output_type": "stream",
     "text": [
      "Most important words for centroid 0:['love', 'end', 'get', 'really', 'like', 'good', 'great', 'character', 'little', 'read', 'story', 'write', 'well', 'much', 'would', 'one', 'author', 'book', 'short', 'enjoy']\n",
      "\n",
      "Most important words for centroid 1:['like', 'story', 'read', 'book', 'really', 'would', 'character', 'one', 'get', 'go', 'end', 'time', 'want', 'sex', 'much', 'know', 'think', 'love', 'good', 'make']\n",
      "\n",
      "Most important words for centroid 2:['time', 'kindle', 'story', 'find', 'love', 'read', 'book', 'get', 'well', 'author', 'character', 'like', 'good', 'write', 'one', 'would', 'great', 'much', 'make', 'enjoy']\n",
      "\n",
      "Most important words for centroid 3:['read', 'great', 'book', 'love', 'good', 'series', 'character', 'enjoy', 'story', 'like', 'really', 'would', 'author', 'one', 'recommend', 'write', 'well', 'get', 'look', 'keep']\n",
      "\n"
     ]
    }
   ],
   "source": [
    "words = featureSelectionReview_df.columns\n",
    "centroid = model.cluster_centers_\n",
    "\n",
    "words_to_print = 20\n",
    "for num, centroid in enumerate(centroid):\n",
    "    most_important_words_index = np.argpartition(-centroid, words_to_print)[:words_to_print]  \n",
    "    most_important_words = list()\n",
    "    for index, word_index in enumerate(most_important_words_index):\n",
    "        most_important_words.append(words[word_index])\n",
    "        \n",
    "    print(\"Most important words for centroid \"+str(num)+\":\"+str(most_important_words)+\"\\n\")\n"
   ]
  },
  {
   "cell_type": "markdown",
   "id": "b89beac0",
   "metadata": {},
   "source": [
    "## Definizione funzione per K-Fold Cross Validation"
   ]
  },
  {
   "cell_type": "code",
   "execution_count": 9,
   "id": "225c8f29",
   "metadata": {},
   "outputs": [],
   "source": [
    "def kCrossValidation(model, dataset, labels):\n",
    "    k = []\n",
    "    acc = []\n",
    "    dev = []\n",
    "\n",
    "    folds = [5, 10]\n",
    "    #nota, non viene effettuato lo shuffle dei fold, quindi sono sempre gli stessi, sono già istanziati\n",
    "    for i in folds:\n",
    "        print(\"Calculating with \" + str(i) + \" folds...\")\n",
    "        scores = cross_val_score(model, dataset, labels, cv=i)\n",
    "        print(\"K cross validation, k= \", i)\n",
    "        k.append(i)\n",
    "        print(\"Average scores: \", scores.mean())\n",
    "        acc.append(scores.mean())\n",
    "        print(\"Standard Deviation of scores: \", scores.std())\n",
    "        dev.append(scores.std())\n",
    "        print(\"\\n\\n\")"
   ]
  },
  {
   "cell_type": "markdown",
   "id": "f3c65863",
   "metadata": {},
   "source": [
    "# SVM classificazione con classi derivanti dall'output del K-means"
   ]
  },
  {
   "cell_type": "code",
   "execution_count": 12,
   "id": "872bc2fa",
   "metadata": {},
   "outputs": [],
   "source": [
    "labels = clean_df_cluster[\"cluster\"]\n",
    "df_no_lable = clean_df_cluster.drop([\"cluster\"], axis=1)\n",
    "\n",
    "X_train, X_test, Y_train, Y_test = train_test_split(df_no_lable, labels, test_size=0.2, random_state=random_seed)"
   ]
  },
  {
   "cell_type": "code",
   "execution_count": 13,
   "id": "914de2f7",
   "metadata": {},
   "outputs": [],
   "source": [
    "kernel_found = 'linear'\n",
    "C_found = 0.5\n",
    "gamma_found = 0.0001"
   ]
  },
  {
   "cell_type": "code",
   "execution_count": 15,
   "id": "4e68d494",
   "metadata": {},
   "outputs": [],
   "source": [
    "svm = SVC(random_state=random_seed, kernel = kernel_found, C = C_found, gamma = gamma_found)\n",
    "svm.fit(X_train, Y_train)\n",
    "\n",
    "train_prediction = svm.predict(X_train)\n",
    "test_prediction = svm.predict(X_test)"
   ]
  },
  {
   "cell_type": "code",
   "execution_count": 16,
   "id": "f2cfcc9f",
   "metadata": {},
   "outputs": [
    {
     "name": "stdout",
     "output_type": "stream",
     "text": [
      "Accuracy train score:  0.9841253153910849\n",
      "Accuracy test score:  0.9478772593526692\n"
     ]
    }
   ],
   "source": [
    "accuracy_train_svm = accuracy_score(Y_train, train_prediction)\n",
    "accuracy_test_svm = accuracy_score(Y_test, test_prediction)\n",
    "\n",
    "print(\"Accuracy train score: \", accuracy_train_svm)\n",
    "print(\"Accuracy test score: \", accuracy_test_svm)"
   ]
  },
  {
   "cell_type": "code",
   "execution_count": 17,
   "id": "02f672d9",
   "metadata": {
    "scrolled": true
   },
   "outputs": [
    {
     "data": {
      "image/png": "[encoded data removed]",
      "text/plain": [
       "<Figure size 432x288 with 2 Axes>"
      ]
     },
     "metadata": {
      "needs_background": "light"
     },
     "output_type": "display_data"
    }
   ],
   "source": [
    "cf_matrix = confusion_matrix(Y_test, test_prediction)\n",
    "\n",
    "ax = sns.heatmap(cf_matrix/np.sum(cf_matrix), annot=True, fmt='.2%', cmap='Blues')\n",
    "\n",
    "ax.set_title('Confusion Matrix\\n\\n');\n",
    "ax.set_xlabel('\\nPredicted Values')\n",
    "ax.set_ylabel('Actual Values ');\n",
    "\n",
    "ax.xaxis.set_ticklabels(clusters_name)\n",
    "ax.yaxis.set_ticklabels(clusters_name)\n",
    "\n",
    "plt.show()"
   ]
  },
  {
   "cell_type": "markdown",
   "id": "12cb7808",
   "metadata": {},
   "source": [
    "## K-fold Cross Validation"
   ]
  },
  {
   "cell_type": "code",
   "execution_count": 18,
   "id": "e86ed0af",
   "metadata": {
    "scrolled": true
   },
   "outputs": [
    {
     "name": "stdout",
     "output_type": "stream",
     "text": [
      "Calculating with 5 folds...\n",
      "K cross validation, k=  5\n",
      "Average scores:  0.9405433936063063\n",
      "Standard Deviation of scores:  0.002730244241311725\n",
      "\n",
      "\n",
      "\n",
      "Calculating with 10 folds...\n",
      "K cross validation, k=  10\n",
      "Average scores:  0.9414689273522697\n",
      "Standard Deviation of scores:  0.0067141497172855755\n",
      "\n",
      "\n",
      "\n"
     ]
    }
   ],
   "source": [
    "kCrossValidation(svm, df_no_lable, labels)"
   ]
  },
  {
   "cell_type": "markdown",
   "id": "5aa437f9",
   "metadata": {},
   "source": [
    "# NN classificazione con classi derivanti dall'output del K-means"
   ]
  },
  {
   "cell_type": "code",
   "execution_count": 14,
   "id": "8885527e",
   "metadata": {},
   "outputs": [],
   "source": [
    "with open('../resources/best_nn_params.pkl', 'rb') as f:\n",
    "    best_params = pickle.load(f)\n",
    "    \n",
    "hidden_layer_sizes_found = best_params.get('hidden_layer_sizes')\n",
    "activation_found = best_params.get('activation')\n",
    "solver_found = best_params.get('solver')\n",
    "alpha_found = best_params.get('alpha')\n",
    "learning_rate_found = best_params.get('learning_rate')"
   ]
  },
  {
   "cell_type": "code",
   "execution_count": 15,
   "id": "0c366f5e",
   "metadata": {},
   "outputs": [],
   "source": [
    "mlp = MLPClassifier(max_iter=500, \n",
    "                    random_state = random_seed,\n",
    "                    hidden_layer_sizes = hidden_layer_sizes_found,\n",
    "                    activation = activation_found,\n",
    "                    solver = solver_found,\n",
    "                    alpha = alpha_found,\n",
    "                    learning_rate = learning_rate_found\n",
    "                   )\n",
    "\n",
    "mlp.fit(X_train, Y_train)\n",
    "\n",
    "train_prediction = mlp.predict(X_train)\n",
    "test_prediction = mlp.predict(X_test)"
   ]
  },
  {
   "cell_type": "code",
   "execution_count": 16,
   "id": "a92bab34",
   "metadata": {},
   "outputs": [
    {
     "name": "stdout",
     "output_type": "stream",
     "text": [
      "Accuracy train score:  1.0\n",
      "Accuracy test score:  0.8907103825136612\n"
     ]
    }
   ],
   "source": [
    "accuracy_train_nn = accuracy_score(Y_train, train_prediction)\n",
    "accuracy_test_nn = accuracy_score(Y_test, test_prediction)\n",
    "\n",
    "print(\"Accuracy train score: \", accuracy_train_nn)\n",
    "print(\"Accuracy test score: \", accuracy_test_nn)"
   ]
  },
  {
   "cell_type": "code",
   "execution_count": 17,
   "id": "f5cc7eae",
   "metadata": {
    "scrolled": true
   },
   "outputs": [
    {
     "data": {
      "image/png": "[encoded data removed]",
      "text/plain": [
       "<Figure size 432x288 with 2 Axes>"
      ]
     },
     "metadata": {
      "needs_background": "light"
     },
     "output_type": "display_data"
    }
   ],
   "source": [
    "cf_matrix = confusion_matrix(Y_test, test_prediction)\n",
    "\n",
    "ax = sns.heatmap(cf_matrix/np.sum(cf_matrix), annot=True, fmt='.2%', cmap='Blues')\n",
    "\n",
    "ax.set_title('Confusion Matrix\\n\\n');\n",
    "ax.set_xlabel('\\nPredicted Values')\n",
    "ax.set_ylabel('Actual Values ');\n",
    "\n",
    "ax.xaxis.set_ticklabels(clusters_name)\n",
    "ax.yaxis.set_ticklabels(clusters_name)\n",
    "\n",
    "plt.show()"
   ]
  },
  {
   "cell_type": "markdown",
   "id": "a707977d",
   "metadata": {},
   "source": [
    "## K-fold Cross Validation"
   ]
  },
  {
   "cell_type": "code",
   "execution_count": 19,
   "id": "21cf93cf",
   "metadata": {},
   "outputs": [
    {
     "name": "stdout",
     "output_type": "stream",
     "text": [
      "Calculating with 5 folds...\n",
      "K cross validation, k=  5\n",
      "Average scores:  0.879489406713\n",
      "Standard Deviation of scores:  0.010403038089812395\n",
      "\n",
      "\n",
      "\n",
      "Calculating with 10 folds...\n",
      "K cross validation, k=  10\n",
      "Average scores:  0.8856277784452722\n",
      "Standard Deviation of scores:  0.012810416147764384\n",
      "\n",
      "\n",
      "\n"
     ]
    }
   ],
   "source": [
    "kCrossValidation(mlp, df_no_lable, labels)"
   ]
  },
  {
   "cell_type": "code",
   "execution_count": null,
   "id": "4fd5a95f",
   "metadata": {},
   "outputs": [],
   "source": []
  }
 ],
 "metadata": {
  "kernelspec": {
   "display_name": "Python 3 (ipykernel)",
   "language": "python",
   "name": "python3"
  },
  "language_info": {
   "codemirror_mode": {
    "name": "ipython",
    "version": 3
   },
   "file_extension": ".py",
   "mimetype": "text/x-python",
   "name": "python",
   "nbconvert_exporter": "python",
   "pygments_lexer": "ipython3",
   "version": "3.9.7"
  }
 },
 "nbformat": 4,
 "nbformat_minor": 5
}
